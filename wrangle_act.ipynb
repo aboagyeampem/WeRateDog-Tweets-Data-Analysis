{
 "cells": [
  {
   "cell_type": "markdown",
   "id": "b7c1527e",
   "metadata": {},
   "source": [
    "# Data Wrangling: Project 2"
   ]
  },
  {
   "cell_type": "markdown",
   "id": "32959231",
   "metadata": {},
   "source": [
    "## Importing Required Libraries\n"
   ]
  },
  {
   "cell_type": "code",
   "execution_count": 1,
   "id": "d10c8899",
   "metadata": {},
   "outputs": [],
   "source": [
    "# import required libraries\n",
    "import numpy as np\n",
    "import pandas as pd\n",
    "import requests\n",
    "import tweepy\n",
    "import json\n",
    "import seaborn as sns\n",
    "import matplotlib.pyplot as plt\n",
    "from matplotlib import style\n",
    "from timeit import default_timer as timer\n",
    "%matplotlib inline"
   ]
  },
  {
   "cell_type": "markdown",
   "id": "a03781d1",
   "metadata": {},
   "source": [
    " "
   ]
  },
  {
   "cell_type": "markdown",
   "id": "1ab0c5a7",
   "metadata": {},
   "source": [
    "   "
   ]
  },
  {
   "cell_type": "markdown",
   "id": "5714fb81",
   "metadata": {},
   "source": [
    "## Data Gathering"
   ]
  },
  {
   "cell_type": "markdown",
   "id": "22cacacd",
   "metadata": {},
   "source": [
    "### Gathering First Dataset Using ```pandas.read_csv()```"
   ]
  },
  {
   "cell_type": "code",
   "execution_count": 2,
   "id": "c36df92a",
   "metadata": {},
   "outputs": [],
   "source": [
    "# reading first dataset into a pandas dataframe\n",
    "twitter_archive = pd.read_csv('twitter-archive-enhanced.csv')"
   ]
  },
  {
   "cell_type": "code",
   "execution_count": 3,
   "id": "8c663f79",
   "metadata": {},
   "outputs": [
    {
     "data": {
      "text/html": [
       "<div>\n",
       "<style scoped>\n",
       "    .dataframe tbody tr th:only-of-type {\n",
       "        vertical-align: middle;\n",
       "    }\n",
       "\n",
       "    .dataframe tbody tr th {\n",
       "        vertical-align: top;\n",
       "    }\n",
       "\n",
       "    .dataframe thead th {\n",
       "        text-align: right;\n",
       "    }\n",
       "</style>\n",
       "<table border=\"1\" class=\"dataframe\">\n",
       "  <thead>\n",
       "    <tr style=\"text-align: right;\">\n",
       "      <th></th>\n",
       "      <th>tweet_id</th>\n",
       "      <th>in_reply_to_status_id</th>\n",
       "      <th>in_reply_to_user_id</th>\n",
       "      <th>timestamp</th>\n",
       "      <th>source</th>\n",
       "      <th>text</th>\n",
       "      <th>retweeted_status_id</th>\n",
       "      <th>retweeted_status_user_id</th>\n",
       "      <th>retweeted_status_timestamp</th>\n",
       "      <th>expanded_urls</th>\n",
       "      <th>rating_numerator</th>\n",
       "      <th>rating_denominator</th>\n",
       "      <th>name</th>\n",
       "      <th>doggo</th>\n",
       "      <th>floofer</th>\n",
       "      <th>pupper</th>\n",
       "      <th>puppo</th>\n",
       "    </tr>\n",
       "  </thead>\n",
       "  <tbody>\n",
       "    <tr>\n",
       "      <th>0</th>\n",
       "      <td>892420643555336193</td>\n",
       "      <td>NaN</td>\n",
       "      <td>NaN</td>\n",
       "      <td>2017-08-01 16:23:56 +0000</td>\n",
       "      <td>&lt;a href=\"http://twitter.com/download/iphone\" r...</td>\n",
       "      <td>This is Phineas. He's a mystical boy. Only eve...</td>\n",
       "      <td>NaN</td>\n",
       "      <td>NaN</td>\n",
       "      <td>NaN</td>\n",
       "      <td>https://twitter.com/dog_rates/status/892420643...</td>\n",
       "      <td>13</td>\n",
       "      <td>10</td>\n",
       "      <td>Phineas</td>\n",
       "      <td>None</td>\n",
       "      <td>None</td>\n",
       "      <td>None</td>\n",
       "      <td>None</td>\n",
       "    </tr>\n",
       "    <tr>\n",
       "      <th>1</th>\n",
       "      <td>892177421306343426</td>\n",
       "      <td>NaN</td>\n",
       "      <td>NaN</td>\n",
       "      <td>2017-08-01 00:17:27 +0000</td>\n",
       "      <td>&lt;a href=\"http://twitter.com/download/iphone\" r...</td>\n",
       "      <td>This is Tilly. She's just checking pup on you....</td>\n",
       "      <td>NaN</td>\n",
       "      <td>NaN</td>\n",
       "      <td>NaN</td>\n",
       "      <td>https://twitter.com/dog_rates/status/892177421...</td>\n",
       "      <td>13</td>\n",
       "      <td>10</td>\n",
       "      <td>Tilly</td>\n",
       "      <td>None</td>\n",
       "      <td>None</td>\n",
       "      <td>None</td>\n",
       "      <td>None</td>\n",
       "    </tr>\n",
       "    <tr>\n",
       "      <th>2</th>\n",
       "      <td>891815181378084864</td>\n",
       "      <td>NaN</td>\n",
       "      <td>NaN</td>\n",
       "      <td>2017-07-31 00:18:03 +0000</td>\n",
       "      <td>&lt;a href=\"http://twitter.com/download/iphone\" r...</td>\n",
       "      <td>This is Archie. He is a rare Norwegian Pouncin...</td>\n",
       "      <td>NaN</td>\n",
       "      <td>NaN</td>\n",
       "      <td>NaN</td>\n",
       "      <td>https://twitter.com/dog_rates/status/891815181...</td>\n",
       "      <td>12</td>\n",
       "      <td>10</td>\n",
       "      <td>Archie</td>\n",
       "      <td>None</td>\n",
       "      <td>None</td>\n",
       "      <td>None</td>\n",
       "      <td>None</td>\n",
       "    </tr>\n",
       "    <tr>\n",
       "      <th>3</th>\n",
       "      <td>891689557279858688</td>\n",
       "      <td>NaN</td>\n",
       "      <td>NaN</td>\n",
       "      <td>2017-07-30 15:58:51 +0000</td>\n",
       "      <td>&lt;a href=\"http://twitter.com/download/iphone\" r...</td>\n",
       "      <td>This is Darla. She commenced a snooze mid meal...</td>\n",
       "      <td>NaN</td>\n",
       "      <td>NaN</td>\n",
       "      <td>NaN</td>\n",
       "      <td>https://twitter.com/dog_rates/status/891689557...</td>\n",
       "      <td>13</td>\n",
       "      <td>10</td>\n",
       "      <td>Darla</td>\n",
       "      <td>None</td>\n",
       "      <td>None</td>\n",
       "      <td>None</td>\n",
       "      <td>None</td>\n",
       "    </tr>\n",
       "    <tr>\n",
       "      <th>4</th>\n",
       "      <td>891327558926688256</td>\n",
       "      <td>NaN</td>\n",
       "      <td>NaN</td>\n",
       "      <td>2017-07-29 16:00:24 +0000</td>\n",
       "      <td>&lt;a href=\"http://twitter.com/download/iphone\" r...</td>\n",
       "      <td>This is Franklin. He would like you to stop ca...</td>\n",
       "      <td>NaN</td>\n",
       "      <td>NaN</td>\n",
       "      <td>NaN</td>\n",
       "      <td>https://twitter.com/dog_rates/status/891327558...</td>\n",
       "      <td>12</td>\n",
       "      <td>10</td>\n",
       "      <td>Franklin</td>\n",
       "      <td>None</td>\n",
       "      <td>None</td>\n",
       "      <td>None</td>\n",
       "      <td>None</td>\n",
       "    </tr>\n",
       "  </tbody>\n",
       "</table>\n",
       "</div>"
      ],
      "text/plain": [
       "             tweet_id  in_reply_to_status_id  in_reply_to_user_id  \\\n",
       "0  892420643555336193                    NaN                  NaN   \n",
       "1  892177421306343426                    NaN                  NaN   \n",
       "2  891815181378084864                    NaN                  NaN   \n",
       "3  891689557279858688                    NaN                  NaN   \n",
       "4  891327558926688256                    NaN                  NaN   \n",
       "\n",
       "                   timestamp  \\\n",
       "0  2017-08-01 16:23:56 +0000   \n",
       "1  2017-08-01 00:17:27 +0000   \n",
       "2  2017-07-31 00:18:03 +0000   \n",
       "3  2017-07-30 15:58:51 +0000   \n",
       "4  2017-07-29 16:00:24 +0000   \n",
       "\n",
       "                                              source  \\\n",
       "0  <a href=\"http://twitter.com/download/iphone\" r...   \n",
       "1  <a href=\"http://twitter.com/download/iphone\" r...   \n",
       "2  <a href=\"http://twitter.com/download/iphone\" r...   \n",
       "3  <a href=\"http://twitter.com/download/iphone\" r...   \n",
       "4  <a href=\"http://twitter.com/download/iphone\" r...   \n",
       "\n",
       "                                                text  retweeted_status_id  \\\n",
       "0  This is Phineas. He's a mystical boy. Only eve...                  NaN   \n",
       "1  This is Tilly. She's just checking pup on you....                  NaN   \n",
       "2  This is Archie. He is a rare Norwegian Pouncin...                  NaN   \n",
       "3  This is Darla. She commenced a snooze mid meal...                  NaN   \n",
       "4  This is Franklin. He would like you to stop ca...                  NaN   \n",
       "\n",
       "   retweeted_status_user_id retweeted_status_timestamp  \\\n",
       "0                       NaN                        NaN   \n",
       "1                       NaN                        NaN   \n",
       "2                       NaN                        NaN   \n",
       "3                       NaN                        NaN   \n",
       "4                       NaN                        NaN   \n",
       "\n",
       "                                       expanded_urls  rating_numerator  \\\n",
       "0  https://twitter.com/dog_rates/status/892420643...                13   \n",
       "1  https://twitter.com/dog_rates/status/892177421...                13   \n",
       "2  https://twitter.com/dog_rates/status/891815181...                12   \n",
       "3  https://twitter.com/dog_rates/status/891689557...                13   \n",
       "4  https://twitter.com/dog_rates/status/891327558...                12   \n",
       "\n",
       "   rating_denominator      name doggo floofer pupper puppo  \n",
       "0                  10   Phineas  None    None   None  None  \n",
       "1                  10     Tilly  None    None   None  None  \n",
       "2                  10    Archie  None    None   None  None  \n",
       "3                  10     Darla  None    None   None  None  \n",
       "4                  10  Franklin  None    None   None  None  "
      ]
     },
     "execution_count": 3,
     "metadata": {},
     "output_type": "execute_result"
    }
   ],
   "source": [
    "# view first five(5) entries of the twitter_archive dataset\n",
    "twitter_archive.head()"
   ]
  },
  {
   "cell_type": "markdown",
   "id": "3f24aa01",
   "metadata": {},
   "source": [
    "### Gathering second dataset programmatically from udacity's servers using the ```request``` library "
   ]
  },
  {
   "cell_type": "code",
   "execution_count": 4,
   "id": "236678eb",
   "metadata": {},
   "outputs": [],
   "source": [
    "# assign url to a variable\n",
    "url = 'https://d17h27t6h515a5.cloudfront.net/topher/2017/August/599fd2ad_image-predictions/image-predictions.tsv'\n",
    "# generate request to the specified url\n",
    "response = requests.get(url)"
   ]
  },
  {
   "cell_type": "code",
   "execution_count": 5,
   "id": "4598abe9",
   "metadata": {},
   "outputs": [],
   "source": [
    "# write content of the response to a file named image_prediction\n",
    "with open('image_predictions', mode='wb') as file:\n",
    "    file.write(response.content)"
   ]
  },
  {
   "cell_type": "code",
   "execution_count": 6,
   "id": "5d7c9060",
   "metadata": {},
   "outputs": [],
   "source": [
    "# read image_prediction file into a dataframe\n",
    "image_predictions = pd.read_csv('image_prediction', sep='\\t')"
   ]
  },
  {
   "cell_type": "code",
   "execution_count": 7,
   "id": "c6098f95",
   "metadata": {},
   "outputs": [
    {
     "data": {
      "text/html": [
       "<div>\n",
       "<style scoped>\n",
       "    .dataframe tbody tr th:only-of-type {\n",
       "        vertical-align: middle;\n",
       "    }\n",
       "\n",
       "    .dataframe tbody tr th {\n",
       "        vertical-align: top;\n",
       "    }\n",
       "\n",
       "    .dataframe thead th {\n",
       "        text-align: right;\n",
       "    }\n",
       "</style>\n",
       "<table border=\"1\" class=\"dataframe\">\n",
       "  <thead>\n",
       "    <tr style=\"text-align: right;\">\n",
       "      <th></th>\n",
       "      <th>tweet_id</th>\n",
       "      <th>jpg_url</th>\n",
       "      <th>img_num</th>\n",
       "      <th>p1</th>\n",
       "      <th>p1_conf</th>\n",
       "      <th>p1_dog</th>\n",
       "      <th>p2</th>\n",
       "      <th>p2_conf</th>\n",
       "      <th>p2_dog</th>\n",
       "      <th>p3</th>\n",
       "      <th>p3_conf</th>\n",
       "      <th>p3_dog</th>\n",
       "    </tr>\n",
       "  </thead>\n",
       "  <tbody>\n",
       "    <tr>\n",
       "      <th>0</th>\n",
       "      <td>666020888022790149</td>\n",
       "      <td>https://pbs.twimg.com/media/CT4udn0WwAA0aMy.jpg</td>\n",
       "      <td>1</td>\n",
       "      <td>Welsh_springer_spaniel</td>\n",
       "      <td>0.465074</td>\n",
       "      <td>True</td>\n",
       "      <td>collie</td>\n",
       "      <td>0.156665</td>\n",
       "      <td>True</td>\n",
       "      <td>Shetland_sheepdog</td>\n",
       "      <td>0.061428</td>\n",
       "      <td>True</td>\n",
       "    </tr>\n",
       "    <tr>\n",
       "      <th>1</th>\n",
       "      <td>666029285002620928</td>\n",
       "      <td>https://pbs.twimg.com/media/CT42GRgUYAA5iDo.jpg</td>\n",
       "      <td>1</td>\n",
       "      <td>redbone</td>\n",
       "      <td>0.506826</td>\n",
       "      <td>True</td>\n",
       "      <td>miniature_pinscher</td>\n",
       "      <td>0.074192</td>\n",
       "      <td>True</td>\n",
       "      <td>Rhodesian_ridgeback</td>\n",
       "      <td>0.072010</td>\n",
       "      <td>True</td>\n",
       "    </tr>\n",
       "    <tr>\n",
       "      <th>2</th>\n",
       "      <td>666033412701032449</td>\n",
       "      <td>https://pbs.twimg.com/media/CT4521TWwAEvMyu.jpg</td>\n",
       "      <td>1</td>\n",
       "      <td>German_shepherd</td>\n",
       "      <td>0.596461</td>\n",
       "      <td>True</td>\n",
       "      <td>malinois</td>\n",
       "      <td>0.138584</td>\n",
       "      <td>True</td>\n",
       "      <td>bloodhound</td>\n",
       "      <td>0.116197</td>\n",
       "      <td>True</td>\n",
       "    </tr>\n",
       "    <tr>\n",
       "      <th>3</th>\n",
       "      <td>666044226329800704</td>\n",
       "      <td>https://pbs.twimg.com/media/CT5Dr8HUEAA-lEu.jpg</td>\n",
       "      <td>1</td>\n",
       "      <td>Rhodesian_ridgeback</td>\n",
       "      <td>0.408143</td>\n",
       "      <td>True</td>\n",
       "      <td>redbone</td>\n",
       "      <td>0.360687</td>\n",
       "      <td>True</td>\n",
       "      <td>miniature_pinscher</td>\n",
       "      <td>0.222752</td>\n",
       "      <td>True</td>\n",
       "    </tr>\n",
       "    <tr>\n",
       "      <th>4</th>\n",
       "      <td>666049248165822465</td>\n",
       "      <td>https://pbs.twimg.com/media/CT5IQmsXIAAKY4A.jpg</td>\n",
       "      <td>1</td>\n",
       "      <td>miniature_pinscher</td>\n",
       "      <td>0.560311</td>\n",
       "      <td>True</td>\n",
       "      <td>Rottweiler</td>\n",
       "      <td>0.243682</td>\n",
       "      <td>True</td>\n",
       "      <td>Doberman</td>\n",
       "      <td>0.154629</td>\n",
       "      <td>True</td>\n",
       "    </tr>\n",
       "  </tbody>\n",
       "</table>\n",
       "</div>"
      ],
      "text/plain": [
       "             tweet_id                                          jpg_url  \\\n",
       "0  666020888022790149  https://pbs.twimg.com/media/CT4udn0WwAA0aMy.jpg   \n",
       "1  666029285002620928  https://pbs.twimg.com/media/CT42GRgUYAA5iDo.jpg   \n",
       "2  666033412701032449  https://pbs.twimg.com/media/CT4521TWwAEvMyu.jpg   \n",
       "3  666044226329800704  https://pbs.twimg.com/media/CT5Dr8HUEAA-lEu.jpg   \n",
       "4  666049248165822465  https://pbs.twimg.com/media/CT5IQmsXIAAKY4A.jpg   \n",
       "\n",
       "   img_num                      p1   p1_conf  p1_dog                  p2  \\\n",
       "0        1  Welsh_springer_spaniel  0.465074    True              collie   \n",
       "1        1                 redbone  0.506826    True  miniature_pinscher   \n",
       "2        1         German_shepherd  0.596461    True            malinois   \n",
       "3        1     Rhodesian_ridgeback  0.408143    True             redbone   \n",
       "4        1      miniature_pinscher  0.560311    True          Rottweiler   \n",
       "\n",
       "    p2_conf  p2_dog                   p3   p3_conf  p3_dog  \n",
       "0  0.156665    True    Shetland_sheepdog  0.061428    True  \n",
       "1  0.074192    True  Rhodesian_ridgeback  0.072010    True  \n",
       "2  0.138584    True           bloodhound  0.116197    True  \n",
       "3  0.360687    True   miniature_pinscher  0.222752    True  \n",
       "4  0.243682    True             Doberman  0.154629    True  "
      ]
     },
     "execution_count": 7,
     "metadata": {},
     "output_type": "execute_result"
    }
   ],
   "source": [
    "# view top 5 entries in the image_predictions dataset\n",
    "image_predictions.head()"
   ]
  },
  {
   "cell_type": "markdown",
   "id": "435a842f",
   "metadata": {},
   "source": [
    "### Gathering Third Dataset from Provided JSON File"
   ]
  },
  {
   "cell_type": "code",
   "execution_count": 8,
   "id": "2de43582",
   "metadata": {},
   "outputs": [
    {
     "data": {
      "text/plain": [
       "0.4002695000000003"
      ]
     },
     "execution_count": 8,
     "metadata": {},
     "output_type": "execute_result"
    }
   ],
   "source": [
    "# create empty list called tweet_list\n",
    "tweet_list = []\n",
    "# set start time \n",
    "start = timer()\n",
    "# read each line in the text file\n",
    "with open('tweet_json.text', 'r') as file:\n",
    "    # iterate and append each line of entry in the tweet_json file to tweet_list\n",
    "    for line in file:\n",
    "        data = json.loads(line)\n",
    "        tweet_list.append(data)\n",
    "#set end time\n",
    "end = timer()\n",
    "\n",
    "# convert created list into a data frame\n",
    "tweet_json = pd.DataFrame(tweet_list, columns = ['id', 'retweet_count', 'favorite_count'])\n",
    "\n",
    "# compute time taken for code to completely run\n",
    "end-start"
   ]
  },
  {
   "cell_type": "code",
   "execution_count": 9,
   "id": "fd7798f1",
   "metadata": {
    "scrolled": true
   },
   "outputs": [
    {
     "data": {
      "text/html": [
       "<div>\n",
       "<style scoped>\n",
       "    .dataframe tbody tr th:only-of-type {\n",
       "        vertical-align: middle;\n",
       "    }\n",
       "\n",
       "    .dataframe tbody tr th {\n",
       "        vertical-align: top;\n",
       "    }\n",
       "\n",
       "    .dataframe thead th {\n",
       "        text-align: right;\n",
       "    }\n",
       "</style>\n",
       "<table border=\"1\" class=\"dataframe\">\n",
       "  <thead>\n",
       "    <tr style=\"text-align: right;\">\n",
       "      <th></th>\n",
       "      <th>id</th>\n",
       "      <th>retweet_count</th>\n",
       "      <th>favorite_count</th>\n",
       "    </tr>\n",
       "  </thead>\n",
       "  <tbody>\n",
       "    <tr>\n",
       "      <th>0</th>\n",
       "      <td>892420643555336193</td>\n",
       "      <td>8853</td>\n",
       "      <td>39467</td>\n",
       "    </tr>\n",
       "    <tr>\n",
       "      <th>1</th>\n",
       "      <td>892177421306343426</td>\n",
       "      <td>6514</td>\n",
       "      <td>33819</td>\n",
       "    </tr>\n",
       "    <tr>\n",
       "      <th>2</th>\n",
       "      <td>891815181378084864</td>\n",
       "      <td>4328</td>\n",
       "      <td>25461</td>\n",
       "    </tr>\n",
       "    <tr>\n",
       "      <th>3</th>\n",
       "      <td>891689557279858688</td>\n",
       "      <td>8964</td>\n",
       "      <td>42908</td>\n",
       "    </tr>\n",
       "    <tr>\n",
       "      <th>4</th>\n",
       "      <td>891327558926688256</td>\n",
       "      <td>9774</td>\n",
       "      <td>41048</td>\n",
       "    </tr>\n",
       "  </tbody>\n",
       "</table>\n",
       "</div>"
      ],
      "text/plain": [
       "                   id  retweet_count  favorite_count\n",
       "0  892420643555336193           8853           39467\n",
       "1  892177421306343426           6514           33819\n",
       "2  891815181378084864           4328           25461\n",
       "3  891689557279858688           8964           42908\n",
       "4  891327558926688256           9774           41048"
      ]
     },
     "execution_count": 9,
     "metadata": {},
     "output_type": "execute_result"
    }
   ],
   "source": [
    "# observe first 5 entries of created dataframe tweet_json\n",
    "tweet_json.head()"
   ]
  },
  {
   "cell_type": "markdown",
   "id": "18c8274a",
   "metadata": {},
   "source": [
    " "
   ]
  },
  {
   "cell_type": "markdown",
   "id": "d8777e47",
   "metadata": {},
   "source": [
    " "
   ]
  },
  {
   "cell_type": "markdown",
   "id": "b44505c1",
   "metadata": {},
   "source": [
    "## Assessing Datasets"
   ]
  },
  {
   "cell_type": "markdown",
   "id": "2a9ac71e",
   "metadata": {},
   "source": [
    "### Visual Assessment (Further Assessment Done Using  MS Excel)"
   ]
  },
  {
   "cell_type": "markdown",
   "id": "c741bd57",
   "metadata": {},
   "source": [
    "#### Assessing ```twitter_archive``` dataset"
   ]
  },
  {
   "cell_type": "code",
   "execution_count": 10,
   "id": "8bbd59d6",
   "metadata": {
    "scrolled": true
   },
   "outputs": [
    {
     "data": {
      "text/html": [
       "<div>\n",
       "<style scoped>\n",
       "    .dataframe tbody tr th:only-of-type {\n",
       "        vertical-align: middle;\n",
       "    }\n",
       "\n",
       "    .dataframe tbody tr th {\n",
       "        vertical-align: top;\n",
       "    }\n",
       "\n",
       "    .dataframe thead th {\n",
       "        text-align: right;\n",
       "    }\n",
       "</style>\n",
       "<table border=\"1\" class=\"dataframe\">\n",
       "  <thead>\n",
       "    <tr style=\"text-align: right;\">\n",
       "      <th></th>\n",
       "      <th>tweet_id</th>\n",
       "      <th>in_reply_to_status_id</th>\n",
       "      <th>in_reply_to_user_id</th>\n",
       "      <th>timestamp</th>\n",
       "      <th>source</th>\n",
       "      <th>text</th>\n",
       "      <th>retweeted_status_id</th>\n",
       "      <th>retweeted_status_user_id</th>\n",
       "      <th>retweeted_status_timestamp</th>\n",
       "      <th>expanded_urls</th>\n",
       "      <th>rating_numerator</th>\n",
       "      <th>rating_denominator</th>\n",
       "      <th>name</th>\n",
       "      <th>doggo</th>\n",
       "      <th>floofer</th>\n",
       "      <th>pupper</th>\n",
       "      <th>puppo</th>\n",
       "    </tr>\n",
       "  </thead>\n",
       "  <tbody>\n",
       "    <tr>\n",
       "      <th>0</th>\n",
       "      <td>892420643555336193</td>\n",
       "      <td>NaN</td>\n",
       "      <td>NaN</td>\n",
       "      <td>2017-08-01 16:23:56 +0000</td>\n",
       "      <td>&lt;a href=\"http://twitter.com/download/iphone\" r...</td>\n",
       "      <td>This is Phineas. He's a mystical boy. Only eve...</td>\n",
       "      <td>NaN</td>\n",
       "      <td>NaN</td>\n",
       "      <td>NaN</td>\n",
       "      <td>https://twitter.com/dog_rates/status/892420643...</td>\n",
       "      <td>13</td>\n",
       "      <td>10</td>\n",
       "      <td>Phineas</td>\n",
       "      <td>None</td>\n",
       "      <td>None</td>\n",
       "      <td>None</td>\n",
       "      <td>None</td>\n",
       "    </tr>\n",
       "    <tr>\n",
       "      <th>1</th>\n",
       "      <td>892177421306343426</td>\n",
       "      <td>NaN</td>\n",
       "      <td>NaN</td>\n",
       "      <td>2017-08-01 00:17:27 +0000</td>\n",
       "      <td>&lt;a href=\"http://twitter.com/download/iphone\" r...</td>\n",
       "      <td>This is Tilly. She's just checking pup on you....</td>\n",
       "      <td>NaN</td>\n",
       "      <td>NaN</td>\n",
       "      <td>NaN</td>\n",
       "      <td>https://twitter.com/dog_rates/status/892177421...</td>\n",
       "      <td>13</td>\n",
       "      <td>10</td>\n",
       "      <td>Tilly</td>\n",
       "      <td>None</td>\n",
       "      <td>None</td>\n",
       "      <td>None</td>\n",
       "      <td>None</td>\n",
       "    </tr>\n",
       "    <tr>\n",
       "      <th>2</th>\n",
       "      <td>891815181378084864</td>\n",
       "      <td>NaN</td>\n",
       "      <td>NaN</td>\n",
       "      <td>2017-07-31 00:18:03 +0000</td>\n",
       "      <td>&lt;a href=\"http://twitter.com/download/iphone\" r...</td>\n",
       "      <td>This is Archie. He is a rare Norwegian Pouncin...</td>\n",
       "      <td>NaN</td>\n",
       "      <td>NaN</td>\n",
       "      <td>NaN</td>\n",
       "      <td>https://twitter.com/dog_rates/status/891815181...</td>\n",
       "      <td>12</td>\n",
       "      <td>10</td>\n",
       "      <td>Archie</td>\n",
       "      <td>None</td>\n",
       "      <td>None</td>\n",
       "      <td>None</td>\n",
       "      <td>None</td>\n",
       "    </tr>\n",
       "    <tr>\n",
       "      <th>3</th>\n",
       "      <td>891689557279858688</td>\n",
       "      <td>NaN</td>\n",
       "      <td>NaN</td>\n",
       "      <td>2017-07-30 15:58:51 +0000</td>\n",
       "      <td>&lt;a href=\"http://twitter.com/download/iphone\" r...</td>\n",
       "      <td>This is Darla. She commenced a snooze mid meal...</td>\n",
       "      <td>NaN</td>\n",
       "      <td>NaN</td>\n",
       "      <td>NaN</td>\n",
       "      <td>https://twitter.com/dog_rates/status/891689557...</td>\n",
       "      <td>13</td>\n",
       "      <td>10</td>\n",
       "      <td>Darla</td>\n",
       "      <td>None</td>\n",
       "      <td>None</td>\n",
       "      <td>None</td>\n",
       "      <td>None</td>\n",
       "    </tr>\n",
       "    <tr>\n",
       "      <th>4</th>\n",
       "      <td>891327558926688256</td>\n",
       "      <td>NaN</td>\n",
       "      <td>NaN</td>\n",
       "      <td>2017-07-29 16:00:24 +0000</td>\n",
       "      <td>&lt;a href=\"http://twitter.com/download/iphone\" r...</td>\n",
       "      <td>This is Franklin. He would like you to stop ca...</td>\n",
       "      <td>NaN</td>\n",
       "      <td>NaN</td>\n",
       "      <td>NaN</td>\n",
       "      <td>https://twitter.com/dog_rates/status/891327558...</td>\n",
       "      <td>12</td>\n",
       "      <td>10</td>\n",
       "      <td>Franklin</td>\n",
       "      <td>None</td>\n",
       "      <td>None</td>\n",
       "      <td>None</td>\n",
       "      <td>None</td>\n",
       "    </tr>\n",
       "    <tr>\n",
       "      <th>...</th>\n",
       "      <td>...</td>\n",
       "      <td>...</td>\n",
       "      <td>...</td>\n",
       "      <td>...</td>\n",
       "      <td>...</td>\n",
       "      <td>...</td>\n",
       "      <td>...</td>\n",
       "      <td>...</td>\n",
       "      <td>...</td>\n",
       "      <td>...</td>\n",
       "      <td>...</td>\n",
       "      <td>...</td>\n",
       "      <td>...</td>\n",
       "      <td>...</td>\n",
       "      <td>...</td>\n",
       "      <td>...</td>\n",
       "      <td>...</td>\n",
       "    </tr>\n",
       "    <tr>\n",
       "      <th>2351</th>\n",
       "      <td>666049248165822465</td>\n",
       "      <td>NaN</td>\n",
       "      <td>NaN</td>\n",
       "      <td>2015-11-16 00:24:50 +0000</td>\n",
       "      <td>&lt;a href=\"http://twitter.com/download/iphone\" r...</td>\n",
       "      <td>Here we have a 1949 1st generation vulpix. Enj...</td>\n",
       "      <td>NaN</td>\n",
       "      <td>NaN</td>\n",
       "      <td>NaN</td>\n",
       "      <td>https://twitter.com/dog_rates/status/666049248...</td>\n",
       "      <td>5</td>\n",
       "      <td>10</td>\n",
       "      <td>None</td>\n",
       "      <td>None</td>\n",
       "      <td>None</td>\n",
       "      <td>None</td>\n",
       "      <td>None</td>\n",
       "    </tr>\n",
       "    <tr>\n",
       "      <th>2352</th>\n",
       "      <td>666044226329800704</td>\n",
       "      <td>NaN</td>\n",
       "      <td>NaN</td>\n",
       "      <td>2015-11-16 00:04:52 +0000</td>\n",
       "      <td>&lt;a href=\"http://twitter.com/download/iphone\" r...</td>\n",
       "      <td>This is a purebred Piers Morgan. Loves to Netf...</td>\n",
       "      <td>NaN</td>\n",
       "      <td>NaN</td>\n",
       "      <td>NaN</td>\n",
       "      <td>https://twitter.com/dog_rates/status/666044226...</td>\n",
       "      <td>6</td>\n",
       "      <td>10</td>\n",
       "      <td>a</td>\n",
       "      <td>None</td>\n",
       "      <td>None</td>\n",
       "      <td>None</td>\n",
       "      <td>None</td>\n",
       "    </tr>\n",
       "    <tr>\n",
       "      <th>2353</th>\n",
       "      <td>666033412701032449</td>\n",
       "      <td>NaN</td>\n",
       "      <td>NaN</td>\n",
       "      <td>2015-11-15 23:21:54 +0000</td>\n",
       "      <td>&lt;a href=\"http://twitter.com/download/iphone\" r...</td>\n",
       "      <td>Here is a very happy pup. Big fan of well-main...</td>\n",
       "      <td>NaN</td>\n",
       "      <td>NaN</td>\n",
       "      <td>NaN</td>\n",
       "      <td>https://twitter.com/dog_rates/status/666033412...</td>\n",
       "      <td>9</td>\n",
       "      <td>10</td>\n",
       "      <td>a</td>\n",
       "      <td>None</td>\n",
       "      <td>None</td>\n",
       "      <td>None</td>\n",
       "      <td>None</td>\n",
       "    </tr>\n",
       "    <tr>\n",
       "      <th>2354</th>\n",
       "      <td>666029285002620928</td>\n",
       "      <td>NaN</td>\n",
       "      <td>NaN</td>\n",
       "      <td>2015-11-15 23:05:30 +0000</td>\n",
       "      <td>&lt;a href=\"http://twitter.com/download/iphone\" r...</td>\n",
       "      <td>This is a western brown Mitsubishi terrier. Up...</td>\n",
       "      <td>NaN</td>\n",
       "      <td>NaN</td>\n",
       "      <td>NaN</td>\n",
       "      <td>https://twitter.com/dog_rates/status/666029285...</td>\n",
       "      <td>7</td>\n",
       "      <td>10</td>\n",
       "      <td>a</td>\n",
       "      <td>None</td>\n",
       "      <td>None</td>\n",
       "      <td>None</td>\n",
       "      <td>None</td>\n",
       "    </tr>\n",
       "    <tr>\n",
       "      <th>2355</th>\n",
       "      <td>666020888022790149</td>\n",
       "      <td>NaN</td>\n",
       "      <td>NaN</td>\n",
       "      <td>2015-11-15 22:32:08 +0000</td>\n",
       "      <td>&lt;a href=\"http://twitter.com/download/iphone\" r...</td>\n",
       "      <td>Here we have a Japanese Irish Setter. Lost eye...</td>\n",
       "      <td>NaN</td>\n",
       "      <td>NaN</td>\n",
       "      <td>NaN</td>\n",
       "      <td>https://twitter.com/dog_rates/status/666020888...</td>\n",
       "      <td>8</td>\n",
       "      <td>10</td>\n",
       "      <td>None</td>\n",
       "      <td>None</td>\n",
       "      <td>None</td>\n",
       "      <td>None</td>\n",
       "      <td>None</td>\n",
       "    </tr>\n",
       "  </tbody>\n",
       "</table>\n",
       "<p>2356 rows × 17 columns</p>\n",
       "</div>"
      ],
      "text/plain": [
       "                tweet_id  in_reply_to_status_id  in_reply_to_user_id  \\\n",
       "0     892420643555336193                    NaN                  NaN   \n",
       "1     892177421306343426                    NaN                  NaN   \n",
       "2     891815181378084864                    NaN                  NaN   \n",
       "3     891689557279858688                    NaN                  NaN   \n",
       "4     891327558926688256                    NaN                  NaN   \n",
       "...                  ...                    ...                  ...   \n",
       "2351  666049248165822465                    NaN                  NaN   \n",
       "2352  666044226329800704                    NaN                  NaN   \n",
       "2353  666033412701032449                    NaN                  NaN   \n",
       "2354  666029285002620928                    NaN                  NaN   \n",
       "2355  666020888022790149                    NaN                  NaN   \n",
       "\n",
       "                      timestamp  \\\n",
       "0     2017-08-01 16:23:56 +0000   \n",
       "1     2017-08-01 00:17:27 +0000   \n",
       "2     2017-07-31 00:18:03 +0000   \n",
       "3     2017-07-30 15:58:51 +0000   \n",
       "4     2017-07-29 16:00:24 +0000   \n",
       "...                         ...   \n",
       "2351  2015-11-16 00:24:50 +0000   \n",
       "2352  2015-11-16 00:04:52 +0000   \n",
       "2353  2015-11-15 23:21:54 +0000   \n",
       "2354  2015-11-15 23:05:30 +0000   \n",
       "2355  2015-11-15 22:32:08 +0000   \n",
       "\n",
       "                                                 source  \\\n",
       "0     <a href=\"http://twitter.com/download/iphone\" r...   \n",
       "1     <a href=\"http://twitter.com/download/iphone\" r...   \n",
       "2     <a href=\"http://twitter.com/download/iphone\" r...   \n",
       "3     <a href=\"http://twitter.com/download/iphone\" r...   \n",
       "4     <a href=\"http://twitter.com/download/iphone\" r...   \n",
       "...                                                 ...   \n",
       "2351  <a href=\"http://twitter.com/download/iphone\" r...   \n",
       "2352  <a href=\"http://twitter.com/download/iphone\" r...   \n",
       "2353  <a href=\"http://twitter.com/download/iphone\" r...   \n",
       "2354  <a href=\"http://twitter.com/download/iphone\" r...   \n",
       "2355  <a href=\"http://twitter.com/download/iphone\" r...   \n",
       "\n",
       "                                                   text  retweeted_status_id  \\\n",
       "0     This is Phineas. He's a mystical boy. Only eve...                  NaN   \n",
       "1     This is Tilly. She's just checking pup on you....                  NaN   \n",
       "2     This is Archie. He is a rare Norwegian Pouncin...                  NaN   \n",
       "3     This is Darla. She commenced a snooze mid meal...                  NaN   \n",
       "4     This is Franklin. He would like you to stop ca...                  NaN   \n",
       "...                                                 ...                  ...   \n",
       "2351  Here we have a 1949 1st generation vulpix. Enj...                  NaN   \n",
       "2352  This is a purebred Piers Morgan. Loves to Netf...                  NaN   \n",
       "2353  Here is a very happy pup. Big fan of well-main...                  NaN   \n",
       "2354  This is a western brown Mitsubishi terrier. Up...                  NaN   \n",
       "2355  Here we have a Japanese Irish Setter. Lost eye...                  NaN   \n",
       "\n",
       "      retweeted_status_user_id retweeted_status_timestamp  \\\n",
       "0                          NaN                        NaN   \n",
       "1                          NaN                        NaN   \n",
       "2                          NaN                        NaN   \n",
       "3                          NaN                        NaN   \n",
       "4                          NaN                        NaN   \n",
       "...                        ...                        ...   \n",
       "2351                       NaN                        NaN   \n",
       "2352                       NaN                        NaN   \n",
       "2353                       NaN                        NaN   \n",
       "2354                       NaN                        NaN   \n",
       "2355                       NaN                        NaN   \n",
       "\n",
       "                                          expanded_urls  rating_numerator  \\\n",
       "0     https://twitter.com/dog_rates/status/892420643...                13   \n",
       "1     https://twitter.com/dog_rates/status/892177421...                13   \n",
       "2     https://twitter.com/dog_rates/status/891815181...                12   \n",
       "3     https://twitter.com/dog_rates/status/891689557...                13   \n",
       "4     https://twitter.com/dog_rates/status/891327558...                12   \n",
       "...                                                 ...               ...   \n",
       "2351  https://twitter.com/dog_rates/status/666049248...                 5   \n",
       "2352  https://twitter.com/dog_rates/status/666044226...                 6   \n",
       "2353  https://twitter.com/dog_rates/status/666033412...                 9   \n",
       "2354  https://twitter.com/dog_rates/status/666029285...                 7   \n",
       "2355  https://twitter.com/dog_rates/status/666020888...                 8   \n",
       "\n",
       "      rating_denominator      name doggo floofer pupper puppo  \n",
       "0                     10   Phineas  None    None   None  None  \n",
       "1                     10     Tilly  None    None   None  None  \n",
       "2                     10    Archie  None    None   None  None  \n",
       "3                     10     Darla  None    None   None  None  \n",
       "4                     10  Franklin  None    None   None  None  \n",
       "...                  ...       ...   ...     ...    ...   ...  \n",
       "2351                  10      None  None    None   None  None  \n",
       "2352                  10         a  None    None   None  None  \n",
       "2353                  10         a  None    None   None  None  \n",
       "2354                  10         a  None    None   None  None  \n",
       "2355                  10      None  None    None   None  None  \n",
       "\n",
       "[2356 rows x 17 columns]"
      ]
     },
     "execution_count": 10,
     "metadata": {},
     "output_type": "execute_result"
    }
   ],
   "source": [
    "# view twitter archive dataset for visuall assessment\n",
    "twitter_archive"
   ]
  },
  {
   "cell_type": "markdown",
   "id": "7fbb1b07",
   "metadata": {},
   "source": [
    "#### Description of twitter_archive dataset columns\n",
    "\n",
    "1) __tweet_id__ -- represents the dedicated identifier for each tweet\n",
    "\n",
    "2) __in_reply_to_status_id__ -- the integer representation of the tweet_id if the tweet is a reply \n",
    "\n",
    "3) __in_reply_to_user_id__ -- the integer representation of the author id of the original tweet if a tweet is a reply\n",
    "\n",
    "4) __timestamp__ -- time when a tweet was created / made\n",
    "\n",
    "5) __source__ -- an html forrmatted string representing the utility used to post a tweet.\n",
    "\n",
    "6) __text__ -- actual UTF-8 text of the status update\n",
    "\n",
    "7) __retweeted_status_id__ -- the integer representation of the id of the original tweet if a tweet is a retweet\n",
    "\n",
    "8) __retweeted_status_user_id__ -- the integer representation of the author id of the original tweet if a tweet is a \n",
    "   retweet\n",
    "\n",
    "9) __retweeted_status_timestamp__ -- time of retweet\n",
    "\n",
    "10) __expanded_urls__ -- tweet URLs\n",
    "\n",
    "11) __rating_numerator__ -- numerator of the rating of a dog which is almost always greater than 10.\n",
    "\n",
    "12) __rating_denominator__ -- denominator of the rating of a dog which is 10\n",
    "\n",
    "13) __name__ -- name of the dog\n",
    "\n",
    "14) __doggo__ -- one out of the four dog stages\n",
    "\n",
    "15) __floofer__ -- one out of the four dog stages\n",
    "\n",
    "16) __pupper__ -- one out of the four dog stages\n",
    "\n",
    "17) __puppo__ -- one out of the four dog stages"
   ]
  },
  {
   "cell_type": "markdown",
   "id": "893f7814",
   "metadata": {},
   "source": [
    " "
   ]
  },
  {
   "cell_type": "markdown",
   "id": "7a846530",
   "metadata": {},
   "source": [
    "#### Assessing image_predictions dataset"
   ]
  },
  {
   "cell_type": "code",
   "execution_count": 11,
   "id": "d168fa04",
   "metadata": {},
   "outputs": [
    {
     "data": {
      "text/html": [
       "<div>\n",
       "<style scoped>\n",
       "    .dataframe tbody tr th:only-of-type {\n",
       "        vertical-align: middle;\n",
       "    }\n",
       "\n",
       "    .dataframe tbody tr th {\n",
       "        vertical-align: top;\n",
       "    }\n",
       "\n",
       "    .dataframe thead th {\n",
       "        text-align: right;\n",
       "    }\n",
       "</style>\n",
       "<table border=\"1\" class=\"dataframe\">\n",
       "  <thead>\n",
       "    <tr style=\"text-align: right;\">\n",
       "      <th></th>\n",
       "      <th>tweet_id</th>\n",
       "      <th>jpg_url</th>\n",
       "      <th>img_num</th>\n",
       "      <th>p1</th>\n",
       "      <th>p1_conf</th>\n",
       "      <th>p1_dog</th>\n",
       "      <th>p2</th>\n",
       "      <th>p2_conf</th>\n",
       "      <th>p2_dog</th>\n",
       "      <th>p3</th>\n",
       "      <th>p3_conf</th>\n",
       "      <th>p3_dog</th>\n",
       "    </tr>\n",
       "  </thead>\n",
       "  <tbody>\n",
       "    <tr>\n",
       "      <th>0</th>\n",
       "      <td>666020888022790149</td>\n",
       "      <td>https://pbs.twimg.com/media/CT4udn0WwAA0aMy.jpg</td>\n",
       "      <td>1</td>\n",
       "      <td>Welsh_springer_spaniel</td>\n",
       "      <td>0.465074</td>\n",
       "      <td>True</td>\n",
       "      <td>collie</td>\n",
       "      <td>0.156665</td>\n",
       "      <td>True</td>\n",
       "      <td>Shetland_sheepdog</td>\n",
       "      <td>0.061428</td>\n",
       "      <td>True</td>\n",
       "    </tr>\n",
       "    <tr>\n",
       "      <th>1</th>\n",
       "      <td>666029285002620928</td>\n",
       "      <td>https://pbs.twimg.com/media/CT42GRgUYAA5iDo.jpg</td>\n",
       "      <td>1</td>\n",
       "      <td>redbone</td>\n",
       "      <td>0.506826</td>\n",
       "      <td>True</td>\n",
       "      <td>miniature_pinscher</td>\n",
       "      <td>0.074192</td>\n",
       "      <td>True</td>\n",
       "      <td>Rhodesian_ridgeback</td>\n",
       "      <td>0.072010</td>\n",
       "      <td>True</td>\n",
       "    </tr>\n",
       "    <tr>\n",
       "      <th>2</th>\n",
       "      <td>666033412701032449</td>\n",
       "      <td>https://pbs.twimg.com/media/CT4521TWwAEvMyu.jpg</td>\n",
       "      <td>1</td>\n",
       "      <td>German_shepherd</td>\n",
       "      <td>0.596461</td>\n",
       "      <td>True</td>\n",
       "      <td>malinois</td>\n",
       "      <td>0.138584</td>\n",
       "      <td>True</td>\n",
       "      <td>bloodhound</td>\n",
       "      <td>0.116197</td>\n",
       "      <td>True</td>\n",
       "    </tr>\n",
       "    <tr>\n",
       "      <th>3</th>\n",
       "      <td>666044226329800704</td>\n",
       "      <td>https://pbs.twimg.com/media/CT5Dr8HUEAA-lEu.jpg</td>\n",
       "      <td>1</td>\n",
       "      <td>Rhodesian_ridgeback</td>\n",
       "      <td>0.408143</td>\n",
       "      <td>True</td>\n",
       "      <td>redbone</td>\n",
       "      <td>0.360687</td>\n",
       "      <td>True</td>\n",
       "      <td>miniature_pinscher</td>\n",
       "      <td>0.222752</td>\n",
       "      <td>True</td>\n",
       "    </tr>\n",
       "    <tr>\n",
       "      <th>4</th>\n",
       "      <td>666049248165822465</td>\n",
       "      <td>https://pbs.twimg.com/media/CT5IQmsXIAAKY4A.jpg</td>\n",
       "      <td>1</td>\n",
       "      <td>miniature_pinscher</td>\n",
       "      <td>0.560311</td>\n",
       "      <td>True</td>\n",
       "      <td>Rottweiler</td>\n",
       "      <td>0.243682</td>\n",
       "      <td>True</td>\n",
       "      <td>Doberman</td>\n",
       "      <td>0.154629</td>\n",
       "      <td>True</td>\n",
       "    </tr>\n",
       "    <tr>\n",
       "      <th>...</th>\n",
       "      <td>...</td>\n",
       "      <td>...</td>\n",
       "      <td>...</td>\n",
       "      <td>...</td>\n",
       "      <td>...</td>\n",
       "      <td>...</td>\n",
       "      <td>...</td>\n",
       "      <td>...</td>\n",
       "      <td>...</td>\n",
       "      <td>...</td>\n",
       "      <td>...</td>\n",
       "      <td>...</td>\n",
       "    </tr>\n",
       "    <tr>\n",
       "      <th>2070</th>\n",
       "      <td>891327558926688256</td>\n",
       "      <td>https://pbs.twimg.com/media/DF6hr6BUMAAzZgT.jpg</td>\n",
       "      <td>2</td>\n",
       "      <td>basset</td>\n",
       "      <td>0.555712</td>\n",
       "      <td>True</td>\n",
       "      <td>English_springer</td>\n",
       "      <td>0.225770</td>\n",
       "      <td>True</td>\n",
       "      <td>German_short-haired_pointer</td>\n",
       "      <td>0.175219</td>\n",
       "      <td>True</td>\n",
       "    </tr>\n",
       "    <tr>\n",
       "      <th>2071</th>\n",
       "      <td>891689557279858688</td>\n",
       "      <td>https://pbs.twimg.com/media/DF_q7IAWsAEuuN8.jpg</td>\n",
       "      <td>1</td>\n",
       "      <td>paper_towel</td>\n",
       "      <td>0.170278</td>\n",
       "      <td>False</td>\n",
       "      <td>Labrador_retriever</td>\n",
       "      <td>0.168086</td>\n",
       "      <td>True</td>\n",
       "      <td>spatula</td>\n",
       "      <td>0.040836</td>\n",
       "      <td>False</td>\n",
       "    </tr>\n",
       "    <tr>\n",
       "      <th>2072</th>\n",
       "      <td>891815181378084864</td>\n",
       "      <td>https://pbs.twimg.com/media/DGBdLU1WsAANxJ9.jpg</td>\n",
       "      <td>1</td>\n",
       "      <td>Chihuahua</td>\n",
       "      <td>0.716012</td>\n",
       "      <td>True</td>\n",
       "      <td>malamute</td>\n",
       "      <td>0.078253</td>\n",
       "      <td>True</td>\n",
       "      <td>kelpie</td>\n",
       "      <td>0.031379</td>\n",
       "      <td>True</td>\n",
       "    </tr>\n",
       "    <tr>\n",
       "      <th>2073</th>\n",
       "      <td>892177421306343426</td>\n",
       "      <td>https://pbs.twimg.com/media/DGGmoV4XsAAUL6n.jpg</td>\n",
       "      <td>1</td>\n",
       "      <td>Chihuahua</td>\n",
       "      <td>0.323581</td>\n",
       "      <td>True</td>\n",
       "      <td>Pekinese</td>\n",
       "      <td>0.090647</td>\n",
       "      <td>True</td>\n",
       "      <td>papillon</td>\n",
       "      <td>0.068957</td>\n",
       "      <td>True</td>\n",
       "    </tr>\n",
       "    <tr>\n",
       "      <th>2074</th>\n",
       "      <td>892420643555336193</td>\n",
       "      <td>https://pbs.twimg.com/media/DGKD1-bXoAAIAUK.jpg</td>\n",
       "      <td>1</td>\n",
       "      <td>orange</td>\n",
       "      <td>0.097049</td>\n",
       "      <td>False</td>\n",
       "      <td>bagel</td>\n",
       "      <td>0.085851</td>\n",
       "      <td>False</td>\n",
       "      <td>banana</td>\n",
       "      <td>0.076110</td>\n",
       "      <td>False</td>\n",
       "    </tr>\n",
       "  </tbody>\n",
       "</table>\n",
       "<p>2075 rows × 12 columns</p>\n",
       "</div>"
      ],
      "text/plain": [
       "                tweet_id                                          jpg_url  \\\n",
       "0     666020888022790149  https://pbs.twimg.com/media/CT4udn0WwAA0aMy.jpg   \n",
       "1     666029285002620928  https://pbs.twimg.com/media/CT42GRgUYAA5iDo.jpg   \n",
       "2     666033412701032449  https://pbs.twimg.com/media/CT4521TWwAEvMyu.jpg   \n",
       "3     666044226329800704  https://pbs.twimg.com/media/CT5Dr8HUEAA-lEu.jpg   \n",
       "4     666049248165822465  https://pbs.twimg.com/media/CT5IQmsXIAAKY4A.jpg   \n",
       "...                  ...                                              ...   \n",
       "2070  891327558926688256  https://pbs.twimg.com/media/DF6hr6BUMAAzZgT.jpg   \n",
       "2071  891689557279858688  https://pbs.twimg.com/media/DF_q7IAWsAEuuN8.jpg   \n",
       "2072  891815181378084864  https://pbs.twimg.com/media/DGBdLU1WsAANxJ9.jpg   \n",
       "2073  892177421306343426  https://pbs.twimg.com/media/DGGmoV4XsAAUL6n.jpg   \n",
       "2074  892420643555336193  https://pbs.twimg.com/media/DGKD1-bXoAAIAUK.jpg   \n",
       "\n",
       "      img_num                      p1   p1_conf  p1_dog                  p2  \\\n",
       "0           1  Welsh_springer_spaniel  0.465074    True              collie   \n",
       "1           1                 redbone  0.506826    True  miniature_pinscher   \n",
       "2           1         German_shepherd  0.596461    True            malinois   \n",
       "3           1     Rhodesian_ridgeback  0.408143    True             redbone   \n",
       "4           1      miniature_pinscher  0.560311    True          Rottweiler   \n",
       "...       ...                     ...       ...     ...                 ...   \n",
       "2070        2                  basset  0.555712    True    English_springer   \n",
       "2071        1             paper_towel  0.170278   False  Labrador_retriever   \n",
       "2072        1               Chihuahua  0.716012    True            malamute   \n",
       "2073        1               Chihuahua  0.323581    True            Pekinese   \n",
       "2074        1                  orange  0.097049   False               bagel   \n",
       "\n",
       "       p2_conf  p2_dog                           p3   p3_conf  p3_dog  \n",
       "0     0.156665    True            Shetland_sheepdog  0.061428    True  \n",
       "1     0.074192    True          Rhodesian_ridgeback  0.072010    True  \n",
       "2     0.138584    True                   bloodhound  0.116197    True  \n",
       "3     0.360687    True           miniature_pinscher  0.222752    True  \n",
       "4     0.243682    True                     Doberman  0.154629    True  \n",
       "...        ...     ...                          ...       ...     ...  \n",
       "2070  0.225770    True  German_short-haired_pointer  0.175219    True  \n",
       "2071  0.168086    True                      spatula  0.040836   False  \n",
       "2072  0.078253    True                       kelpie  0.031379    True  \n",
       "2073  0.090647    True                     papillon  0.068957    True  \n",
       "2074  0.085851   False                       banana  0.076110   False  \n",
       "\n",
       "[2075 rows x 12 columns]"
      ]
     },
     "execution_count": 11,
     "metadata": {},
     "output_type": "execute_result"
    }
   ],
   "source": [
    "# Visually assess image_predictions dataset\n",
    "image_predictions"
   ]
  },
  {
   "cell_type": "code",
   "execution_count": 12,
   "id": "7b0ec688",
   "metadata": {},
   "outputs": [],
   "source": [
    "# create csv of image_predictions dataframe for further visual assessment in MS Excel\n",
    "image_predictions.to_csv('image_predictions.csv')"
   ]
  },
  {
   "cell_type": "markdown",
   "id": "0cd54d56",
   "metadata": {},
   "source": [
    "#### Description of image_prediction dataset columns\n",
    "\n",
    "1) __tweet_id__ -- represents the dedicated identifier for each tweet\n",
    "\n",
    "2) __jpg_url__ -- dog's image URL\n",
    "\n",
    "3) __img_num__ -- the image number that corresponded to the most confident prediction (numbered 1 to 4 since tweets can\n",
    "    have up to four images)\n",
    "\n",
    "4) __p1__ -- algorithm's #1 prediction for the image in the tweet\n",
    "\n",
    "5) __p1_conf__ -- how confident the algorithm is in its #1 prediction\n",
    "\n",
    "6) __p1_dog__ -- whether or not the #1 prediction is a breed of dog\n",
    "\n",
    "7) __p2__ -- algorithm's #2 prediction for the image in the tweet\n",
    "\n",
    "7) __p2_conf__ -- how confident the algorithm is in its #2 prediction\n",
    "\n",
    "8) __p2_dog__ -- whether or not the #2 prediction is a breed of dog\n",
    "\n",
    "9) __p3__ -- algorithm's #3 prediction for the image in the tweet\n",
    "\n",
    "10) __p3_conf__ -- how confident the algorithm is in its #3 prediction\n",
    "\n",
    "11) __p3_dog__ -- whether or not the #3 prediction is a breed of dog"
   ]
  },
  {
   "cell_type": "markdown",
   "id": "073f5c43",
   "metadata": {},
   "source": [
    " "
   ]
  },
  {
   "cell_type": "markdown",
   "id": "aedab86a",
   "metadata": {},
   "source": [
    "#### Assessing tweets_json dataset"
   ]
  },
  {
   "cell_type": "code",
   "execution_count": 13,
   "id": "7ff0425e",
   "metadata": {
    "scrolled": false
   },
   "outputs": [
    {
     "data": {
      "text/html": [
       "<div>\n",
       "<style scoped>\n",
       "    .dataframe tbody tr th:only-of-type {\n",
       "        vertical-align: middle;\n",
       "    }\n",
       "\n",
       "    .dataframe tbody tr th {\n",
       "        vertical-align: top;\n",
       "    }\n",
       "\n",
       "    .dataframe thead th {\n",
       "        text-align: right;\n",
       "    }\n",
       "</style>\n",
       "<table border=\"1\" class=\"dataframe\">\n",
       "  <thead>\n",
       "    <tr style=\"text-align: right;\">\n",
       "      <th></th>\n",
       "      <th>id</th>\n",
       "      <th>retweet_count</th>\n",
       "      <th>favorite_count</th>\n",
       "    </tr>\n",
       "  </thead>\n",
       "  <tbody>\n",
       "    <tr>\n",
       "      <th>0</th>\n",
       "      <td>892420643555336193</td>\n",
       "      <td>8853</td>\n",
       "      <td>39467</td>\n",
       "    </tr>\n",
       "    <tr>\n",
       "      <th>1</th>\n",
       "      <td>892177421306343426</td>\n",
       "      <td>6514</td>\n",
       "      <td>33819</td>\n",
       "    </tr>\n",
       "    <tr>\n",
       "      <th>2</th>\n",
       "      <td>891815181378084864</td>\n",
       "      <td>4328</td>\n",
       "      <td>25461</td>\n",
       "    </tr>\n",
       "    <tr>\n",
       "      <th>3</th>\n",
       "      <td>891689557279858688</td>\n",
       "      <td>8964</td>\n",
       "      <td>42908</td>\n",
       "    </tr>\n",
       "    <tr>\n",
       "      <th>4</th>\n",
       "      <td>891327558926688256</td>\n",
       "      <td>9774</td>\n",
       "      <td>41048</td>\n",
       "    </tr>\n",
       "    <tr>\n",
       "      <th>...</th>\n",
       "      <td>...</td>\n",
       "      <td>...</td>\n",
       "      <td>...</td>\n",
       "    </tr>\n",
       "    <tr>\n",
       "      <th>2349</th>\n",
       "      <td>666049248165822465</td>\n",
       "      <td>41</td>\n",
       "      <td>111</td>\n",
       "    </tr>\n",
       "    <tr>\n",
       "      <th>2350</th>\n",
       "      <td>666044226329800704</td>\n",
       "      <td>147</td>\n",
       "      <td>311</td>\n",
       "    </tr>\n",
       "    <tr>\n",
       "      <th>2351</th>\n",
       "      <td>666033412701032449</td>\n",
       "      <td>47</td>\n",
       "      <td>128</td>\n",
       "    </tr>\n",
       "    <tr>\n",
       "      <th>2352</th>\n",
       "      <td>666029285002620928</td>\n",
       "      <td>48</td>\n",
       "      <td>132</td>\n",
       "    </tr>\n",
       "    <tr>\n",
       "      <th>2353</th>\n",
       "      <td>666020888022790149</td>\n",
       "      <td>532</td>\n",
       "      <td>2535</td>\n",
       "    </tr>\n",
       "  </tbody>\n",
       "</table>\n",
       "<p>2354 rows × 3 columns</p>\n",
       "</div>"
      ],
      "text/plain": [
       "                      id  retweet_count  favorite_count\n",
       "0     892420643555336193           8853           39467\n",
       "1     892177421306343426           6514           33819\n",
       "2     891815181378084864           4328           25461\n",
       "3     891689557279858688           8964           42908\n",
       "4     891327558926688256           9774           41048\n",
       "...                  ...            ...             ...\n",
       "2349  666049248165822465             41             111\n",
       "2350  666044226329800704            147             311\n",
       "2351  666033412701032449             47             128\n",
       "2352  666029285002620928             48             132\n",
       "2353  666020888022790149            532            2535\n",
       "\n",
       "[2354 rows x 3 columns]"
      ]
     },
     "execution_count": 13,
     "metadata": {},
     "output_type": "execute_result"
    }
   ],
   "source": [
    "# Visually assess tweet_json dataframe\n",
    "tweet_json"
   ]
  },
  {
   "cell_type": "code",
   "execution_count": 14,
   "id": "3e9134fd",
   "metadata": {},
   "outputs": [],
   "source": [
    "# create csv of tweet_json dataframe for further visual assessment in MS Excel\n",
    "tweet_json.to_csv('tweet_json.csv')"
   ]
  },
  {
   "cell_type": "markdown",
   "id": "130c4b83",
   "metadata": {},
   "source": [
    "#### Description of tweet_json dataset columns\n",
    "\n",
    "__id__ -- the unique identifier for each tweet\n",
    "\n",
    "__retweet_count__ -- represents the number of times the original tweet was retweeted\n",
    "\n",
    "__favorite_count__ -- represents the number of times the the original tweet was loved or liked"
   ]
  },
  {
   "cell_type": "markdown",
   "id": "61728f3f",
   "metadata": {},
   "source": [
    " "
   ]
  },
  {
   "cell_type": "markdown",
   "id": "d3daa482",
   "metadata": {},
   "source": [
    " "
   ]
  },
  {
   "cell_type": "markdown",
   "id": "b5d7f62d",
   "metadata": {},
   "source": [
    "### Programmatic Assessment\n",
    "Use a set of codes such as ``info()``, ```describe()``` and ```isnull()``` among others to assess the various datasets"
   ]
  },
  {
   "cell_type": "code",
   "execution_count": 15,
   "id": "0d44d92f",
   "metadata": {
    "scrolled": false
   },
   "outputs": [
    {
     "name": "stdout",
     "output_type": "stream",
     "text": [
      "<class 'pandas.core.frame.DataFrame'>\n",
      "RangeIndex: 2356 entries, 0 to 2355\n",
      "Data columns (total 17 columns):\n",
      " #   Column                      Non-Null Count  Dtype  \n",
      "---  ------                      --------------  -----  \n",
      " 0   tweet_id                    2356 non-null   int64  \n",
      " 1   in_reply_to_status_id       78 non-null     float64\n",
      " 2   in_reply_to_user_id         78 non-null     float64\n",
      " 3   timestamp                   2356 non-null   object \n",
      " 4   source                      2356 non-null   object \n",
      " 5   text                        2356 non-null   object \n",
      " 6   retweeted_status_id         181 non-null    float64\n",
      " 7   retweeted_status_user_id    181 non-null    float64\n",
      " 8   retweeted_status_timestamp  181 non-null    object \n",
      " 9   expanded_urls               2297 non-null   object \n",
      " 10  rating_numerator            2356 non-null   int64  \n",
      " 11  rating_denominator          2356 non-null   int64  \n",
      " 12  name                        2356 non-null   object \n",
      " 13  doggo                       2356 non-null   object \n",
      " 14  floofer                     2356 non-null   object \n",
      " 15  pupper                      2356 non-null   object \n",
      " 16  puppo                       2356 non-null   object \n",
      "dtypes: float64(4), int64(3), object(10)\n",
      "memory usage: 313.0+ KB\n"
     ]
    }
   ],
   "source": [
    "# view general information about the twitter_archive dataframe\n",
    "twitter_archive.info()"
   ]
  },
  {
   "cell_type": "code",
   "execution_count": 16,
   "id": "66e7ce0a",
   "metadata": {},
   "outputs": [
    {
     "name": "stdout",
     "output_type": "stream",
     "text": [
      "<class 'pandas.core.frame.DataFrame'>\n",
      "RangeIndex: 2075 entries, 0 to 2074\n",
      "Data columns (total 12 columns):\n",
      " #   Column    Non-Null Count  Dtype  \n",
      "---  ------    --------------  -----  \n",
      " 0   tweet_id  2075 non-null   int64  \n",
      " 1   jpg_url   2075 non-null   object \n",
      " 2   img_num   2075 non-null   int64  \n",
      " 3   p1        2075 non-null   object \n",
      " 4   p1_conf   2075 non-null   float64\n",
      " 5   p1_dog    2075 non-null   bool   \n",
      " 6   p2        2075 non-null   object \n",
      " 7   p2_conf   2075 non-null   float64\n",
      " 8   p2_dog    2075 non-null   bool   \n",
      " 9   p3        2075 non-null   object \n",
      " 10  p3_conf   2075 non-null   float64\n",
      " 11  p3_dog    2075 non-null   bool   \n",
      "dtypes: bool(3), float64(3), int64(2), object(4)\n",
      "memory usage: 152.1+ KB\n"
     ]
    }
   ],
   "source": [
    "# view general information about the image_predictions dataframe\n",
    "image_predictions.info()"
   ]
  },
  {
   "cell_type": "code",
   "execution_count": 17,
   "id": "803e753d",
   "metadata": {
    "scrolled": true
   },
   "outputs": [
    {
     "name": "stdout",
     "output_type": "stream",
     "text": [
      "<class 'pandas.core.frame.DataFrame'>\n",
      "RangeIndex: 2354 entries, 0 to 2353\n",
      "Data columns (total 3 columns):\n",
      " #   Column          Non-Null Count  Dtype\n",
      "---  ------          --------------  -----\n",
      " 0   id              2354 non-null   int64\n",
      " 1   retweet_count   2354 non-null   int64\n",
      " 2   favorite_count  2354 non-null   int64\n",
      "dtypes: int64(3)\n",
      "memory usage: 55.3 KB\n"
     ]
    }
   ],
   "source": [
    "# view general information about the tweet_json dataframe\n",
    "tweet_json.info()"
   ]
  },
  {
   "cell_type": "code",
   "execution_count": 18,
   "id": "6f57b03c",
   "metadata": {
    "scrolled": true
   },
   "outputs": [
    {
     "data": {
      "text/html": [
       "<div>\n",
       "<style scoped>\n",
       "    .dataframe tbody tr th:only-of-type {\n",
       "        vertical-align: middle;\n",
       "    }\n",
       "\n",
       "    .dataframe tbody tr th {\n",
       "        vertical-align: top;\n",
       "    }\n",
       "\n",
       "    .dataframe thead th {\n",
       "        text-align: right;\n",
       "    }\n",
       "</style>\n",
       "<table border=\"1\" class=\"dataframe\">\n",
       "  <thead>\n",
       "    <tr style=\"text-align: right;\">\n",
       "      <th></th>\n",
       "      <th>tweet_id</th>\n",
       "      <th>in_reply_to_status_id</th>\n",
       "      <th>in_reply_to_user_id</th>\n",
       "      <th>retweeted_status_id</th>\n",
       "      <th>retweeted_status_user_id</th>\n",
       "      <th>rating_numerator</th>\n",
       "      <th>rating_denominator</th>\n",
       "    </tr>\n",
       "  </thead>\n",
       "  <tbody>\n",
       "    <tr>\n",
       "      <th>count</th>\n",
       "      <td>2.356000e+03</td>\n",
       "      <td>7.800000e+01</td>\n",
       "      <td>7.800000e+01</td>\n",
       "      <td>1.810000e+02</td>\n",
       "      <td>1.810000e+02</td>\n",
       "      <td>2356.000000</td>\n",
       "      <td>2356.000000</td>\n",
       "    </tr>\n",
       "    <tr>\n",
       "      <th>mean</th>\n",
       "      <td>7.427716e+17</td>\n",
       "      <td>7.455079e+17</td>\n",
       "      <td>2.014171e+16</td>\n",
       "      <td>7.720400e+17</td>\n",
       "      <td>1.241698e+16</td>\n",
       "      <td>13.126486</td>\n",
       "      <td>10.455433</td>\n",
       "    </tr>\n",
       "    <tr>\n",
       "      <th>std</th>\n",
       "      <td>6.856705e+16</td>\n",
       "      <td>7.582492e+16</td>\n",
       "      <td>1.252797e+17</td>\n",
       "      <td>6.236928e+16</td>\n",
       "      <td>9.599254e+16</td>\n",
       "      <td>45.876648</td>\n",
       "      <td>6.745237</td>\n",
       "    </tr>\n",
       "    <tr>\n",
       "      <th>min</th>\n",
       "      <td>6.660209e+17</td>\n",
       "      <td>6.658147e+17</td>\n",
       "      <td>1.185634e+07</td>\n",
       "      <td>6.661041e+17</td>\n",
       "      <td>7.832140e+05</td>\n",
       "      <td>0.000000</td>\n",
       "      <td>0.000000</td>\n",
       "    </tr>\n",
       "    <tr>\n",
       "      <th>25%</th>\n",
       "      <td>6.783989e+17</td>\n",
       "      <td>6.757419e+17</td>\n",
       "      <td>3.086374e+08</td>\n",
       "      <td>7.186315e+17</td>\n",
       "      <td>4.196984e+09</td>\n",
       "      <td>10.000000</td>\n",
       "      <td>10.000000</td>\n",
       "    </tr>\n",
       "    <tr>\n",
       "      <th>50%</th>\n",
       "      <td>7.196279e+17</td>\n",
       "      <td>7.038708e+17</td>\n",
       "      <td>4.196984e+09</td>\n",
       "      <td>7.804657e+17</td>\n",
       "      <td>4.196984e+09</td>\n",
       "      <td>11.000000</td>\n",
       "      <td>10.000000</td>\n",
       "    </tr>\n",
       "    <tr>\n",
       "      <th>75%</th>\n",
       "      <td>7.993373e+17</td>\n",
       "      <td>8.257804e+17</td>\n",
       "      <td>4.196984e+09</td>\n",
       "      <td>8.203146e+17</td>\n",
       "      <td>4.196984e+09</td>\n",
       "      <td>12.000000</td>\n",
       "      <td>10.000000</td>\n",
       "    </tr>\n",
       "    <tr>\n",
       "      <th>max</th>\n",
       "      <td>8.924206e+17</td>\n",
       "      <td>8.862664e+17</td>\n",
       "      <td>8.405479e+17</td>\n",
       "      <td>8.874740e+17</td>\n",
       "      <td>7.874618e+17</td>\n",
       "      <td>1776.000000</td>\n",
       "      <td>170.000000</td>\n",
       "    </tr>\n",
       "  </tbody>\n",
       "</table>\n",
       "</div>"
      ],
      "text/plain": [
       "           tweet_id  in_reply_to_status_id  in_reply_to_user_id  \\\n",
       "count  2.356000e+03           7.800000e+01         7.800000e+01   \n",
       "mean   7.427716e+17           7.455079e+17         2.014171e+16   \n",
       "std    6.856705e+16           7.582492e+16         1.252797e+17   \n",
       "min    6.660209e+17           6.658147e+17         1.185634e+07   \n",
       "25%    6.783989e+17           6.757419e+17         3.086374e+08   \n",
       "50%    7.196279e+17           7.038708e+17         4.196984e+09   \n",
       "75%    7.993373e+17           8.257804e+17         4.196984e+09   \n",
       "max    8.924206e+17           8.862664e+17         8.405479e+17   \n",
       "\n",
       "       retweeted_status_id  retweeted_status_user_id  rating_numerator  \\\n",
       "count         1.810000e+02              1.810000e+02       2356.000000   \n",
       "mean          7.720400e+17              1.241698e+16         13.126486   \n",
       "std           6.236928e+16              9.599254e+16         45.876648   \n",
       "min           6.661041e+17              7.832140e+05          0.000000   \n",
       "25%           7.186315e+17              4.196984e+09         10.000000   \n",
       "50%           7.804657e+17              4.196984e+09         11.000000   \n",
       "75%           8.203146e+17              4.196984e+09         12.000000   \n",
       "max           8.874740e+17              7.874618e+17       1776.000000   \n",
       "\n",
       "       rating_denominator  \n",
       "count         2356.000000  \n",
       "mean            10.455433  \n",
       "std              6.745237  \n",
       "min              0.000000  \n",
       "25%             10.000000  \n",
       "50%             10.000000  \n",
       "75%             10.000000  \n",
       "max            170.000000  "
      ]
     },
     "execution_count": 18,
     "metadata": {},
     "output_type": "execute_result"
    }
   ],
   "source": [
    "# view general statics of twitter_archive dataframe\n",
    "twitter_archive.describe()"
   ]
  },
  {
   "cell_type": "code",
   "execution_count": 19,
   "id": "9bbce474",
   "metadata": {
    "scrolled": true
   },
   "outputs": [
    {
     "data": {
      "text/html": [
       "<div>\n",
       "<style scoped>\n",
       "    .dataframe tbody tr th:only-of-type {\n",
       "        vertical-align: middle;\n",
       "    }\n",
       "\n",
       "    .dataframe tbody tr th {\n",
       "        vertical-align: top;\n",
       "    }\n",
       "\n",
       "    .dataframe thead th {\n",
       "        text-align: right;\n",
       "    }\n",
       "</style>\n",
       "<table border=\"1\" class=\"dataframe\">\n",
       "  <thead>\n",
       "    <tr style=\"text-align: right;\">\n",
       "      <th></th>\n",
       "      <th>tweet_id</th>\n",
       "      <th>img_num</th>\n",
       "      <th>p1_conf</th>\n",
       "      <th>p2_conf</th>\n",
       "      <th>p3_conf</th>\n",
       "    </tr>\n",
       "  </thead>\n",
       "  <tbody>\n",
       "    <tr>\n",
       "      <th>count</th>\n",
       "      <td>2.075000e+03</td>\n",
       "      <td>2075.000000</td>\n",
       "      <td>2075.000000</td>\n",
       "      <td>2.075000e+03</td>\n",
       "      <td>2.075000e+03</td>\n",
       "    </tr>\n",
       "    <tr>\n",
       "      <th>mean</th>\n",
       "      <td>7.384514e+17</td>\n",
       "      <td>1.203855</td>\n",
       "      <td>0.594548</td>\n",
       "      <td>1.345886e-01</td>\n",
       "      <td>6.032417e-02</td>\n",
       "    </tr>\n",
       "    <tr>\n",
       "      <th>std</th>\n",
       "      <td>6.785203e+16</td>\n",
       "      <td>0.561875</td>\n",
       "      <td>0.271174</td>\n",
       "      <td>1.006657e-01</td>\n",
       "      <td>5.090593e-02</td>\n",
       "    </tr>\n",
       "    <tr>\n",
       "      <th>min</th>\n",
       "      <td>6.660209e+17</td>\n",
       "      <td>1.000000</td>\n",
       "      <td>0.044333</td>\n",
       "      <td>1.011300e-08</td>\n",
       "      <td>1.740170e-10</td>\n",
       "    </tr>\n",
       "    <tr>\n",
       "      <th>25%</th>\n",
       "      <td>6.764835e+17</td>\n",
       "      <td>1.000000</td>\n",
       "      <td>0.364412</td>\n",
       "      <td>5.388625e-02</td>\n",
       "      <td>1.622240e-02</td>\n",
       "    </tr>\n",
       "    <tr>\n",
       "      <th>50%</th>\n",
       "      <td>7.119988e+17</td>\n",
       "      <td>1.000000</td>\n",
       "      <td>0.588230</td>\n",
       "      <td>1.181810e-01</td>\n",
       "      <td>4.944380e-02</td>\n",
       "    </tr>\n",
       "    <tr>\n",
       "      <th>75%</th>\n",
       "      <td>7.932034e+17</td>\n",
       "      <td>1.000000</td>\n",
       "      <td>0.843855</td>\n",
       "      <td>1.955655e-01</td>\n",
       "      <td>9.180755e-02</td>\n",
       "    </tr>\n",
       "    <tr>\n",
       "      <th>max</th>\n",
       "      <td>8.924206e+17</td>\n",
       "      <td>4.000000</td>\n",
       "      <td>1.000000</td>\n",
       "      <td>4.880140e-01</td>\n",
       "      <td>2.734190e-01</td>\n",
       "    </tr>\n",
       "  </tbody>\n",
       "</table>\n",
       "</div>"
      ],
      "text/plain": [
       "           tweet_id      img_num      p1_conf       p2_conf       p3_conf\n",
       "count  2.075000e+03  2075.000000  2075.000000  2.075000e+03  2.075000e+03\n",
       "mean   7.384514e+17     1.203855     0.594548  1.345886e-01  6.032417e-02\n",
       "std    6.785203e+16     0.561875     0.271174  1.006657e-01  5.090593e-02\n",
       "min    6.660209e+17     1.000000     0.044333  1.011300e-08  1.740170e-10\n",
       "25%    6.764835e+17     1.000000     0.364412  5.388625e-02  1.622240e-02\n",
       "50%    7.119988e+17     1.000000     0.588230  1.181810e-01  4.944380e-02\n",
       "75%    7.932034e+17     1.000000     0.843855  1.955655e-01  9.180755e-02\n",
       "max    8.924206e+17     4.000000     1.000000  4.880140e-01  2.734190e-01"
      ]
     },
     "execution_count": 19,
     "metadata": {},
     "output_type": "execute_result"
    }
   ],
   "source": [
    "# view general statics of image_predictions dataframe\n",
    "image_predictions.describe()"
   ]
  },
  {
   "cell_type": "code",
   "execution_count": 20,
   "id": "c27c5fa0",
   "metadata": {},
   "outputs": [
    {
     "data": {
      "text/html": [
       "<div>\n",
       "<style scoped>\n",
       "    .dataframe tbody tr th:only-of-type {\n",
       "        vertical-align: middle;\n",
       "    }\n",
       "\n",
       "    .dataframe tbody tr th {\n",
       "        vertical-align: top;\n",
       "    }\n",
       "\n",
       "    .dataframe thead th {\n",
       "        text-align: right;\n",
       "    }\n",
       "</style>\n",
       "<table border=\"1\" class=\"dataframe\">\n",
       "  <thead>\n",
       "    <tr style=\"text-align: right;\">\n",
       "      <th></th>\n",
       "      <th>id</th>\n",
       "      <th>retweet_count</th>\n",
       "      <th>favorite_count</th>\n",
       "    </tr>\n",
       "  </thead>\n",
       "  <tbody>\n",
       "    <tr>\n",
       "      <th>count</th>\n",
       "      <td>2.354000e+03</td>\n",
       "      <td>2354.000000</td>\n",
       "      <td>2354.000000</td>\n",
       "    </tr>\n",
       "    <tr>\n",
       "      <th>mean</th>\n",
       "      <td>7.426978e+17</td>\n",
       "      <td>3164.797366</td>\n",
       "      <td>8080.968564</td>\n",
       "    </tr>\n",
       "    <tr>\n",
       "      <th>std</th>\n",
       "      <td>6.852812e+16</td>\n",
       "      <td>5284.770364</td>\n",
       "      <td>11814.771334</td>\n",
       "    </tr>\n",
       "    <tr>\n",
       "      <th>min</th>\n",
       "      <td>6.660209e+17</td>\n",
       "      <td>0.000000</td>\n",
       "      <td>0.000000</td>\n",
       "    </tr>\n",
       "    <tr>\n",
       "      <th>25%</th>\n",
       "      <td>6.783975e+17</td>\n",
       "      <td>624.500000</td>\n",
       "      <td>1415.000000</td>\n",
       "    </tr>\n",
       "    <tr>\n",
       "      <th>50%</th>\n",
       "      <td>7.194596e+17</td>\n",
       "      <td>1473.500000</td>\n",
       "      <td>3603.500000</td>\n",
       "    </tr>\n",
       "    <tr>\n",
       "      <th>75%</th>\n",
       "      <td>7.993058e+17</td>\n",
       "      <td>3652.000000</td>\n",
       "      <td>10122.250000</td>\n",
       "    </tr>\n",
       "    <tr>\n",
       "      <th>max</th>\n",
       "      <td>8.924206e+17</td>\n",
       "      <td>79515.000000</td>\n",
       "      <td>132810.000000</td>\n",
       "    </tr>\n",
       "  </tbody>\n",
       "</table>\n",
       "</div>"
      ],
      "text/plain": [
       "                 id  retweet_count  favorite_count\n",
       "count  2.354000e+03    2354.000000     2354.000000\n",
       "mean   7.426978e+17    3164.797366     8080.968564\n",
       "std    6.852812e+16    5284.770364    11814.771334\n",
       "min    6.660209e+17       0.000000        0.000000\n",
       "25%    6.783975e+17     624.500000     1415.000000\n",
       "50%    7.194596e+17    1473.500000     3603.500000\n",
       "75%    7.993058e+17    3652.000000    10122.250000\n",
       "max    8.924206e+17   79515.000000   132810.000000"
      ]
     },
     "execution_count": 20,
     "metadata": {},
     "output_type": "execute_result"
    }
   ],
   "source": [
    "# view general statics of tweet_json dataframe\n",
    "tweet_json.describe()"
   ]
  },
  {
   "cell_type": "code",
   "execution_count": 21,
   "id": "09b5fb9a",
   "metadata": {
    "scrolled": false
   },
   "outputs": [
    {
     "data": {
      "text/plain": [
       "tweet_id                         0\n",
       "in_reply_to_status_id         2278\n",
       "in_reply_to_user_id           2278\n",
       "timestamp                        0\n",
       "source                           0\n",
       "text                             0\n",
       "retweeted_status_id           2175\n",
       "retweeted_status_user_id      2175\n",
       "retweeted_status_timestamp    2175\n",
       "expanded_urls                   59\n",
       "rating_numerator                 0\n",
       "rating_denominator               0\n",
       "name                             0\n",
       "doggo                            0\n",
       "floofer                          0\n",
       "pupper                           0\n",
       "puppo                            0\n",
       "dtype: int64"
      ]
     },
     "execution_count": 21,
     "metadata": {},
     "output_type": "execute_result"
    }
   ],
   "source": [
    "# check for number of nulls in each column of twitter_archive dataframe\n",
    "twitter_archive.isnull().sum()"
   ]
  },
  {
   "cell_type": "code",
   "execution_count": 22,
   "id": "41bb1aa6",
   "metadata": {},
   "outputs": [
    {
     "data": {
      "text/plain": [
       "0"
      ]
     },
     "execution_count": 22,
     "metadata": {},
     "output_type": "execute_result"
    }
   ],
   "source": [
    "# Check for duplicates in twitter_archive dataframe\n",
    "twitter_archive.duplicated().sum()"
   ]
  },
  {
   "cell_type": "code",
   "execution_count": 23,
   "id": "f9229b71",
   "metadata": {
    "scrolled": false
   },
   "outputs": [
    {
     "data": {
      "text/plain": [
       "0"
      ]
     },
     "execution_count": 23,
     "metadata": {},
     "output_type": "execute_result"
    }
   ],
   "source": [
    "# Check for duplicates in twitter_archive dataframe\n",
    "image_predictions.duplicated().sum()"
   ]
  },
  {
   "cell_type": "code",
   "execution_count": 24,
   "id": "d8fed815",
   "metadata": {},
   "outputs": [
    {
     "data": {
      "text/plain": [
       "0"
      ]
     },
     "execution_count": 24,
     "metadata": {},
     "output_type": "execute_result"
    }
   ],
   "source": [
    "# Check for duplicates in tweet_josn dataframe\n",
    "tweet_json.duplicated().sum()"
   ]
  },
  {
   "cell_type": "code",
   "execution_count": 25,
   "id": "1eed8b26",
   "metadata": {
    "scrolled": true
   },
   "outputs": [
    {
     "data": {
      "text/plain": [
       "tweet_id                        int64\n",
       "in_reply_to_status_id         float64\n",
       "in_reply_to_user_id           float64\n",
       "timestamp                      object\n",
       "source                         object\n",
       "text                           object\n",
       "retweeted_status_id           float64\n",
       "retweeted_status_user_id      float64\n",
       "retweeted_status_timestamp     object\n",
       "expanded_urls                  object\n",
       "rating_numerator                int64\n",
       "rating_denominator              int64\n",
       "name                           object\n",
       "doggo                          object\n",
       "floofer                        object\n",
       "pupper                         object\n",
       "puppo                          object\n",
       "dtype: object"
      ]
     },
     "execution_count": 25,
     "metadata": {},
     "output_type": "execute_result"
    }
   ],
   "source": [
    "# check datatypes of columns in twitter_archive dataframe\n",
    "twitter_archive.dtypes"
   ]
  },
  {
   "cell_type": "code",
   "execution_count": 26,
   "id": "eef02f9b",
   "metadata": {},
   "outputs": [
    {
     "data": {
      "text/plain": [
       "tweet_id      int64\n",
       "jpg_url      object\n",
       "img_num       int64\n",
       "p1           object\n",
       "p1_conf     float64\n",
       "p1_dog         bool\n",
       "p2           object\n",
       "p2_conf     float64\n",
       "p2_dog         bool\n",
       "p3           object\n",
       "p3_conf     float64\n",
       "p3_dog         bool\n",
       "dtype: object"
      ]
     },
     "execution_count": 26,
     "metadata": {},
     "output_type": "execute_result"
    }
   ],
   "source": [
    "# check datatypes of columns in image_predictions dataframe\n",
    "image_predictions.dtypes"
   ]
  },
  {
   "cell_type": "code",
   "execution_count": 27,
   "id": "70ea6bc8",
   "metadata": {},
   "outputs": [
    {
     "data": {
      "text/plain": [
       "id                int64\n",
       "retweet_count     int64\n",
       "favorite_count    int64\n",
       "dtype: object"
      ]
     },
     "execution_count": 27,
     "metadata": {},
     "output_type": "execute_result"
    }
   ],
   "source": [
    "# check datatypes of columns in tweet_json dataframe\n",
    "tweet_json.dtypes"
   ]
  },
  {
   "cell_type": "code",
   "execution_count": 28,
   "id": "24e3dfd0",
   "metadata": {},
   "outputs": [
    {
     "data": {
      "text/plain": [
       "(2356, 17)"
      ]
     },
     "execution_count": 28,
     "metadata": {},
     "output_type": "execute_result"
    }
   ],
   "source": [
    "# check shape of twitter_archive dataframe\n",
    "twitter_archive.shape"
   ]
  },
  {
   "cell_type": "markdown",
   "id": "725fcf09",
   "metadata": {},
   "source": [
    "__twitter_archive__ has 2356 rows and 17 columns"
   ]
  },
  {
   "cell_type": "code",
   "execution_count": 29,
   "id": "051458cc",
   "metadata": {
    "scrolled": true
   },
   "outputs": [
    {
     "data": {
      "text/plain": [
       "(2075, 12)"
      ]
     },
     "execution_count": 29,
     "metadata": {},
     "output_type": "execute_result"
    }
   ],
   "source": [
    "# check shape of image_predictions dataframe\n",
    "image_predictions.shape"
   ]
  },
  {
   "cell_type": "markdown",
   "id": "46af2f88",
   "metadata": {},
   "source": [
    "__image_predictions__ hs 2075 rows and 12 columns"
   ]
  },
  {
   "cell_type": "code",
   "execution_count": 30,
   "id": "0bb11715",
   "metadata": {},
   "outputs": [
    {
     "data": {
      "text/plain": [
       "(2354, 3)"
      ]
     },
     "execution_count": 30,
     "metadata": {},
     "output_type": "execute_result"
    }
   ],
   "source": [
    "# check shape of tweet_json dataframe\n",
    "tweet_json.shape"
   ]
  },
  {
   "cell_type": "markdown",
   "id": "228dd613",
   "metadata": {},
   "source": [
    "__tweet_json__ has 2354 rows and 3 columns"
   ]
  },
  {
   "cell_type": "markdown",
   "id": "171b6db1",
   "metadata": {},
   "source": [
    " "
   ]
  },
  {
   "cell_type": "markdown",
   "id": "f6739335",
   "metadata": {},
   "source": [
    " "
   ]
  },
  {
   "cell_type": "markdown",
   "id": "31ee368b",
   "metadata": {},
   "source": [
    "## Cleanliness Issues with Datasets"
   ]
  },
  {
   "cell_type": "markdown",
   "id": "28f323ec",
   "metadata": {},
   "source": [
    "### Quality issues\n",
    "1. Retweeted entries in dataset (ids in  retweeted_status_id, retweeted_status_user_id,   retweeted_status_timestamp) in __twitter_archive__ dataframe\n",
    "    \n",
    "2. Null values in ```in_reply_to_status_id```, ```in_reply_to_user_id```, ```retweeted_status_id```, ```retweeted_status_user_id```, ```retweeted_status_timestamp```, and ```expanded urls``` columns in twitter_archive datafreame.\n",
    "\n",
    "3. Upper case ending a name (DayZ) in __twitter_archive__ dataframe\n",
    "\n",
    "4. Null entries represented as 'None' in stages and name columns and other lower case text in names column (e.g. 'a', 'an', 'the') in __twitter_archive__ dataframe.\n",
    "\n",
    "5. Same name represented differently in __twitter_archive__ dataframe (i.e. Frank, Frönq, Frankie, Gordon and Gòrdón)\n",
    "\n",
    "6. Erroneous data types __in all three datasets__ : tweet_id all datasets and timestamp in ```twitter_archive``` dataset\n",
    "\n",
    "7. Inconsistent column name of id column of __tweet_json__ dataset compared to __twitter_archive__ and __image_predictions__ datasets\n",
    "\n",
    "8. Inconsistent value format in columns 'p1', 'p2' and 'p3' of __image_predictions__ dataframe"
   ]
  },
  {
   "cell_type": "markdown",
   "id": "d5f2dd72",
   "metadata": {},
   "source": [
    "### Tidiness issues\n",
    "1. Multiple and duplicated urls in expanded urls column in ```twitter_archive``` dataset\n",
    "\n",
    "2. Comment, ratings and image urls in same column (text) in ```twitter_archive``` dataset\n",
    "\n",
    "3. __doggo , floofer, pupper__ and __puppo__ columns are all categories of a dog's stage in ```twitter_archive``` dataset. These should be one column\n",
    "\n",
    "4. The three datasets should be a single dataset"
   ]
  },
  {
   "cell_type": "markdown",
   "id": "008b2581",
   "metadata": {},
   "source": [
    "  \n",
    "    "
   ]
  },
  {
   "cell_type": "markdown",
   "id": "ddd0d5a7",
   "metadata": {},
   "source": [
    "  "
   ]
  },
  {
   "cell_type": "markdown",
   "id": "c0a6d85a",
   "metadata": {},
   "source": [
    "## Cleaning Datasets"
   ]
  },
  {
   "cell_type": "markdown",
   "id": "b33c257c",
   "metadata": {},
   "source": [
    "### Making Copies of Original Datasets"
   ]
  },
  {
   "cell_type": "code",
   "execution_count": 31,
   "id": "c2fcf3f4",
   "metadata": {},
   "outputs": [],
   "source": [
    "# creat copies of each dataset\n",
    "twitter_archive_clean = twitter_archive.copy()\n",
    "image_predictions_clean = image_predictions.copy()\n",
    "tweet_json_clean = tweet_json.copy()"
   ]
  },
  {
   "cell_type": "markdown",
   "id": "4ca3e9cc",
   "metadata": {},
   "source": [
    " "
   ]
  },
  {
   "cell_type": "markdown",
   "id": "9613d65a",
   "metadata": {},
   "source": [
    " "
   ]
  },
  {
   "cell_type": "markdown",
   "id": "a30168f5",
   "metadata": {},
   "source": [
    "### Resolving Quality Issues"
   ]
  },
  {
   "cell_type": "markdown",
   "id": "934879a7",
   "metadata": {},
   "source": [
    "#### Issue 1: tweets_main\n",
    "Retweeted entries in dataset (ids in  retweeted_status_id, retweeted_status_user_id,   retweeted_status_timestamp)"
   ]
  },
  {
   "cell_type": "markdown",
   "id": "ad90e116",
   "metadata": {},
   "source": [
    "##### Define\n",
    "\n",
    "Drop all rows with retweeted_status_id not null"
   ]
  },
  {
   "cell_type": "markdown",
   "id": "6a506805",
   "metadata": {},
   "source": [
    "##### Code"
   ]
  },
  {
   "cell_type": "code",
   "execution_count": 32,
   "id": "dbad19db",
   "metadata": {},
   "outputs": [],
   "source": [
    "# drop all instances of retweets with images\n",
    "twitter_archive_clean = twitter_archive_clean[twitter_archive_clean['retweeted_status_id'].isnull()]"
   ]
  },
  {
   "cell_type": "markdown",
   "id": "c3e7c82b",
   "metadata": {},
   "source": [
    "##### Test"
   ]
  },
  {
   "cell_type": "code",
   "execution_count": 33,
   "id": "f2c2c93f",
   "metadata": {},
   "outputs": [
    {
     "data": {
      "text/plain": [
       "(2175, 17)"
      ]
     },
     "execution_count": 33,
     "metadata": {},
     "output_type": "execute_result"
    }
   ],
   "source": [
    "# Cross check to ensure change is effected\n",
    "twitter_archive_clean.shape"
   ]
  },
  {
   "cell_type": "markdown",
   "id": "6cd1a281",
   "metadata": {},
   "source": [
    "Comment:\n",
    "\n",
    "    Change is effect: Number of rows has reduced from 2356 to 2117"
   ]
  },
  {
   "cell_type": "markdown",
   "id": "6bd923ec",
   "metadata": {},
   "source": [
    "  "
   ]
  },
  {
   "cell_type": "markdown",
   "id": "df3882c3",
   "metadata": {},
   "source": [
    "#### Issue 2\n",
    "Null values in __in_reply_to_status_id__, __in_reply_to_user_id__, __retweeted_status_id__, __retweeted_status_user_id__, __retweeted_status_timestamp__, and __expanded_urls__ in twitter_archive datafreame."
   ]
  },
  {
   "cell_type": "markdown",
   "id": "a61eaccf",
   "metadata": {},
   "source": [
    "##### Define\n",
    "1. Drop columns ```in_reply_to_status_id```, ```in_reply_to_user_id```, ```retweeted_status_id```, ```retweeted_status_user_id```, ```retweeted_status_timestamp``` becuase all have over 50% entries missing.\n",
    "\n",
    "2. drop 58 rows (less 5% of 2356) with null values in ```expanded_urls column```"
   ]
  },
  {
   "cell_type": "markdown",
   "id": "ff58f3d6",
   "metadata": {},
   "source": [
    "##### Code"
   ]
  },
  {
   "cell_type": "code",
   "execution_count": 34,
   "id": "44c1dee6",
   "metadata": {},
   "outputs": [],
   "source": [
    "# drop columns with over 50% null entries from dataset by column index\n",
    "twitter_archive_clean = twitter_archive_clean.drop(twitter_archive_clean.columns[[1,2,6,7,8]], axis=1)"
   ]
  },
  {
   "cell_type": "code",
   "execution_count": 35,
   "id": "f026fa71",
   "metadata": {},
   "outputs": [],
   "source": [
    "# drop rows of expandand_urls column with null entries\n",
    "twitter_archive_clean.dropna(inplace=True)"
   ]
  },
  {
   "cell_type": "markdown",
   "id": "33e340d0",
   "metadata": {},
   "source": [
    "##### Test"
   ]
  },
  {
   "cell_type": "code",
   "execution_count": 36,
   "id": "77ca95dd",
   "metadata": {
    "scrolled": true
   },
   "outputs": [
    {
     "name": "stdout",
     "output_type": "stream",
     "text": [
      "<class 'pandas.core.frame.DataFrame'>\n",
      "Int64Index: 2117 entries, 0 to 2355\n",
      "Data columns (total 12 columns):\n",
      " #   Column              Non-Null Count  Dtype \n",
      "---  ------              --------------  ----- \n",
      " 0   tweet_id            2117 non-null   int64 \n",
      " 1   timestamp           2117 non-null   object\n",
      " 2   source              2117 non-null   object\n",
      " 3   text                2117 non-null   object\n",
      " 4   expanded_urls       2117 non-null   object\n",
      " 5   rating_numerator    2117 non-null   int64 \n",
      " 6   rating_denominator  2117 non-null   int64 \n",
      " 7   name                2117 non-null   object\n",
      " 8   doggo               2117 non-null   object\n",
      " 9   floofer             2117 non-null   object\n",
      " 10  pupper              2117 non-null   object\n",
      " 11  puppo               2117 non-null   object\n",
      "dtypes: int64(3), object(9)\n",
      "memory usage: 215.0+ KB\n"
     ]
    }
   ],
   "source": [
    "# view dataframe's geneal information\n",
    "twitter_archive_clean.info()"
   ]
  },
  {
   "cell_type": "markdown",
   "id": "0082833d",
   "metadata": {},
   "source": [
    "Comment:\n",
    "\n",
    "    Change effected: Number of columns has reduced to 12 and all columns have no nulls."
   ]
  },
  {
   "cell_type": "markdown",
   "id": "ba14b696",
   "metadata": {},
   "source": [
    " "
   ]
  },
  {
   "cell_type": "markdown",
   "id": "c84f14b2",
   "metadata": {},
   "source": [
    "#### Issues 3\n",
    "Upper case ending a name (DayZ) in twitter_archive dataframe"
   ]
  },
  {
   "cell_type": "markdown",
   "id": "1312cac9",
   "metadata": {},
   "source": [
    "##### Define\n",
    "Replace DayZ with \"Dayz\""
   ]
  },
  {
   "cell_type": "markdown",
   "id": "3d70562b",
   "metadata": {},
   "source": [
    "##### Code"
   ]
  },
  {
   "cell_type": "code",
   "execution_count": 37,
   "id": "1149cbe2",
   "metadata": {},
   "outputs": [],
   "source": [
    "# replace instances of names identified and defined above\n",
    "twitter_archive_clean['name'] = twitter_archive_clean['name'].replace(to_replace=['DayZ'],value=['Dayz'])"
   ]
  },
  {
   "cell_type": "markdown",
   "id": "50dd2677",
   "metadata": {},
   "source": [
    "##### Test"
   ]
  },
  {
   "cell_type": "code",
   "execution_count": 38,
   "id": "9019f591",
   "metadata": {
    "scrolled": true
   },
   "outputs": [
    {
     "data": {
      "text/html": [
       "<div>\n",
       "<style scoped>\n",
       "    .dataframe tbody tr th:only-of-type {\n",
       "        vertical-align: middle;\n",
       "    }\n",
       "\n",
       "    .dataframe tbody tr th {\n",
       "        vertical-align: top;\n",
       "    }\n",
       "\n",
       "    .dataframe thead th {\n",
       "        text-align: right;\n",
       "    }\n",
       "</style>\n",
       "<table border=\"1\" class=\"dataframe\">\n",
       "  <thead>\n",
       "    <tr style=\"text-align: right;\">\n",
       "      <th></th>\n",
       "      <th>tweet_id</th>\n",
       "      <th>timestamp</th>\n",
       "      <th>source</th>\n",
       "      <th>text</th>\n",
       "      <th>expanded_urls</th>\n",
       "      <th>rating_numerator</th>\n",
       "      <th>rating_denominator</th>\n",
       "      <th>name</th>\n",
       "      <th>doggo</th>\n",
       "      <th>floofer</th>\n",
       "      <th>pupper</th>\n",
       "      <th>puppo</th>\n",
       "    </tr>\n",
       "  </thead>\n",
       "  <tbody>\n",
       "  </tbody>\n",
       "</table>\n",
       "</div>"
      ],
      "text/plain": [
       "Empty DataFrame\n",
       "Columns: [tweet_id, timestamp, source, text, expanded_urls, rating_numerator, rating_denominator, name, doggo, floofer, pupper, puppo]\n",
       "Index: []"
      ]
     },
     "execution_count": 38,
     "metadata": {},
     "output_type": "execute_result"
    }
   ],
   "source": [
    "# verify above change (in code) is effected\n",
    "twitter_archive_clean.query('name == \"DayZ\"')"
   ]
  },
  {
   "cell_type": "markdown",
   "id": "cbb48087",
   "metadata": {},
   "source": [
    " "
   ]
  },
  {
   "cell_type": "markdown",
   "id": "3b39609f",
   "metadata": {},
   "source": [
    "#### Issue 4\n",
    "Null entries represented as __'None'__ in stages and name columns, and other lower case text in name column (e.g. 'a', 'an', 'the') in ```twitter_archive``` dataframe."
   ]
  },
  {
   "cell_type": "markdown",
   "id": "9474ea82",
   "metadata": {},
   "source": [
    "##### Define\n",
    "Replace all __\"None\"__ in name column and all names begiining with lower case with with null values i.e. ```np.nan```"
   ]
  },
  {
   "cell_type": "markdown",
   "id": "8cbe0365",
   "metadata": {},
   "source": [
    "##### Code"
   ]
  },
  {
   "cell_type": "code",
   "execution_count": 39,
   "id": "c05640f2",
   "metadata": {},
   "outputs": [],
   "source": [
    "#  iterate for instances of names begining with a small letter or is 'None' and replace with nulls\n",
    "for name in twitter_archive_clean['name']:\n",
    "    if str(name).islower() or str(name) == \"None\":\n",
    "        twitter_archive_clean['name'].replace(name, np.nan, inplace=True)"
   ]
  },
  {
   "cell_type": "markdown",
   "id": "680f713e",
   "metadata": {},
   "source": [
    "##### Test"
   ]
  },
  {
   "cell_type": "code",
   "execution_count": 40,
   "id": "80642de1",
   "metadata": {
    "scrolled": true
   },
   "outputs": [
    {
     "data": {
      "text/html": [
       "<div>\n",
       "<style scoped>\n",
       "    .dataframe tbody tr th:only-of-type {\n",
       "        vertical-align: middle;\n",
       "    }\n",
       "\n",
       "    .dataframe tbody tr th {\n",
       "        vertical-align: top;\n",
       "    }\n",
       "\n",
       "    .dataframe thead th {\n",
       "        text-align: right;\n",
       "    }\n",
       "</style>\n",
       "<table border=\"1\" class=\"dataframe\">\n",
       "  <thead>\n",
       "    <tr style=\"text-align: right;\">\n",
       "      <th></th>\n",
       "      <th>tweet_id</th>\n",
       "      <th>timestamp</th>\n",
       "      <th>source</th>\n",
       "      <th>text</th>\n",
       "      <th>expanded_urls</th>\n",
       "      <th>rating_numerator</th>\n",
       "      <th>rating_denominator</th>\n",
       "      <th>name</th>\n",
       "      <th>doggo</th>\n",
       "      <th>floofer</th>\n",
       "      <th>pupper</th>\n",
       "      <th>puppo</th>\n",
       "    </tr>\n",
       "  </thead>\n",
       "  <tbody>\n",
       "  </tbody>\n",
       "</table>\n",
       "</div>"
      ],
      "text/plain": [
       "Empty DataFrame\n",
       "Columns: [tweet_id, timestamp, source, text, expanded_urls, rating_numerator, rating_denominator, name, doggo, floofer, pupper, puppo]\n",
       "Index: []"
      ]
     },
     "execution_count": 40,
     "metadata": {},
     "output_type": "execute_result"
    }
   ],
   "source": [
    "# Check for instances of name represented as \"None\"\n",
    "twitter_archive_clean.query('name ==\"None\"')"
   ]
  },
  {
   "cell_type": "code",
   "execution_count": 41,
   "id": "e7937e40",
   "metadata": {},
   "outputs": [
    {
     "data": {
      "text/html": [
       "<div>\n",
       "<style scoped>\n",
       "    .dataframe tbody tr th:only-of-type {\n",
       "        vertical-align: middle;\n",
       "    }\n",
       "\n",
       "    .dataframe tbody tr th {\n",
       "        vertical-align: top;\n",
       "    }\n",
       "\n",
       "    .dataframe thead th {\n",
       "        text-align: right;\n",
       "    }\n",
       "</style>\n",
       "<table border=\"1\" class=\"dataframe\">\n",
       "  <thead>\n",
       "    <tr style=\"text-align: right;\">\n",
       "      <th></th>\n",
       "      <th>tweet_id</th>\n",
       "      <th>timestamp</th>\n",
       "      <th>source</th>\n",
       "      <th>text</th>\n",
       "      <th>expanded_urls</th>\n",
       "      <th>rating_numerator</th>\n",
       "      <th>rating_denominator</th>\n",
       "      <th>name</th>\n",
       "      <th>doggo</th>\n",
       "      <th>floofer</th>\n",
       "      <th>pupper</th>\n",
       "      <th>puppo</th>\n",
       "    </tr>\n",
       "  </thead>\n",
       "  <tbody>\n",
       "  </tbody>\n",
       "</table>\n",
       "</div>"
      ],
      "text/plain": [
       "Empty DataFrame\n",
       "Columns: [tweet_id, timestamp, source, text, expanded_urls, rating_numerator, rating_denominator, name, doggo, floofer, pupper, puppo]\n",
       "Index: []"
      ]
     },
     "execution_count": 41,
     "metadata": {},
     "output_type": "execute_result"
    }
   ],
   "source": [
    "# check for few names starting with lower case \n",
    "twitter_archive_clean.query('name == \"a\" | name == \"an\" | name == \"the\"')"
   ]
  },
  {
   "cell_type": "markdown",
   "id": "f6706999",
   "metadata": {},
   "source": [
    " "
   ]
  },
  {
   "cell_type": "markdown",
   "id": "d810ce39",
   "metadata": {},
   "source": [
    "#### Issue_5\n",
    "\n",
    "Same name represented differently in __twitter_archive__ dataframe (i.e. Frank, Frönq, Frankie, Gordon and Gòrdón)"
   ]
  },
  {
   "cell_type": "code",
   "execution_count": 42,
   "id": "19084333",
   "metadata": {},
   "outputs": [
    {
     "data": {
      "text/html": [
       "<div>\n",
       "<style scoped>\n",
       "    .dataframe tbody tr th:only-of-type {\n",
       "        vertical-align: middle;\n",
       "    }\n",
       "\n",
       "    .dataframe tbody tr th {\n",
       "        vertical-align: top;\n",
       "    }\n",
       "\n",
       "    .dataframe thead th {\n",
       "        text-align: right;\n",
       "    }\n",
       "</style>\n",
       "<table border=\"1\" class=\"dataframe\">\n",
       "  <thead>\n",
       "    <tr style=\"text-align: right;\">\n",
       "      <th></th>\n",
       "      <th>tweet_id</th>\n",
       "      <th>timestamp</th>\n",
       "      <th>source</th>\n",
       "      <th>text</th>\n",
       "      <th>expanded_urls</th>\n",
       "      <th>rating_numerator</th>\n",
       "      <th>rating_denominator</th>\n",
       "      <th>name</th>\n",
       "      <th>doggo</th>\n",
       "      <th>floofer</th>\n",
       "      <th>pupper</th>\n",
       "      <th>puppo</th>\n",
       "    </tr>\n",
       "  </thead>\n",
       "  <tbody>\n",
       "    <tr>\n",
       "      <th>688</th>\n",
       "      <td>787810552592695296</td>\n",
       "      <td>2016-10-17 00:20:47 +0000</td>\n",
       "      <td>&lt;a href=\"http://twitter.com/download/iphone\" r...</td>\n",
       "      <td>This is Frank. He wears sunglasses and walks h...</td>\n",
       "      <td>https://twitter.com/dog_rates/status/787810552...</td>\n",
       "      <td>11</td>\n",
       "      <td>10</td>\n",
       "      <td>Frank</td>\n",
       "      <td>None</td>\n",
       "      <td>None</td>\n",
       "      <td>None</td>\n",
       "      <td>None</td>\n",
       "    </tr>\n",
       "    <tr>\n",
       "      <th>711</th>\n",
       "      <td>784517518371221505</td>\n",
       "      <td>2016-10-07 22:15:26 +0000</td>\n",
       "      <td>&lt;a href=\"http://twitter.com/download/iphone\" r...</td>\n",
       "      <td>This is Frankie. He has yet to learn how to co...</td>\n",
       "      <td>https://twitter.com/dog_rates/status/784517518...</td>\n",
       "      <td>11</td>\n",
       "      <td>10</td>\n",
       "      <td>Frankie</td>\n",
       "      <td>None</td>\n",
       "      <td>None</td>\n",
       "      <td>None</td>\n",
       "      <td>None</td>\n",
       "    </tr>\n",
       "    <tr>\n",
       "      <th>1559</th>\n",
       "      <td>688547210804498433</td>\n",
       "      <td>2016-01-17 02:23:42 +0000</td>\n",
       "      <td>&lt;a href=\"http://twitter.com/download/iphone\" r...</td>\n",
       "      <td>This is Frönq. He got caught stealing a waffle...</td>\n",
       "      <td>https://twitter.com/dog_rates/status/688547210...</td>\n",
       "      <td>9</td>\n",
       "      <td>10</td>\n",
       "      <td>Frönq</td>\n",
       "      <td>None</td>\n",
       "      <td>None</td>\n",
       "      <td>None</td>\n",
       "      <td>None</td>\n",
       "    </tr>\n",
       "    <tr>\n",
       "      <th>1580</th>\n",
       "      <td>687127927494963200</td>\n",
       "      <td>2016-01-13 04:23:58 +0000</td>\n",
       "      <td>&lt;a href=\"http://twitter.com/download/iphone\" r...</td>\n",
       "      <td>Meet Gordon. He's an asshole. 9/10 would still...</td>\n",
       "      <td>https://twitter.com/dog_rates/status/687127927...</td>\n",
       "      <td>9</td>\n",
       "      <td>10</td>\n",
       "      <td>Gordon</td>\n",
       "      <td>None</td>\n",
       "      <td>None</td>\n",
       "      <td>None</td>\n",
       "      <td>None</td>\n",
       "    </tr>\n",
       "    <tr>\n",
       "      <th>1968</th>\n",
       "      <td>673320132811366400</td>\n",
       "      <td>2015-12-06 01:56:44 +0000</td>\n",
       "      <td>&lt;a href=\"http://twitter.com/download/iphone\" r...</td>\n",
       "      <td>This is Frankie. He's wearing blush. 11/10 rea...</td>\n",
       "      <td>https://twitter.com/dog_rates/status/673320132...</td>\n",
       "      <td>11</td>\n",
       "      <td>10</td>\n",
       "      <td>Frankie</td>\n",
       "      <td>None</td>\n",
       "      <td>None</td>\n",
       "      <td>None</td>\n",
       "      <td>None</td>\n",
       "    </tr>\n",
       "    <tr>\n",
       "      <th>2217</th>\n",
       "      <td>668528771708952576</td>\n",
       "      <td>2015-11-22 20:37:34 +0000</td>\n",
       "      <td>&lt;a href=\"http://twitter.com/download/iphone\" r...</td>\n",
       "      <td>This is Gòrdón. He enjoys his razberrita by po...</td>\n",
       "      <td>https://twitter.com/dog_rates/status/668528771...</td>\n",
       "      <td>12</td>\n",
       "      <td>10</td>\n",
       "      <td>Gòrdón</td>\n",
       "      <td>None</td>\n",
       "      <td>None</td>\n",
       "      <td>None</td>\n",
       "      <td>None</td>\n",
       "    </tr>\n",
       "    <tr>\n",
       "      <th>2265</th>\n",
       "      <td>667534815156183040</td>\n",
       "      <td>2015-11-20 02:47:56 +0000</td>\n",
       "      <td>&lt;a href=\"http://twitter.com\" rel=\"nofollow\"&gt;Tw...</td>\n",
       "      <td>This is Frank (pronounced \"Fronq\"). Too many b...</td>\n",
       "      <td>https://twitter.com/dog_rates/status/667534815...</td>\n",
       "      <td>8</td>\n",
       "      <td>10</td>\n",
       "      <td>Frank</td>\n",
       "      <td>None</td>\n",
       "      <td>None</td>\n",
       "      <td>None</td>\n",
       "      <td>None</td>\n",
       "    </tr>\n",
       "  </tbody>\n",
       "</table>\n",
       "</div>"
      ],
      "text/plain": [
       "                tweet_id                  timestamp  \\\n",
       "688   787810552592695296  2016-10-17 00:20:47 +0000   \n",
       "711   784517518371221505  2016-10-07 22:15:26 +0000   \n",
       "1559  688547210804498433  2016-01-17 02:23:42 +0000   \n",
       "1580  687127927494963200  2016-01-13 04:23:58 +0000   \n",
       "1968  673320132811366400  2015-12-06 01:56:44 +0000   \n",
       "2217  668528771708952576  2015-11-22 20:37:34 +0000   \n",
       "2265  667534815156183040  2015-11-20 02:47:56 +0000   \n",
       "\n",
       "                                                 source  \\\n",
       "688   <a href=\"http://twitter.com/download/iphone\" r...   \n",
       "711   <a href=\"http://twitter.com/download/iphone\" r...   \n",
       "1559  <a href=\"http://twitter.com/download/iphone\" r...   \n",
       "1580  <a href=\"http://twitter.com/download/iphone\" r...   \n",
       "1968  <a href=\"http://twitter.com/download/iphone\" r...   \n",
       "2217  <a href=\"http://twitter.com/download/iphone\" r...   \n",
       "2265  <a href=\"http://twitter.com\" rel=\"nofollow\">Tw...   \n",
       "\n",
       "                                                   text  \\\n",
       "688   This is Frank. He wears sunglasses and walks h...   \n",
       "711   This is Frankie. He has yet to learn how to co...   \n",
       "1559  This is Frönq. He got caught stealing a waffle...   \n",
       "1580  Meet Gordon. He's an asshole. 9/10 would still...   \n",
       "1968  This is Frankie. He's wearing blush. 11/10 rea...   \n",
       "2217  This is Gòrdón. He enjoys his razberrita by po...   \n",
       "2265  This is Frank (pronounced \"Fronq\"). Too many b...   \n",
       "\n",
       "                                          expanded_urls  rating_numerator  \\\n",
       "688   https://twitter.com/dog_rates/status/787810552...                11   \n",
       "711   https://twitter.com/dog_rates/status/784517518...                11   \n",
       "1559  https://twitter.com/dog_rates/status/688547210...                 9   \n",
       "1580  https://twitter.com/dog_rates/status/687127927...                 9   \n",
       "1968  https://twitter.com/dog_rates/status/673320132...                11   \n",
       "2217  https://twitter.com/dog_rates/status/668528771...                12   \n",
       "2265  https://twitter.com/dog_rates/status/667534815...                 8   \n",
       "\n",
       "      rating_denominator     name doggo floofer pupper puppo  \n",
       "688                   10    Frank  None    None   None  None  \n",
       "711                   10  Frankie  None    None   None  None  \n",
       "1559                  10    Frönq  None    None   None  None  \n",
       "1580                  10   Gordon  None    None   None  None  \n",
       "1968                  10  Frankie  None    None   None  None  \n",
       "2217                  10   Gòrdón  None    None   None  None  \n",
       "2265                  10    Frank  None    None   None  None  "
      ]
     },
     "execution_count": 42,
     "metadata": {},
     "output_type": "execute_result"
    }
   ],
   "source": [
    "# view instances of the name Frank and Gordon\n",
    "twitter_archive_clean.query('name == \"Frönq\" | name ==\"Frankie\" | name == \"Frank\" | name==\"Gòrdón\" | name == \"Gordon\"')"
   ]
  },
  {
   "cell_type": "markdown",
   "id": "5da0d894",
   "metadata": {},
   "source": [
    "##### Define\n",
    "1. Replace all instances of Frönq and Frankie with Frank\n",
    "2. Replace all instances of Gòrdón with Gordon\n"
   ]
  },
  {
   "cell_type": "markdown",
   "id": "4a9f533f",
   "metadata": {},
   "source": [
    "##### Code"
   ]
  },
  {
   "cell_type": "code",
   "execution_count": 43,
   "id": "be9452b3",
   "metadata": {},
   "outputs": [],
   "source": [
    "# replace instances of names identified and defined above with appropriate ones\n",
    "twitter_archive_clean['name'] = twitter_archive_clean['name'].replace(to_replace=['Frönq', 'Frankie', 'Gòrdón'], value=['Frank', 'Frank','Gordon'])"
   ]
  },
  {
   "cell_type": "markdown",
   "id": "05e70aa0",
   "metadata": {},
   "source": [
    "##### Test"
   ]
  },
  {
   "cell_type": "code",
   "execution_count": 44,
   "id": "7d077560",
   "metadata": {
    "scrolled": false
   },
   "outputs": [
    {
     "data": {
      "text/html": [
       "<div>\n",
       "<style scoped>\n",
       "    .dataframe tbody tr th:only-of-type {\n",
       "        vertical-align: middle;\n",
       "    }\n",
       "\n",
       "    .dataframe tbody tr th {\n",
       "        vertical-align: top;\n",
       "    }\n",
       "\n",
       "    .dataframe thead th {\n",
       "        text-align: right;\n",
       "    }\n",
       "</style>\n",
       "<table border=\"1\" class=\"dataframe\">\n",
       "  <thead>\n",
       "    <tr style=\"text-align: right;\">\n",
       "      <th></th>\n",
       "      <th>tweet_id</th>\n",
       "      <th>timestamp</th>\n",
       "      <th>source</th>\n",
       "      <th>text</th>\n",
       "      <th>expanded_urls</th>\n",
       "      <th>rating_numerator</th>\n",
       "      <th>rating_denominator</th>\n",
       "      <th>name</th>\n",
       "      <th>doggo</th>\n",
       "      <th>floofer</th>\n",
       "      <th>pupper</th>\n",
       "      <th>puppo</th>\n",
       "    </tr>\n",
       "  </thead>\n",
       "  <tbody>\n",
       "  </tbody>\n",
       "</table>\n",
       "</div>"
      ],
      "text/plain": [
       "Empty DataFrame\n",
       "Columns: [tweet_id, timestamp, source, text, expanded_urls, rating_numerator, rating_denominator, name, doggo, floofer, pupper, puppo]\n",
       "Index: []"
      ]
     },
     "execution_count": 44,
     "metadata": {},
     "output_type": "execute_result"
    }
   ],
   "source": [
    "# verify above change is effected\n",
    "twitter_archive_clean.query('name == \"Frönq\" | name ==\"Frankie\" | name==\"Gòrdón\"')"
   ]
  },
  {
   "cell_type": "markdown",
   "id": "99d1247c",
   "metadata": {},
   "source": [
    "Comment:\n",
    "\n",
    "    Test code outputs a null which implies no instances of Frönq, Frankie and Gòrdón are present in the datatset"
   ]
  },
  {
   "cell_type": "markdown",
   "id": "c087bbf8",
   "metadata": {},
   "source": [
    " "
   ]
  },
  {
   "cell_type": "markdown",
   "id": "7be1c250",
   "metadata": {},
   "source": [
    "#### Issue 6\n",
    "\n",
    "Erroneous data types in all three datasets: ```tweet_id``` all in datasets and ```timestamp``` in __twitter_archive__ dataset"
   ]
  },
  {
   "cell_type": "markdown",
   "id": "43623b76",
   "metadata": {},
   "source": [
    "##### Define\n",
    "\n",
    "Change datatypes to appropriate ones: ```tweet_id``` in each dataset to string and ```timestamp``` to datetime"
   ]
  },
  {
   "cell_type": "markdown",
   "id": "6ac6230f",
   "metadata": {},
   "source": [
    "##### Code"
   ]
  },
  {
   "cell_type": "code",
   "execution_count": 45,
   "id": "d45a0d94",
   "metadata": {},
   "outputs": [],
   "source": [
    "# change columns datatypes to approriately\n",
    "twitter_archive_clean = twitter_archive_clean.astype({'tweet_id':'str', 'timestamp':'datetime64[ns, UTC]'})\n",
    "image_predictions_clean = image_predictions_clean.astype({'tweet_id':'str'})\n",
    "tweet_json_clean = tweet_json_clean.astype({'id':'str'})"
   ]
  },
  {
   "cell_type": "markdown",
   "id": "ee801f47",
   "metadata": {},
   "source": [
    "##### Test"
   ]
  },
  {
   "cell_type": "code",
   "execution_count": 46,
   "id": "5588f282",
   "metadata": {
    "scrolled": true
   },
   "outputs": [
    {
     "data": {
      "text/plain": [
       "tweet_id                           object\n",
       "timestamp             datetime64[ns, UTC]\n",
       "source                             object\n",
       "text                               object\n",
       "expanded_urls                      object\n",
       "rating_numerator                    int64\n",
       "rating_denominator                  int64\n",
       "name                               object\n",
       "doggo                              object\n",
       "floofer                            object\n",
       "pupper                             object\n",
       "puppo                              object\n",
       "dtype: object"
      ]
     },
     "execution_count": 46,
     "metadata": {},
     "output_type": "execute_result"
    }
   ],
   "source": [
    "# verify datatypes in twitter_archive dataset have been changed\n",
    "twitter_archive_clean.dtypes"
   ]
  },
  {
   "cell_type": "code",
   "execution_count": 47,
   "id": "1e36711d",
   "metadata": {},
   "outputs": [
    {
     "data": {
      "text/plain": [
       "tweet_id     object\n",
       "jpg_url      object\n",
       "img_num       int64\n",
       "p1           object\n",
       "p1_conf     float64\n",
       "p1_dog         bool\n",
       "p2           object\n",
       "p2_conf     float64\n",
       "p2_dog         bool\n",
       "p3           object\n",
       "p3_conf     float64\n",
       "p3_dog         bool\n",
       "dtype: object"
      ]
     },
     "execution_count": 47,
     "metadata": {},
     "output_type": "execute_result"
    }
   ],
   "source": [
    "# verify datatypes in image_predictions dataset have been changed\n",
    "image_predictions_clean.dtypes"
   ]
  },
  {
   "cell_type": "code",
   "execution_count": 48,
   "id": "7eb456ef",
   "metadata": {},
   "outputs": [
    {
     "data": {
      "text/plain": [
       "id                object\n",
       "retweet_count      int64\n",
       "favorite_count     int64\n",
       "dtype: object"
      ]
     },
     "execution_count": 48,
     "metadata": {},
     "output_type": "execute_result"
    }
   ],
   "source": [
    "# verify datatypes in tweet_json dataset have been changed\n",
    "tweet_json_clean.dtypes"
   ]
  },
  {
   "cell_type": "markdown",
   "id": "795fbec9",
   "metadata": {},
   "source": [
    " "
   ]
  },
  {
   "cell_type": "markdown",
   "id": "63832dc2",
   "metadata": {},
   "source": [
    "#### Issue 7\n",
    "\n",
    "Inconsistent column name of id column of __tweet_json__ dataset compared to __twitter_archive__ and __image_predictions__ datasets"
   ]
  },
  {
   "cell_type": "markdown",
   "id": "a2a37f8f",
   "metadata": {},
   "source": [
    "##### Define\n",
    "Rename column name \"id\" in __tweet_json__ to \"tweet_id\""
   ]
  },
  {
   "cell_type": "markdown",
   "id": "a7dd1ee4",
   "metadata": {},
   "source": [
    "##### Code"
   ]
  },
  {
   "cell_type": "code",
   "execution_count": 49,
   "id": "1f8ec150",
   "metadata": {},
   "outputs": [],
   "source": [
    "# rename 'id' column in tweets_json dataframe to match that of the other two datasets\n",
    "tweet_json_clean.rename(columns = {'id':'tweet_id'}, inplace=True)"
   ]
  },
  {
   "cell_type": "markdown",
   "id": "5d661c20",
   "metadata": {},
   "source": [
    "##### Test"
   ]
  },
  {
   "cell_type": "code",
   "execution_count": 50,
   "id": "fcae6551",
   "metadata": {
    "scrolled": false
   },
   "outputs": [
    {
     "data": {
      "text/html": [
       "<div>\n",
       "<style scoped>\n",
       "    .dataframe tbody tr th:only-of-type {\n",
       "        vertical-align: middle;\n",
       "    }\n",
       "\n",
       "    .dataframe tbody tr th {\n",
       "        vertical-align: top;\n",
       "    }\n",
       "\n",
       "    .dataframe thead th {\n",
       "        text-align: right;\n",
       "    }\n",
       "</style>\n",
       "<table border=\"1\" class=\"dataframe\">\n",
       "  <thead>\n",
       "    <tr style=\"text-align: right;\">\n",
       "      <th></th>\n",
       "      <th>tweet_id</th>\n",
       "      <th>retweet_count</th>\n",
       "      <th>favorite_count</th>\n",
       "    </tr>\n",
       "  </thead>\n",
       "  <tbody>\n",
       "    <tr>\n",
       "      <th>0</th>\n",
       "      <td>892420643555336193</td>\n",
       "      <td>8853</td>\n",
       "      <td>39467</td>\n",
       "    </tr>\n",
       "    <tr>\n",
       "      <th>1</th>\n",
       "      <td>892177421306343426</td>\n",
       "      <td>6514</td>\n",
       "      <td>33819</td>\n",
       "    </tr>\n",
       "  </tbody>\n",
       "</table>\n",
       "</div>"
      ],
      "text/plain": [
       "             tweet_id  retweet_count  favorite_count\n",
       "0  892420643555336193           8853           39467\n",
       "1  892177421306343426           6514           33819"
      ]
     },
     "execution_count": 50,
     "metadata": {},
     "output_type": "execute_result"
    }
   ],
   "source": [
    "# verify column name has changed\n",
    "tweet_json_clean.head(2)"
   ]
  },
  {
   "cell_type": "markdown",
   "id": "934789e2",
   "metadata": {},
   "source": [
    " "
   ]
  },
  {
   "cell_type": "markdown",
   "id": "1756be7a",
   "metadata": {},
   "source": [
    " "
   ]
  },
  {
   "cell_type": "markdown",
   "id": "c42c4882",
   "metadata": {},
   "source": [
    "#### Issue 8\n",
    "Inconsistent value format in columns 'p1', 'p2' and 'p3' of __image_predictions__ dataframe"
   ]
  },
  {
   "cell_type": "code",
   "execution_count": 51,
   "id": "c403b665",
   "metadata": {
    "scrolled": false
   },
   "outputs": [
    {
     "data": {
      "text/html": [
       "<div>\n",
       "<style scoped>\n",
       "    .dataframe tbody tr th:only-of-type {\n",
       "        vertical-align: middle;\n",
       "    }\n",
       "\n",
       "    .dataframe tbody tr th {\n",
       "        vertical-align: top;\n",
       "    }\n",
       "\n",
       "    .dataframe thead th {\n",
       "        text-align: right;\n",
       "    }\n",
       "</style>\n",
       "<table border=\"1\" class=\"dataframe\">\n",
       "  <thead>\n",
       "    <tr style=\"text-align: right;\">\n",
       "      <th></th>\n",
       "      <th>p1</th>\n",
       "      <th>p2</th>\n",
       "      <th>p3</th>\n",
       "    </tr>\n",
       "  </thead>\n",
       "  <tbody>\n",
       "    <tr>\n",
       "      <th>1017</th>\n",
       "      <td>Pembroke</td>\n",
       "      <td>Cardigan</td>\n",
       "      <td>Chihuahua</td>\n",
       "    </tr>\n",
       "    <tr>\n",
       "      <th>202</th>\n",
       "      <td>Pomeranian</td>\n",
       "      <td>Chihuahua</td>\n",
       "      <td>Pekinese</td>\n",
       "    </tr>\n",
       "    <tr>\n",
       "      <th>359</th>\n",
       "      <td>golden_retriever</td>\n",
       "      <td>Labrador_retriever</td>\n",
       "      <td>clumber</td>\n",
       "    </tr>\n",
       "    <tr>\n",
       "      <th>367</th>\n",
       "      <td>Chihuahua</td>\n",
       "      <td>pug</td>\n",
       "      <td>French_bulldog</td>\n",
       "    </tr>\n",
       "    <tr>\n",
       "      <th>572</th>\n",
       "      <td>schipperke</td>\n",
       "      <td>Labrador_retriever</td>\n",
       "      <td>kelpie</td>\n",
       "    </tr>\n",
       "    <tr>\n",
       "      <th>1693</th>\n",
       "      <td>English_setter</td>\n",
       "      <td>Border_collie</td>\n",
       "      <td>cocker_spaniel</td>\n",
       "    </tr>\n",
       "    <tr>\n",
       "      <th>1778</th>\n",
       "      <td>Weimaraner</td>\n",
       "      <td>Chesapeake_Bay_retriever</td>\n",
       "      <td>American_Staffordshire_terrier</td>\n",
       "    </tr>\n",
       "    <tr>\n",
       "      <th>2019</th>\n",
       "      <td>golden_retriever</td>\n",
       "      <td>Labrador_retriever</td>\n",
       "      <td>cocker_spaniel</td>\n",
       "    </tr>\n",
       "    <tr>\n",
       "      <th>410</th>\n",
       "      <td>Brabancon_griffon</td>\n",
       "      <td>Chihuahua</td>\n",
       "      <td>golden_retriever</td>\n",
       "    </tr>\n",
       "    <tr>\n",
       "      <th>1546</th>\n",
       "      <td>cocker_spaniel</td>\n",
       "      <td>Irish_setter</td>\n",
       "      <td>miniature_poodle</td>\n",
       "    </tr>\n",
       "    <tr>\n",
       "      <th>1801</th>\n",
       "      <td>Pomeranian</td>\n",
       "      <td>marmot</td>\n",
       "      <td>grey_fox</td>\n",
       "    </tr>\n",
       "    <tr>\n",
       "      <th>1072</th>\n",
       "      <td>Pomeranian</td>\n",
       "      <td>seat_belt</td>\n",
       "      <td>golden_retriever</td>\n",
       "    </tr>\n",
       "    <tr>\n",
       "      <th>712</th>\n",
       "      <td>Boston_bull</td>\n",
       "      <td>French_bulldog</td>\n",
       "      <td>boxer</td>\n",
       "    </tr>\n",
       "    <tr>\n",
       "      <th>199</th>\n",
       "      <td>weasel</td>\n",
       "      <td>Siamese_cat</td>\n",
       "      <td>hamster</td>\n",
       "    </tr>\n",
       "    <tr>\n",
       "      <th>1502</th>\n",
       "      <td>malamute</td>\n",
       "      <td>Eskimo_dog</td>\n",
       "      <td>Siberian_husky</td>\n",
       "    </tr>\n",
       "    <tr>\n",
       "      <th>1490</th>\n",
       "      <td>Irish_setter</td>\n",
       "      <td>golden_retriever</td>\n",
       "      <td>seat_belt</td>\n",
       "    </tr>\n",
       "    <tr>\n",
       "      <th>1036</th>\n",
       "      <td>espresso</td>\n",
       "      <td>coffee_mug</td>\n",
       "      <td>cup</td>\n",
       "    </tr>\n",
       "    <tr>\n",
       "      <th>956</th>\n",
       "      <td>Chihuahua</td>\n",
       "      <td>quilt</td>\n",
       "      <td>Pembroke</td>\n",
       "    </tr>\n",
       "    <tr>\n",
       "      <th>837</th>\n",
       "      <td>boxer</td>\n",
       "      <td>bull_mastiff</td>\n",
       "      <td>Saint_Bernard</td>\n",
       "    </tr>\n",
       "    <tr>\n",
       "      <th>1338</th>\n",
       "      <td>Labrador_retriever</td>\n",
       "      <td>Chihuahua</td>\n",
       "      <td>American_Staffordshire_terrier</td>\n",
       "    </tr>\n",
       "    <tr>\n",
       "      <th>1789</th>\n",
       "      <td>golden_retriever</td>\n",
       "      <td>Labrador_retriever</td>\n",
       "      <td>tennis_ball</td>\n",
       "    </tr>\n",
       "    <tr>\n",
       "      <th>657</th>\n",
       "      <td>seat_belt</td>\n",
       "      <td>Lakeland_terrier</td>\n",
       "      <td>Airedale</td>\n",
       "    </tr>\n",
       "    <tr>\n",
       "      <th>496</th>\n",
       "      <td>Maltese_dog</td>\n",
       "      <td>West_Highland_white_terrier</td>\n",
       "      <td>toy_poodle</td>\n",
       "    </tr>\n",
       "    <tr>\n",
       "      <th>733</th>\n",
       "      <td>cheeseburger</td>\n",
       "      <td>hotdog</td>\n",
       "      <td>bagel</td>\n",
       "    </tr>\n",
       "    <tr>\n",
       "      <th>1389</th>\n",
       "      <td>keeshond</td>\n",
       "      <td>Pomeranian</td>\n",
       "      <td>Norwegian_elkhound</td>\n",
       "    </tr>\n",
       "    <tr>\n",
       "      <th>806</th>\n",
       "      <td>minivan</td>\n",
       "      <td>sports_car</td>\n",
       "      <td>limousine</td>\n",
       "    </tr>\n",
       "    <tr>\n",
       "      <th>1849</th>\n",
       "      <td>Staffordshire_bullterrier</td>\n",
       "      <td>American_Staffordshire_terrier</td>\n",
       "      <td>Boston_bull</td>\n",
       "    </tr>\n",
       "    <tr>\n",
       "      <th>215</th>\n",
       "      <td>snail</td>\n",
       "      <td>slug</td>\n",
       "      <td>bolete</td>\n",
       "    </tr>\n",
       "    <tr>\n",
       "      <th>1135</th>\n",
       "      <td>Saint_Bernard</td>\n",
       "      <td>collie</td>\n",
       "      <td>borzoi</td>\n",
       "    </tr>\n",
       "    <tr>\n",
       "      <th>1701</th>\n",
       "      <td>Saluki</td>\n",
       "      <td>Afghan_hound</td>\n",
       "      <td>golden_retriever</td>\n",
       "    </tr>\n",
       "  </tbody>\n",
       "</table>\n",
       "</div>"
      ],
      "text/plain": [
       "                             p1                              p2  \\\n",
       "1017                   Pembroke                        Cardigan   \n",
       "202                  Pomeranian                       Chihuahua   \n",
       "359            golden_retriever              Labrador_retriever   \n",
       "367                   Chihuahua                             pug   \n",
       "572                  schipperke              Labrador_retriever   \n",
       "1693             English_setter                   Border_collie   \n",
       "1778                 Weimaraner        Chesapeake_Bay_retriever   \n",
       "2019           golden_retriever              Labrador_retriever   \n",
       "410           Brabancon_griffon                       Chihuahua   \n",
       "1546             cocker_spaniel                    Irish_setter   \n",
       "1801                 Pomeranian                          marmot   \n",
       "1072                 Pomeranian                       seat_belt   \n",
       "712                 Boston_bull                  French_bulldog   \n",
       "199                      weasel                     Siamese_cat   \n",
       "1502                   malamute                      Eskimo_dog   \n",
       "1490               Irish_setter                golden_retriever   \n",
       "1036                   espresso                      coffee_mug   \n",
       "956                   Chihuahua                           quilt   \n",
       "837                       boxer                    bull_mastiff   \n",
       "1338         Labrador_retriever                       Chihuahua   \n",
       "1789           golden_retriever              Labrador_retriever   \n",
       "657                   seat_belt                Lakeland_terrier   \n",
       "496                 Maltese_dog     West_Highland_white_terrier   \n",
       "733                cheeseburger                          hotdog   \n",
       "1389                   keeshond                      Pomeranian   \n",
       "806                     minivan                      sports_car   \n",
       "1849  Staffordshire_bullterrier  American_Staffordshire_terrier   \n",
       "215                       snail                            slug   \n",
       "1135              Saint_Bernard                          collie   \n",
       "1701                     Saluki                    Afghan_hound   \n",
       "\n",
       "                                  p3  \n",
       "1017                       Chihuahua  \n",
       "202                         Pekinese  \n",
       "359                          clumber  \n",
       "367                   French_bulldog  \n",
       "572                           kelpie  \n",
       "1693                  cocker_spaniel  \n",
       "1778  American_Staffordshire_terrier  \n",
       "2019                  cocker_spaniel  \n",
       "410                 golden_retriever  \n",
       "1546                miniature_poodle  \n",
       "1801                        grey_fox  \n",
       "1072                golden_retriever  \n",
       "712                            boxer  \n",
       "199                          hamster  \n",
       "1502                  Siberian_husky  \n",
       "1490                       seat_belt  \n",
       "1036                             cup  \n",
       "956                         Pembroke  \n",
       "837                    Saint_Bernard  \n",
       "1338  American_Staffordshire_terrier  \n",
       "1789                     tennis_ball  \n",
       "657                         Airedale  \n",
       "496                       toy_poodle  \n",
       "733                            bagel  \n",
       "1389              Norwegian_elkhound  \n",
       "806                        limousine  \n",
       "1849                     Boston_bull  \n",
       "215                           bolete  \n",
       "1135                          borzoi  \n",
       "1701                golden_retriever  "
      ]
     },
     "execution_count": 51,
     "metadata": {},
     "output_type": "execute_result"
    }
   ],
   "source": [
    "# view 30 samples of the p1, p2, and p3 columns\n",
    "image_predictions_clean[['p1','p2', 'p3']].sample(30)"
   ]
  },
  {
   "cell_type": "markdown",
   "id": "fc2e83be",
   "metadata": {},
   "source": [
    "Comment:\n",
    "\n",
    "    Some column entries are all lower case letters while others begin with an upper case letter"
   ]
  },
  {
   "cell_type": "markdown",
   "id": "f221ead9",
   "metadata": {},
   "source": [
    "##### Define\n",
    "Standardize values in ```p1```, ```p2```, ```p3``` columns of __image_predictions__ by changing it all to lower case"
   ]
  },
  {
   "cell_type": "markdown",
   "id": "13a0f049",
   "metadata": {},
   "source": [
    "##### Code\n"
   ]
  },
  {
   "cell_type": "code",
   "execution_count": 52,
   "id": "ed2d1217",
   "metadata": {},
   "outputs": [],
   "source": [
    "image_predictions_clean['p1'] = image_predictions_clean['p1'].str.lower()\n",
    "image_predictions_clean['p2'] = image_predictions_clean['p2'].str.lower()\n",
    "image_predictions_clean['p3'] = image_predictions_clean['p3'].str.lower()\n",
    "    "
   ]
  },
  {
   "cell_type": "markdown",
   "id": "94248b25",
   "metadata": {},
   "source": [
    "##### Test"
   ]
  },
  {
   "cell_type": "code",
   "execution_count": 53,
   "id": "3676b095",
   "metadata": {
    "scrolled": false
   },
   "outputs": [
    {
     "data": {
      "text/html": [
       "<div>\n",
       "<style scoped>\n",
       "    .dataframe tbody tr th:only-of-type {\n",
       "        vertical-align: middle;\n",
       "    }\n",
       "\n",
       "    .dataframe tbody tr th {\n",
       "        vertical-align: top;\n",
       "    }\n",
       "\n",
       "    .dataframe thead th {\n",
       "        text-align: right;\n",
       "    }\n",
       "</style>\n",
       "<table border=\"1\" class=\"dataframe\">\n",
       "  <thead>\n",
       "    <tr style=\"text-align: right;\">\n",
       "      <th></th>\n",
       "      <th>p1</th>\n",
       "      <th>p2</th>\n",
       "      <th>p3</th>\n",
       "    </tr>\n",
       "  </thead>\n",
       "  <tbody>\n",
       "    <tr>\n",
       "      <th>424</th>\n",
       "      <td>ostrich</td>\n",
       "      <td>bearskin</td>\n",
       "      <td>swab</td>\n",
       "    </tr>\n",
       "    <tr>\n",
       "      <th>687</th>\n",
       "      <td>cheetah</td>\n",
       "      <td>arabian_camel</td>\n",
       "      <td>jaguar</td>\n",
       "    </tr>\n",
       "    <tr>\n",
       "      <th>1871</th>\n",
       "      <td>labrador_retriever</td>\n",
       "      <td>golden_retriever</td>\n",
       "      <td>chihuahua</td>\n",
       "    </tr>\n",
       "    <tr>\n",
       "      <th>1394</th>\n",
       "      <td>chow</td>\n",
       "      <td>golden_retriever</td>\n",
       "      <td>norfolk_terrier</td>\n",
       "    </tr>\n",
       "    <tr>\n",
       "      <th>2018</th>\n",
       "      <td>chihuahua</td>\n",
       "      <td>meerkat</td>\n",
       "      <td>clumber</td>\n",
       "    </tr>\n",
       "    <tr>\n",
       "      <th>722</th>\n",
       "      <td>damselfly</td>\n",
       "      <td>common_newt</td>\n",
       "      <td>whiptail</td>\n",
       "    </tr>\n",
       "    <tr>\n",
       "      <th>886</th>\n",
       "      <td>chihuahua</td>\n",
       "      <td>toyshop</td>\n",
       "      <td>weimaraner</td>\n",
       "    </tr>\n",
       "    <tr>\n",
       "      <th>1399</th>\n",
       "      <td>great_pyrenees</td>\n",
       "      <td>golden_retriever</td>\n",
       "      <td>labrador_retriever</td>\n",
       "    </tr>\n",
       "    <tr>\n",
       "      <th>322</th>\n",
       "      <td>labrador_retriever</td>\n",
       "      <td>chihuahua</td>\n",
       "      <td>golden_retriever</td>\n",
       "    </tr>\n",
       "    <tr>\n",
       "      <th>1184</th>\n",
       "      <td>labrador_retriever</td>\n",
       "      <td>golden_retriever</td>\n",
       "      <td>chesapeake_bay_retriever</td>\n",
       "    </tr>\n",
       "    <tr>\n",
       "      <th>1637</th>\n",
       "      <td>vizsla</td>\n",
       "      <td>brittany_spaniel</td>\n",
       "      <td>chesapeake_bay_retriever</td>\n",
       "    </tr>\n",
       "    <tr>\n",
       "      <th>1367</th>\n",
       "      <td>paddle</td>\n",
       "      <td>canoe</td>\n",
       "      <td>lakeside</td>\n",
       "    </tr>\n",
       "    <tr>\n",
       "      <th>1847</th>\n",
       "      <td>web_site</td>\n",
       "      <td>monitor</td>\n",
       "      <td>screen</td>\n",
       "    </tr>\n",
       "    <tr>\n",
       "      <th>1380</th>\n",
       "      <td>dalmatian</td>\n",
       "      <td>whippet</td>\n",
       "      <td>american_staffordshire_terrier</td>\n",
       "    </tr>\n",
       "    <tr>\n",
       "      <th>947</th>\n",
       "      <td>siamese_cat</td>\n",
       "      <td>chihuahua</td>\n",
       "      <td>basenji</td>\n",
       "    </tr>\n",
       "    <tr>\n",
       "      <th>768</th>\n",
       "      <td>chihuahua</td>\n",
       "      <td>american_staffordshire_terrier</td>\n",
       "      <td>staffordshire_bullterrier</td>\n",
       "    </tr>\n",
       "    <tr>\n",
       "      <th>1627</th>\n",
       "      <td>chow</td>\n",
       "      <td>binoculars</td>\n",
       "      <td>irish_setter</td>\n",
       "    </tr>\n",
       "    <tr>\n",
       "      <th>1948</th>\n",
       "      <td>australian_terrier</td>\n",
       "      <td>irish_terrier</td>\n",
       "      <td>german_shepherd</td>\n",
       "    </tr>\n",
       "    <tr>\n",
       "      <th>1051</th>\n",
       "      <td>siberian_husky</td>\n",
       "      <td>eskimo_dog</td>\n",
       "      <td>malamute</td>\n",
       "    </tr>\n",
       "    <tr>\n",
       "      <th>1488</th>\n",
       "      <td>briard</td>\n",
       "      <td>soft-coated_wheaten_terrier</td>\n",
       "      <td>lhasa</td>\n",
       "    </tr>\n",
       "    <tr>\n",
       "      <th>1923</th>\n",
       "      <td>golden_retriever</td>\n",
       "      <td>labrador_retriever</td>\n",
       "      <td>saluki</td>\n",
       "    </tr>\n",
       "    <tr>\n",
       "      <th>1316</th>\n",
       "      <td>labrador_retriever</td>\n",
       "      <td>golden_retriever</td>\n",
       "      <td>great_pyrenees</td>\n",
       "    </tr>\n",
       "    <tr>\n",
       "      <th>1535</th>\n",
       "      <td>pembroke</td>\n",
       "      <td>cardigan</td>\n",
       "      <td>toy_terrier</td>\n",
       "    </tr>\n",
       "    <tr>\n",
       "      <th>690</th>\n",
       "      <td>chihuahua</td>\n",
       "      <td>toy_terrier</td>\n",
       "      <td>boston_bull</td>\n",
       "    </tr>\n",
       "    <tr>\n",
       "      <th>304</th>\n",
       "      <td>lakeland_terrier</td>\n",
       "      <td>wire-haired_fox_terrier</td>\n",
       "      <td>toy_poodle</td>\n",
       "    </tr>\n",
       "    <tr>\n",
       "      <th>1561</th>\n",
       "      <td>afghan_hound</td>\n",
       "      <td>borzoi</td>\n",
       "      <td>doormat</td>\n",
       "    </tr>\n",
       "    <tr>\n",
       "      <th>959</th>\n",
       "      <td>basenji</td>\n",
       "      <td>italian_greyhound</td>\n",
       "      <td>miniature_pinscher</td>\n",
       "    </tr>\n",
       "    <tr>\n",
       "      <th>1228</th>\n",
       "      <td>labrador_retriever</td>\n",
       "      <td>golden_retriever</td>\n",
       "      <td>ice_bear</td>\n",
       "    </tr>\n",
       "    <tr>\n",
       "      <th>772</th>\n",
       "      <td>eskimo_dog</td>\n",
       "      <td>siberian_husky</td>\n",
       "      <td>dingo</td>\n",
       "    </tr>\n",
       "    <tr>\n",
       "      <th>1258</th>\n",
       "      <td>ox</td>\n",
       "      <td>plow</td>\n",
       "      <td>oxcart</td>\n",
       "    </tr>\n",
       "  </tbody>\n",
       "</table>\n",
       "</div>"
      ],
      "text/plain": [
       "                      p1                              p2  \\\n",
       "424              ostrich                        bearskin   \n",
       "687              cheetah                   arabian_camel   \n",
       "1871  labrador_retriever                golden_retriever   \n",
       "1394                chow                golden_retriever   \n",
       "2018           chihuahua                         meerkat   \n",
       "722            damselfly                     common_newt   \n",
       "886            chihuahua                         toyshop   \n",
       "1399      great_pyrenees                golden_retriever   \n",
       "322   labrador_retriever                       chihuahua   \n",
       "1184  labrador_retriever                golden_retriever   \n",
       "1637              vizsla                brittany_spaniel   \n",
       "1367              paddle                           canoe   \n",
       "1847            web_site                         monitor   \n",
       "1380           dalmatian                         whippet   \n",
       "947          siamese_cat                       chihuahua   \n",
       "768            chihuahua  american_staffordshire_terrier   \n",
       "1627                chow                      binoculars   \n",
       "1948  australian_terrier                   irish_terrier   \n",
       "1051      siberian_husky                      eskimo_dog   \n",
       "1488              briard     soft-coated_wheaten_terrier   \n",
       "1923    golden_retriever              labrador_retriever   \n",
       "1316  labrador_retriever                golden_retriever   \n",
       "1535            pembroke                        cardigan   \n",
       "690            chihuahua                     toy_terrier   \n",
       "304     lakeland_terrier         wire-haired_fox_terrier   \n",
       "1561        afghan_hound                          borzoi   \n",
       "959              basenji               italian_greyhound   \n",
       "1228  labrador_retriever                golden_retriever   \n",
       "772           eskimo_dog                  siberian_husky   \n",
       "1258                  ox                            plow   \n",
       "\n",
       "                                  p3  \n",
       "424                             swab  \n",
       "687                           jaguar  \n",
       "1871                       chihuahua  \n",
       "1394                 norfolk_terrier  \n",
       "2018                         clumber  \n",
       "722                         whiptail  \n",
       "886                       weimaraner  \n",
       "1399              labrador_retriever  \n",
       "322                 golden_retriever  \n",
       "1184        chesapeake_bay_retriever  \n",
       "1637        chesapeake_bay_retriever  \n",
       "1367                        lakeside  \n",
       "1847                          screen  \n",
       "1380  american_staffordshire_terrier  \n",
       "947                          basenji  \n",
       "768        staffordshire_bullterrier  \n",
       "1627                    irish_setter  \n",
       "1948                 german_shepherd  \n",
       "1051                        malamute  \n",
       "1488                           lhasa  \n",
       "1923                          saluki  \n",
       "1316                  great_pyrenees  \n",
       "1535                     toy_terrier  \n",
       "690                      boston_bull  \n",
       "304                       toy_poodle  \n",
       "1561                         doormat  \n",
       "959               miniature_pinscher  \n",
       "1228                        ice_bear  \n",
       "772                            dingo  \n",
       "1258                          oxcart  "
      ]
     },
     "execution_count": 53,
     "metadata": {},
     "output_type": "execute_result"
    }
   ],
   "source": [
    "# view 30 samples of the p1, p2, and p3 columns to check if change has been effected\n",
    "image_predictions_clean[['p1','p2', 'p3']].sample(30)"
   ]
  },
  {
   "cell_type": "markdown",
   "id": "7b3ab886",
   "metadata": {},
   "source": [
    "Comments\n",
    "\n",
    "    Column entries are all lower case strings after the change"
   ]
  },
  {
   "cell_type": "markdown",
   "id": "245a07a2",
   "metadata": {},
   "source": [
    " "
   ]
  },
  {
   "cell_type": "markdown",
   "id": "da5f76c5",
   "metadata": {},
   "source": [
    " "
   ]
  },
  {
   "cell_type": "markdown",
   "id": "3559e4a6",
   "metadata": {},
   "source": [
    "### Resolving Tidyness Issues"
   ]
  },
  {
   "cell_type": "markdown",
   "id": "3ab12d92",
   "metadata": {},
   "source": [
    "#### Issue 1\n",
    "Multiple and duplicated urls in expanded urls column in ```twiter_archive``` dataset"
   ]
  },
  {
   "cell_type": "markdown",
   "id": "bd26511a",
   "metadata": {},
   "source": [
    "##### Define\n",
    "Split the expanded_urls column and retain only the first column after the split"
   ]
  },
  {
   "cell_type": "markdown",
   "id": "d93189a2",
   "metadata": {},
   "source": [
    "##### Code"
   ]
  },
  {
   "cell_type": "code",
   "execution_count": 54,
   "id": "79e89d4e",
   "metadata": {},
   "outputs": [],
   "source": [
    "# split ecpanded urls column based on the comma delimiter\n",
    "twitter_archive_clean[['expanded_urls','a','b','c','d']] = twitter_archive_clean['expanded_urls'].str.split(',', expand = True)"
   ]
  },
  {
   "cell_type": "code",
   "execution_count": 55,
   "id": "7f1e0db0",
   "metadata": {
    "scrolled": true
   },
   "outputs": [
    {
     "name": "stdout",
     "output_type": "stream",
     "text": [
      "0 tweet_id\n",
      "1 timestamp\n",
      "2 source\n",
      "3 text\n",
      "4 expanded_urls\n",
      "5 rating_numerator\n",
      "6 rating_denominator\n",
      "7 name\n",
      "8 doggo\n",
      "9 floofer\n",
      "10 pupper\n",
      "11 puppo\n",
      "12 a\n",
      "13 b\n",
      "14 c\n",
      "15 d\n"
     ]
    }
   ],
   "source": [
    "# find column indexes\n",
    "for i, j in enumerate(twitter_archive_clean.columns):\n",
    "    print(i,j)"
   ]
  },
  {
   "cell_type": "code",
   "execution_count": 56,
   "id": "18de52e5",
   "metadata": {},
   "outputs": [],
   "source": [
    "# drop unwanted resulting columns after the split using column indexes\n",
    "twitter_archive_clean.drop(twitter_archive_clean.columns[[12,13,14,15]], axis=1, inplace=True)"
   ]
  },
  {
   "cell_type": "markdown",
   "id": "fe8d70bb",
   "metadata": {},
   "source": [
    "##### Test"
   ]
  },
  {
   "cell_type": "code",
   "execution_count": 57,
   "id": "743e34f3",
   "metadata": {
    "scrolled": false
   },
   "outputs": [
    {
     "data": {
      "text/plain": [
       "['tweet_id',\n",
       " 'timestamp',\n",
       " 'source',\n",
       " 'text',\n",
       " 'expanded_urls',\n",
       " 'rating_numerator',\n",
       " 'rating_denominator',\n",
       " 'name',\n",
       " 'doggo',\n",
       " 'floofer',\n",
       " 'pupper',\n",
       " 'puppo']"
      ]
     },
     "execution_count": 57,
     "metadata": {},
     "output_type": "execute_result"
    }
   ],
   "source": [
    "# view list of columns for reulting dataframe after the drop\n",
    "list(twitter_archive_clean.columns)"
   ]
  },
  {
   "cell_type": "markdown",
   "id": "679a28ca",
   "metadata": {},
   "source": [
    " "
   ]
  },
  {
   "cell_type": "markdown",
   "id": "4c4d731c",
   "metadata": {},
   "source": [
    "#### Issue 2\n",
    "Comment, ratings and image urls in same column (text) in __twitter_archive__ dataset"
   ]
  },
  {
   "cell_type": "markdown",
   "id": "1d6848d5",
   "metadata": {},
   "source": [
    "##### Define\n",
    "1. Extract comment only from text column into a new column using ```regex``` and name the new column as \"comment\"\n",
    "\n",
    "2. Afterwards drop text column from dataframe\n",
    "\n",
    "\n"
   ]
  },
  {
   "cell_type": "markdown",
   "id": "a0451ff4",
   "metadata": {},
   "source": [
    "##### Code"
   ]
  },
  {
   "cell_type": "code",
   "execution_count": 58,
   "id": "3013839e",
   "metadata": {},
   "outputs": [],
   "source": [
    "# extract only commnets from 'text' column using regex into a new column\n",
    "twitter_archive_clean['comment'] =  twitter_archive_clean['text'].str.extract('([a-zA-Z\\s\\.\\,\\'\\@\\:\\_\\#\\-\\*\\(\\)\\\"\\\"\\;\\&\\!]+)', expand=True)"
   ]
  },
  {
   "cell_type": "code",
   "execution_count": 59,
   "id": "1ae881ac",
   "metadata": {
    "scrolled": true
   },
   "outputs": [],
   "source": [
    "# drop text column\n",
    "twitter_archive_clean.drop('text', axis=1, inplace=True)"
   ]
  },
  {
   "cell_type": "markdown",
   "id": "82a08de8",
   "metadata": {},
   "source": [
    "##### Test"
   ]
  },
  {
   "cell_type": "code",
   "execution_count": 60,
   "id": "8eae7ac2",
   "metadata": {},
   "outputs": [
    {
     "data": {
      "text/plain": [
       "['tweet_id',\n",
       " 'timestamp',\n",
       " 'source',\n",
       " 'expanded_urls',\n",
       " 'rating_numerator',\n",
       " 'rating_denominator',\n",
       " 'name',\n",
       " 'doggo',\n",
       " 'floofer',\n",
       " 'pupper',\n",
       " 'puppo',\n",
       " 'comment']"
      ]
     },
     "execution_count": 60,
     "metadata": {},
     "output_type": "execute_result"
    }
   ],
   "source": [
    "# view all columns the current twitter_archive_clean dataset to see effectd change\n",
    "list(twitter_archive_clean.columns)"
   ]
  },
  {
   "cell_type": "code",
   "execution_count": 61,
   "id": "ab011e08",
   "metadata": {},
   "outputs": [
    {
     "data": {
      "text/html": [
       "<div>\n",
       "<style scoped>\n",
       "    .dataframe tbody tr th:only-of-type {\n",
       "        vertical-align: middle;\n",
       "    }\n",
       "\n",
       "    .dataframe tbody tr th {\n",
       "        vertical-align: top;\n",
       "    }\n",
       "\n",
       "    .dataframe thead th {\n",
       "        text-align: right;\n",
       "    }\n",
       "</style>\n",
       "<table border=\"1\" class=\"dataframe\">\n",
       "  <thead>\n",
       "    <tr style=\"text-align: right;\">\n",
       "      <th></th>\n",
       "      <th>tweet_id</th>\n",
       "      <th>timestamp</th>\n",
       "      <th>source</th>\n",
       "      <th>expanded_urls</th>\n",
       "      <th>rating_numerator</th>\n",
       "      <th>rating_denominator</th>\n",
       "      <th>name</th>\n",
       "      <th>doggo</th>\n",
       "      <th>floofer</th>\n",
       "      <th>pupper</th>\n",
       "      <th>puppo</th>\n",
       "      <th>comment</th>\n",
       "    </tr>\n",
       "  </thead>\n",
       "  <tbody>\n",
       "    <tr>\n",
       "      <th>0</th>\n",
       "      <td>892420643555336193</td>\n",
       "      <td>2017-08-01 16:23:56+00:00</td>\n",
       "      <td>&lt;a href=\"http://twitter.com/download/iphone\" r...</td>\n",
       "      <td>https://twitter.com/dog_rates/status/892420643...</td>\n",
       "      <td>13</td>\n",
       "      <td>10</td>\n",
       "      <td>Phineas</td>\n",
       "      <td>None</td>\n",
       "      <td>None</td>\n",
       "      <td>None</td>\n",
       "      <td>None</td>\n",
       "      <td>This is Phineas. He's a mystical boy. Only eve...</td>\n",
       "    </tr>\n",
       "    <tr>\n",
       "      <th>1</th>\n",
       "      <td>892177421306343426</td>\n",
       "      <td>2017-08-01 00:17:27+00:00</td>\n",
       "      <td>&lt;a href=\"http://twitter.com/download/iphone\" r...</td>\n",
       "      <td>https://twitter.com/dog_rates/status/892177421...</td>\n",
       "      <td>13</td>\n",
       "      <td>10</td>\n",
       "      <td>Tilly</td>\n",
       "      <td>None</td>\n",
       "      <td>None</td>\n",
       "      <td>None</td>\n",
       "      <td>None</td>\n",
       "      <td>This is Tilly. She's just checking pup on you....</td>\n",
       "    </tr>\n",
       "    <tr>\n",
       "      <th>2</th>\n",
       "      <td>891815181378084864</td>\n",
       "      <td>2017-07-31 00:18:03+00:00</td>\n",
       "      <td>&lt;a href=\"http://twitter.com/download/iphone\" r...</td>\n",
       "      <td>https://twitter.com/dog_rates/status/891815181...</td>\n",
       "      <td>12</td>\n",
       "      <td>10</td>\n",
       "      <td>Archie</td>\n",
       "      <td>None</td>\n",
       "      <td>None</td>\n",
       "      <td>None</td>\n",
       "      <td>None</td>\n",
       "      <td>This is Archie. He is a rare Norwegian Pouncin...</td>\n",
       "    </tr>\n",
       "    <tr>\n",
       "      <th>3</th>\n",
       "      <td>891689557279858688</td>\n",
       "      <td>2017-07-30 15:58:51+00:00</td>\n",
       "      <td>&lt;a href=\"http://twitter.com/download/iphone\" r...</td>\n",
       "      <td>https://twitter.com/dog_rates/status/891689557...</td>\n",
       "      <td>13</td>\n",
       "      <td>10</td>\n",
       "      <td>Darla</td>\n",
       "      <td>None</td>\n",
       "      <td>None</td>\n",
       "      <td>None</td>\n",
       "      <td>None</td>\n",
       "      <td>This is Darla. She commenced a snooze mid meal.</td>\n",
       "    </tr>\n",
       "    <tr>\n",
       "      <th>4</th>\n",
       "      <td>891327558926688256</td>\n",
       "      <td>2017-07-29 16:00:24+00:00</td>\n",
       "      <td>&lt;a href=\"http://twitter.com/download/iphone\" r...</td>\n",
       "      <td>https://twitter.com/dog_rates/status/891327558...</td>\n",
       "      <td>12</td>\n",
       "      <td>10</td>\n",
       "      <td>Franklin</td>\n",
       "      <td>None</td>\n",
       "      <td>None</td>\n",
       "      <td>None</td>\n",
       "      <td>None</td>\n",
       "      <td>This is Franklin. He would like you to stop ca...</td>\n",
       "    </tr>\n",
       "  </tbody>\n",
       "</table>\n",
       "</div>"
      ],
      "text/plain": [
       "             tweet_id                 timestamp  \\\n",
       "0  892420643555336193 2017-08-01 16:23:56+00:00   \n",
       "1  892177421306343426 2017-08-01 00:17:27+00:00   \n",
       "2  891815181378084864 2017-07-31 00:18:03+00:00   \n",
       "3  891689557279858688 2017-07-30 15:58:51+00:00   \n",
       "4  891327558926688256 2017-07-29 16:00:24+00:00   \n",
       "\n",
       "                                              source  \\\n",
       "0  <a href=\"http://twitter.com/download/iphone\" r...   \n",
       "1  <a href=\"http://twitter.com/download/iphone\" r...   \n",
       "2  <a href=\"http://twitter.com/download/iphone\" r...   \n",
       "3  <a href=\"http://twitter.com/download/iphone\" r...   \n",
       "4  <a href=\"http://twitter.com/download/iphone\" r...   \n",
       "\n",
       "                                       expanded_urls  rating_numerator  \\\n",
       "0  https://twitter.com/dog_rates/status/892420643...                13   \n",
       "1  https://twitter.com/dog_rates/status/892177421...                13   \n",
       "2  https://twitter.com/dog_rates/status/891815181...                12   \n",
       "3  https://twitter.com/dog_rates/status/891689557...                13   \n",
       "4  https://twitter.com/dog_rates/status/891327558...                12   \n",
       "\n",
       "   rating_denominator      name doggo floofer pupper puppo  \\\n",
       "0                  10   Phineas  None    None   None  None   \n",
       "1                  10     Tilly  None    None   None  None   \n",
       "2                  10    Archie  None    None   None  None   \n",
       "3                  10     Darla  None    None   None  None   \n",
       "4                  10  Franklin  None    None   None  None   \n",
       "\n",
       "                                             comment  \n",
       "0  This is Phineas. He's a mystical boy. Only eve...  \n",
       "1  This is Tilly. She's just checking pup on you....  \n",
       "2  This is Archie. He is a rare Norwegian Pouncin...  \n",
       "3   This is Darla. She commenced a snooze mid meal.   \n",
       "4  This is Franklin. He would like you to stop ca...  "
      ]
     },
     "execution_count": 61,
     "metadata": {},
     "output_type": "execute_result"
    }
   ],
   "source": [
    "# view general information about reulting dataframe after comment extraction\n",
    "twitter_archive_clean.head()"
   ]
  },
  {
   "cell_type": "code",
   "execution_count": 62,
   "id": "b2bdc5b1",
   "metadata": {},
   "outputs": [],
   "source": [
    "# create csv to visually assess dataset\n",
    "twitter_archive_clean.to_csv('twitter_archive_clean.csv')"
   ]
  },
  {
   "cell_type": "markdown",
   "id": "d76ef8d1",
   "metadata": {},
   "source": [
    " "
   ]
  },
  {
   "cell_type": "markdown",
   "id": "8f3aad10",
   "metadata": {},
   "source": [
    "#### Issue 3\n",
    "__doggo , floofer, pupper__ and __puppo__ columns are all categories of a dog's stage of life. These should be one column."
   ]
  },
  {
   "cell_type": "markdown",
   "id": "4bfff3e9",
   "metadata": {},
   "source": [
    "#### Define\n",
    "1. confirm unique entries in each of __doggo__ , __floofer__, __pupper__ and __puppo__ columns\n",
    "1. Concatenate the four columns into one column named __dog_stage__ introducing a space before each column entry\n",
    "2. Use ```regex``` to extract the dog stages excluding 'None'.\n",
    "3. drop __doggo__ , __floofer__, __pupper__ and __puppo__ columns"
   ]
  },
  {
   "cell_type": "markdown",
   "id": "b93b8e9f",
   "metadata": {},
   "source": [
    "##### Code"
   ]
  },
  {
   "cell_type": "code",
   "execution_count": 63,
   "id": "a75a6939",
   "metadata": {
    "scrolled": false
   },
   "outputs": [
    {
     "data": {
      "text/plain": [
       "None     2033\n",
       "doggo      84\n",
       "Name: doggo, dtype: int64"
      ]
     },
     "execution_count": 63,
     "metadata": {},
     "output_type": "execute_result"
    }
   ],
   "source": [
    "# confirming unique entries in doggo column\n",
    "twitter_archive_clean['doggo'].value_counts()"
   ]
  },
  {
   "cell_type": "code",
   "execution_count": 64,
   "id": "fb4187ce",
   "metadata": {
    "scrolled": true
   },
   "outputs": [
    {
     "data": {
      "text/plain": [
       "None       2107\n",
       "floofer      10\n",
       "Name: floofer, dtype: int64"
      ]
     },
     "execution_count": 64,
     "metadata": {},
     "output_type": "execute_result"
    }
   ],
   "source": [
    "# confirming unique entries in floofer column\n",
    "twitter_archive_clean.floofer.value_counts()"
   ]
  },
  {
   "cell_type": "code",
   "execution_count": 65,
   "id": "541adb97",
   "metadata": {},
   "outputs": [
    {
     "data": {
      "text/plain": [
       "None      1885\n",
       "pupper     232\n",
       "Name: pupper, dtype: int64"
      ]
     },
     "execution_count": 65,
     "metadata": {},
     "output_type": "execute_result"
    }
   ],
   "source": [
    "# confirming unique entries in pupper column\n",
    "twitter_archive_clean['pupper'].value_counts()"
   ]
  },
  {
   "cell_type": "code",
   "execution_count": 66,
   "id": "a0e36163",
   "metadata": {
    "scrolled": true
   },
   "outputs": [
    {
     "data": {
      "text/plain": [
       "None     2093\n",
       "puppo      24\n",
       "Name: puppo, dtype: int64"
      ]
     },
     "execution_count": 66,
     "metadata": {},
     "output_type": "execute_result"
    }
   ],
   "source": [
    "# confirming unique entries in puppo column\n",
    "twitter_archive_clean['puppo'].value_counts()"
   ]
  },
  {
   "cell_type": "markdown",
   "id": "7152d4a5",
   "metadata": {},
   "source": [
    "Comment:\n",
    "\n",
    "    All four columns have just two entries: \"None\" and the dog stage which are all small letters. This is important to know\n",
    "    as it would help in knwoing the right regex to use during the extractioin of the dog stages after merging the columns"
   ]
  },
  {
   "cell_type": "markdown",
   "id": "0de551b3",
   "metadata": {},
   "source": [
    " "
   ]
  },
  {
   "cell_type": "code",
   "execution_count": 67,
   "id": "09108f50",
   "metadata": {},
   "outputs": [],
   "source": [
    "# Concatenate the four columns into one column named dog_stage introducing a space before each column entry\n",
    "twitter_archive_clean['dog_stage'] = \" \" + twitter_archive_clean['doggo'] + \" \" + twitter_archive_clean['floofer'] + \" \" + twitter_archive_clean['pupper'] + \" \" + twitter_archive_clean['puppo']"
   ]
  },
  {
   "cell_type": "code",
   "execution_count": 68,
   "id": "48b379fb",
   "metadata": {},
   "outputs": [],
   "source": [
    "# Use regex to extract the dog stages excluding 'None'. NB: Dog stages are all small letters\n",
    "twitter_archive_clean['dog_stage'] = twitter_archive_clean['dog_stage'].str.extract('([\\s][a-z]+)')"
   ]
  },
  {
   "cell_type": "code",
   "execution_count": 69,
   "id": "1a9f5db3",
   "metadata": {},
   "outputs": [
    {
     "name": "stdout",
     "output_type": "stream",
     "text": [
      "<class 'pandas.core.frame.DataFrame'>\n",
      "Int64Index: 2117 entries, 0 to 2355\n",
      "Data columns (total 13 columns):\n",
      " #   Column              Non-Null Count  Dtype              \n",
      "---  ------              --------------  -----              \n",
      " 0   tweet_id            2117 non-null   object             \n",
      " 1   timestamp           2117 non-null   datetime64[ns, UTC]\n",
      " 2   source              2117 non-null   object             \n",
      " 3   expanded_urls       2117 non-null   object             \n",
      " 4   rating_numerator    2117 non-null   int64              \n",
      " 5   rating_denominator  2117 non-null   int64              \n",
      " 6   name                1391 non-null   object             \n",
      " 7   doggo               2117 non-null   object             \n",
      " 8   floofer             2117 non-null   object             \n",
      " 9   pupper              2117 non-null   object             \n",
      " 10  puppo               2117 non-null   object             \n",
      " 11  comment             2117 non-null   object             \n",
      " 12  dog_stage           338 non-null    object             \n",
      "dtypes: datetime64[ns, UTC](1), int64(2), object(10)\n",
      "memory usage: 231.5+ KB\n"
     ]
    }
   ],
   "source": [
    "# view datset info to get column indexes to aid with dropping the appropriate columns\n",
    "twitter_archive_clean.info()"
   ]
  },
  {
   "cell_type": "code",
   "execution_count": 70,
   "id": "85d624ab",
   "metadata": {},
   "outputs": [],
   "source": [
    "# drop doggo , floofer, pupper and puppo columns\n",
    "twitter_archive_clean.drop(twitter_archive_clean.columns[[7,8,9,10]], axis=1, inplace=True)"
   ]
  },
  {
   "cell_type": "markdown",
   "id": "2274b3c9",
   "metadata": {},
   "source": [
    "#### Test"
   ]
  },
  {
   "cell_type": "code",
   "execution_count": 71,
   "id": "8358f843",
   "metadata": {},
   "outputs": [
    {
     "name": "stdout",
     "output_type": "stream",
     "text": [
      "<class 'pandas.core.frame.DataFrame'>\n",
      "Int64Index: 2117 entries, 0 to 2355\n",
      "Data columns (total 9 columns):\n",
      " #   Column              Non-Null Count  Dtype              \n",
      "---  ------              --------------  -----              \n",
      " 0   tweet_id            2117 non-null   object             \n",
      " 1   timestamp           2117 non-null   datetime64[ns, UTC]\n",
      " 2   source              2117 non-null   object             \n",
      " 3   expanded_urls       2117 non-null   object             \n",
      " 4   rating_numerator    2117 non-null   int64              \n",
      " 5   rating_denominator  2117 non-null   int64              \n",
      " 6   name                1391 non-null   object             \n",
      " 7   comment             2117 non-null   object             \n",
      " 8   dog_stage           338 non-null    object             \n",
      "dtypes: datetime64[ns, UTC](1), int64(2), object(6)\n",
      "memory usage: 165.4+ KB\n"
     ]
    }
   ],
   "source": [
    "# view general info of resulting dataset\n",
    "twitter_archive_clean.info()"
   ]
  },
  {
   "cell_type": "markdown",
   "id": "ff0f8dc3",
   "metadata": {},
   "source": [
    "Comment:\n",
    "    \n",
    "    The original four dog stage columns have been dropped after merging their information into one in the dog_stage column\n",
    "    \n",
    "    The null entries in name and dog_stage columns are not an issue therefore would not be dropped as these could be used\n",
    "    in drawing insights"
   ]
  },
  {
   "cell_type": "code",
   "execution_count": 72,
   "id": "01851942",
   "metadata": {
    "scrolled": true
   },
   "outputs": [
    {
     "data": {
      "text/plain": [
       " pupper     222\n",
       " doggo       84\n",
       " puppo       23\n",
       " floofer      9\n",
       "Name: dog_stage, dtype: int64"
      ]
     },
     "execution_count": 72,
     "metadata": {},
     "output_type": "execute_result"
    }
   ],
   "source": [
    "# check for unique dog_stages \n",
    "twitter_archive_clean['dog_stage'].value_counts()"
   ]
  },
  {
   "cell_type": "code",
   "execution_count": 73,
   "id": "bf3bf46d",
   "metadata": {},
   "outputs": [
    {
     "data": {
      "text/html": [
       "<div>\n",
       "<style scoped>\n",
       "    .dataframe tbody tr th:only-of-type {\n",
       "        vertical-align: middle;\n",
       "    }\n",
       "\n",
       "    .dataframe tbody tr th {\n",
       "        vertical-align: top;\n",
       "    }\n",
       "\n",
       "    .dataframe thead th {\n",
       "        text-align: right;\n",
       "    }\n",
       "</style>\n",
       "<table border=\"1\" class=\"dataframe\">\n",
       "  <thead>\n",
       "    <tr style=\"text-align: right;\">\n",
       "      <th></th>\n",
       "      <th>tweet_id</th>\n",
       "      <th>timestamp</th>\n",
       "      <th>source</th>\n",
       "      <th>expanded_urls</th>\n",
       "      <th>rating_numerator</th>\n",
       "      <th>rating_denominator</th>\n",
       "      <th>name</th>\n",
       "      <th>comment</th>\n",
       "      <th>dog_stage</th>\n",
       "    </tr>\n",
       "  </thead>\n",
       "  <tbody>\n",
       "    <tr>\n",
       "      <th>948</th>\n",
       "      <td>752334515931054080</td>\n",
       "      <td>2016-07-11 02:51:40+00:00</td>\n",
       "      <td>&lt;a href=\"http://twitter.com/download/iphone\" r...</td>\n",
       "      <td>https://twitter.com/dog_rates/status/752334515...</td>\n",
       "      <td>8</td>\n",
       "      <td>10</td>\n",
       "      <td>NaN</td>\n",
       "      <td>Here's a doggo trying to catch some fish.</td>\n",
       "      <td>doggo</td>\n",
       "    </tr>\n",
       "    <tr>\n",
       "      <th>1401</th>\n",
       "      <td>699434518667751424</td>\n",
       "      <td>2016-02-16 03:25:58+00:00</td>\n",
       "      <td>&lt;a href=\"http://twitter.com/download/iphone\" r...</td>\n",
       "      <td>https://twitter.com/dog_rates/status/699434518...</td>\n",
       "      <td>12</td>\n",
       "      <td>10</td>\n",
       "      <td>NaN</td>\n",
       "      <td>I know this is a tad late but here's a wonderf...</td>\n",
       "      <td>pupper</td>\n",
       "    </tr>\n",
       "    <tr>\n",
       "      <th>108</th>\n",
       "      <td>871515927908634625</td>\n",
       "      <td>2017-06-04 23:56:03+00:00</td>\n",
       "      <td>&lt;a href=\"http://twitter.com/download/iphone\" r...</td>\n",
       "      <td>https://twitter.com/dog_rates/status/871515927...</td>\n",
       "      <td>12</td>\n",
       "      <td>10</td>\n",
       "      <td>Napolean</td>\n",
       "      <td>This is Napolean. He's a Raggedy East Nicaragu...</td>\n",
       "      <td>doggo</td>\n",
       "    </tr>\n",
       "    <tr>\n",
       "      <th>300</th>\n",
       "      <td>836753516572119041</td>\n",
       "      <td>2017-03-01 01:42:39+00:00</td>\n",
       "      <td>&lt;a href=\"http://twitter.com/download/iphone\" r...</td>\n",
       "      <td>https://twitter.com/dog_rates/status/836753516...</td>\n",
       "      <td>12</td>\n",
       "      <td>10</td>\n",
       "      <td>Meera</td>\n",
       "      <td>This is Meera. She just heard about taxes and ...</td>\n",
       "      <td>doggo</td>\n",
       "    </tr>\n",
       "    <tr>\n",
       "      <th>200</th>\n",
       "      <td>854010172552949760</td>\n",
       "      <td>2017-04-17 16:34:26+00:00</td>\n",
       "      <td>&lt;a href=\"http://twitter.com/download/iphone\" r...</td>\n",
       "      <td>https://twitter.com/dog_rates/status/854010172...</td>\n",
       "      <td>11</td>\n",
       "      <td>10</td>\n",
       "      <td>NaN</td>\n",
       "      <td>At first I thought this was a shy doggo, but i...</td>\n",
       "      <td>doggo</td>\n",
       "    </tr>\n",
       "    <tr>\n",
       "      <th>385</th>\n",
       "      <td>826848821049180160</td>\n",
       "      <td>2017-02-01 17:44:55+00:00</td>\n",
       "      <td>&lt;a href=\"http://twitter.com/download/iphone\" r...</td>\n",
       "      <td>https://twitter.com/dog_rates/status/826848821...</td>\n",
       "      <td>13</td>\n",
       "      <td>10</td>\n",
       "      <td>Cupid</td>\n",
       "      <td>This is Cupid. He was found in the trash. Now ...</td>\n",
       "      <td>doggo</td>\n",
       "    </tr>\n",
       "    <tr>\n",
       "      <th>1142</th>\n",
       "      <td>727524757080539137</td>\n",
       "      <td>2016-05-03 15:46:33+00:00</td>\n",
       "      <td>&lt;a href=\"http://twitter.com/download/iphone\" r...</td>\n",
       "      <td>https://twitter.com/dog_rates/status/727524757...</td>\n",
       "      <td>10</td>\n",
       "      <td>10</td>\n",
       "      <td>NaN</td>\n",
       "      <td>This pupper had to undergo emergency haircut s...</td>\n",
       "      <td>pupper</td>\n",
       "    </tr>\n",
       "    <tr>\n",
       "      <th>1624</th>\n",
       "      <td>684880619965411328</td>\n",
       "      <td>2016-01-06 23:33:58+00:00</td>\n",
       "      <td>&lt;a href=\"http://twitter.com/download/iphone\" r...</td>\n",
       "      <td>https://twitter.com/dog_rates/status/684880619...</td>\n",
       "      <td>5</td>\n",
       "      <td>10</td>\n",
       "      <td>NaN</td>\n",
       "      <td>Here we have a basking dino pupper. Looks powe...</td>\n",
       "      <td>pupper</td>\n",
       "    </tr>\n",
       "    <tr>\n",
       "      <th>2002</th>\n",
       "      <td>672481316919734272</td>\n",
       "      <td>2015-12-03 18:23:34+00:00</td>\n",
       "      <td>&lt;a href=\"http://twitter.com/download/iphone\" r...</td>\n",
       "      <td>https://twitter.com/dog_rates/status/672481316...</td>\n",
       "      <td>12</td>\n",
       "      <td>10</td>\n",
       "      <td>Jazz</td>\n",
       "      <td>Say hello to Jazz. She should be on the cover ...</td>\n",
       "      <td>pupper</td>\n",
       "    </tr>\n",
       "    <tr>\n",
       "      <th>1697</th>\n",
       "      <td>681231109724700672</td>\n",
       "      <td>2015-12-27 21:52:07+00:00</td>\n",
       "      <td>&lt;a href=\"http://twitter.com/download/iphone\" r...</td>\n",
       "      <td>https://twitter.com/dog_rates/status/681231109...</td>\n",
       "      <td>11</td>\n",
       "      <td>10</td>\n",
       "      <td>NaN</td>\n",
       "      <td>I just love this pic.</td>\n",
       "      <td>pupper</td>\n",
       "    </tr>\n",
       "    <tr>\n",
       "      <th>1625</th>\n",
       "      <td>684830982659280897</td>\n",
       "      <td>2016-01-06 20:16:44+00:00</td>\n",
       "      <td>&lt;a href=\"http://vine.co\" rel=\"nofollow\"&gt;Vine -...</td>\n",
       "      <td>https://vine.co/v/eEZXZI1rqxX</td>\n",
       "      <td>13</td>\n",
       "      <td>10</td>\n",
       "      <td>NaN</td>\n",
       "      <td>This little fella really hates stairs. Prefers...</td>\n",
       "      <td>pupper</td>\n",
       "    </tr>\n",
       "    <tr>\n",
       "      <th>1936</th>\n",
       "      <td>673956914389192708</td>\n",
       "      <td>2015-12-07 20:07:04+00:00</td>\n",
       "      <td>&lt;a href=\"http://twitter.com/download/iphone\" r...</td>\n",
       "      <td>https://twitter.com/dog_rates/status/673956914...</td>\n",
       "      <td>10</td>\n",
       "      <td>10</td>\n",
       "      <td>NaN</td>\n",
       "      <td>This is one esteemed pupper. Just graduated co...</td>\n",
       "      <td>pupper</td>\n",
       "    </tr>\n",
       "    <tr>\n",
       "      <th>1487</th>\n",
       "      <td>693095443459342336</td>\n",
       "      <td>2016-01-29 15:36:45+00:00</td>\n",
       "      <td>&lt;a href=\"http://twitter.com/download/iphone\" r...</td>\n",
       "      <td>https://twitter.com/dog_rates/status/693095443...</td>\n",
       "      <td>10</td>\n",
       "      <td>10</td>\n",
       "      <td>Milo</td>\n",
       "      <td>This is Milo. He doesn't understand your fancy...</td>\n",
       "      <td>pupper</td>\n",
       "    </tr>\n",
       "    <tr>\n",
       "      <th>1609</th>\n",
       "      <td>685547936038666240</td>\n",
       "      <td>2016-01-08 19:45:39+00:00</td>\n",
       "      <td>&lt;a href=\"http://twitter.com/download/iphone\" r...</td>\n",
       "      <td>https://twitter.com/dog_rates/status/685547936...</td>\n",
       "      <td>14</td>\n",
       "      <td>10</td>\n",
       "      <td>NaN</td>\n",
       "      <td>Everybody needs to read this. Jack is our first</td>\n",
       "      <td>pupper</td>\n",
       "    </tr>\n",
       "    <tr>\n",
       "      <th>1492</th>\n",
       "      <td>692828166163931137</td>\n",
       "      <td>2016-01-28 21:54:41+00:00</td>\n",
       "      <td>&lt;a href=\"http://twitter.com/download/iphone\" r...</td>\n",
       "      <td>https://twitter.com/dog_rates/status/692828166...</td>\n",
       "      <td>12</td>\n",
       "      <td>10</td>\n",
       "      <td>NaN</td>\n",
       "      <td>This pupper just descended from heaven.</td>\n",
       "      <td>pupper</td>\n",
       "    </tr>\n",
       "  </tbody>\n",
       "</table>\n",
       "</div>"
      ],
      "text/plain": [
       "                tweet_id                 timestamp  \\\n",
       "948   752334515931054080 2016-07-11 02:51:40+00:00   \n",
       "1401  699434518667751424 2016-02-16 03:25:58+00:00   \n",
       "108   871515927908634625 2017-06-04 23:56:03+00:00   \n",
       "300   836753516572119041 2017-03-01 01:42:39+00:00   \n",
       "200   854010172552949760 2017-04-17 16:34:26+00:00   \n",
       "385   826848821049180160 2017-02-01 17:44:55+00:00   \n",
       "1142  727524757080539137 2016-05-03 15:46:33+00:00   \n",
       "1624  684880619965411328 2016-01-06 23:33:58+00:00   \n",
       "2002  672481316919734272 2015-12-03 18:23:34+00:00   \n",
       "1697  681231109724700672 2015-12-27 21:52:07+00:00   \n",
       "1625  684830982659280897 2016-01-06 20:16:44+00:00   \n",
       "1936  673956914389192708 2015-12-07 20:07:04+00:00   \n",
       "1487  693095443459342336 2016-01-29 15:36:45+00:00   \n",
       "1609  685547936038666240 2016-01-08 19:45:39+00:00   \n",
       "1492  692828166163931137 2016-01-28 21:54:41+00:00   \n",
       "\n",
       "                                                 source  \\\n",
       "948   <a href=\"http://twitter.com/download/iphone\" r...   \n",
       "1401  <a href=\"http://twitter.com/download/iphone\" r...   \n",
       "108   <a href=\"http://twitter.com/download/iphone\" r...   \n",
       "300   <a href=\"http://twitter.com/download/iphone\" r...   \n",
       "200   <a href=\"http://twitter.com/download/iphone\" r...   \n",
       "385   <a href=\"http://twitter.com/download/iphone\" r...   \n",
       "1142  <a href=\"http://twitter.com/download/iphone\" r...   \n",
       "1624  <a href=\"http://twitter.com/download/iphone\" r...   \n",
       "2002  <a href=\"http://twitter.com/download/iphone\" r...   \n",
       "1697  <a href=\"http://twitter.com/download/iphone\" r...   \n",
       "1625  <a href=\"http://vine.co\" rel=\"nofollow\">Vine -...   \n",
       "1936  <a href=\"http://twitter.com/download/iphone\" r...   \n",
       "1487  <a href=\"http://twitter.com/download/iphone\" r...   \n",
       "1609  <a href=\"http://twitter.com/download/iphone\" r...   \n",
       "1492  <a href=\"http://twitter.com/download/iphone\" r...   \n",
       "\n",
       "                                          expanded_urls  rating_numerator  \\\n",
       "948   https://twitter.com/dog_rates/status/752334515...                 8   \n",
       "1401  https://twitter.com/dog_rates/status/699434518...                12   \n",
       "108   https://twitter.com/dog_rates/status/871515927...                12   \n",
       "300   https://twitter.com/dog_rates/status/836753516...                12   \n",
       "200   https://twitter.com/dog_rates/status/854010172...                11   \n",
       "385   https://twitter.com/dog_rates/status/826848821...                13   \n",
       "1142  https://twitter.com/dog_rates/status/727524757...                10   \n",
       "1624  https://twitter.com/dog_rates/status/684880619...                 5   \n",
       "2002  https://twitter.com/dog_rates/status/672481316...                12   \n",
       "1697  https://twitter.com/dog_rates/status/681231109...                11   \n",
       "1625                      https://vine.co/v/eEZXZI1rqxX                13   \n",
       "1936  https://twitter.com/dog_rates/status/673956914...                10   \n",
       "1487  https://twitter.com/dog_rates/status/693095443...                10   \n",
       "1609  https://twitter.com/dog_rates/status/685547936...                14   \n",
       "1492  https://twitter.com/dog_rates/status/692828166...                12   \n",
       "\n",
       "      rating_denominator      name  \\\n",
       "948                   10       NaN   \n",
       "1401                  10       NaN   \n",
       "108                   10  Napolean   \n",
       "300                   10     Meera   \n",
       "200                   10       NaN   \n",
       "385                   10     Cupid   \n",
       "1142                  10       NaN   \n",
       "1624                  10       NaN   \n",
       "2002                  10      Jazz   \n",
       "1697                  10       NaN   \n",
       "1625                  10       NaN   \n",
       "1936                  10       NaN   \n",
       "1487                  10      Milo   \n",
       "1609                  10       NaN   \n",
       "1492                  10       NaN   \n",
       "\n",
       "                                                comment dog_stage  \n",
       "948          Here's a doggo trying to catch some fish.      doggo  \n",
       "1401  I know this is a tad late but here's a wonderf...    pupper  \n",
       "108   This is Napolean. He's a Raggedy East Nicaragu...     doggo  \n",
       "300   This is Meera. She just heard about taxes and ...     doggo  \n",
       "200   At first I thought this was a shy doggo, but i...     doggo  \n",
       "385   This is Cupid. He was found in the trash. Now ...     doggo  \n",
       "1142  This pupper had to undergo emergency haircut s...    pupper  \n",
       "1624  Here we have a basking dino pupper. Looks powe...    pupper  \n",
       "2002  Say hello to Jazz. She should be on the cover ...    pupper  \n",
       "1697                             I just love this pic.     pupper  \n",
       "1625  This little fella really hates stairs. Prefers...    pupper  \n",
       "1936  This is one esteemed pupper. Just graduated co...    pupper  \n",
       "1487  This is Milo. He doesn't understand your fancy...    pupper  \n",
       "1609   Everybody needs to read this. Jack is our first     pupper  \n",
       "1492           This pupper just descended from heaven.     pupper  "
      ]
     },
     "execution_count": 73,
     "metadata": {},
     "output_type": "execute_result"
    }
   ],
   "source": [
    "# view a sample of the dataset to check all dog stages were captured\n",
    "twitter_archive_clean[twitter_archive_clean['dog_stage'].notnull()].sample(15)"
   ]
  },
  {
   "cell_type": "markdown",
   "id": "6877a71a",
   "metadata": {},
   "source": [
    " "
   ]
  },
  {
   "cell_type": "markdown",
   "id": "d818cad4",
   "metadata": {},
   "source": [
    "#### Issue 4\n",
    "The three datasets should be a single dataset"
   ]
  },
  {
   "cell_type": "markdown",
   "id": "8efe2d2c",
   "metadata": {},
   "source": [
    "##### Define\n",
    "\n",
    "Merge the ```twitter-archive_clean```, ```image_predictions_clean```, and ```tweets_json_clean``` into one master dataset."
   ]
  },
  {
   "cell_type": "markdown",
   "id": "3cfcfb62",
   "metadata": {},
   "source": [
    "##### Code"
   ]
  },
  {
   "cell_type": "code",
   "execution_count": 74,
   "id": "ffda8371",
   "metadata": {},
   "outputs": [],
   "source": [
    "# Merge the twitter-archive_clean, image_predictions_clean, and tweets_json_clean into one master dataset\n",
    "twitter_archive_master = pd.merge(twitter_archive_clean, image_predictions_clean, \n",
    "                                  on='tweet_id', how='inner').merge(tweet_json_clean, on='tweet_id', how='inner')"
   ]
  },
  {
   "cell_type": "markdown",
   "id": "e47a036a",
   "metadata": {},
   "source": [
    "##### Test"
   ]
  },
  {
   "cell_type": "code",
   "execution_count": 75,
   "id": "b054838b",
   "metadata": {
    "scrolled": false
   },
   "outputs": [
    {
     "data": {
      "text/html": [
       "<div>\n",
       "<style scoped>\n",
       "    .dataframe tbody tr th:only-of-type {\n",
       "        vertical-align: middle;\n",
       "    }\n",
       "\n",
       "    .dataframe tbody tr th {\n",
       "        vertical-align: top;\n",
       "    }\n",
       "\n",
       "    .dataframe thead th {\n",
       "        text-align: right;\n",
       "    }\n",
       "</style>\n",
       "<table border=\"1\" class=\"dataframe\">\n",
       "  <thead>\n",
       "    <tr style=\"text-align: right;\">\n",
       "      <th></th>\n",
       "      <th>tweet_id</th>\n",
       "      <th>timestamp</th>\n",
       "      <th>source</th>\n",
       "      <th>expanded_urls</th>\n",
       "      <th>rating_numerator</th>\n",
       "      <th>rating_denominator</th>\n",
       "      <th>name</th>\n",
       "      <th>comment</th>\n",
       "      <th>dog_stage</th>\n",
       "      <th>jpg_url</th>\n",
       "      <th>...</th>\n",
       "      <th>p1_conf</th>\n",
       "      <th>p1_dog</th>\n",
       "      <th>p2</th>\n",
       "      <th>p2_conf</th>\n",
       "      <th>p2_dog</th>\n",
       "      <th>p3</th>\n",
       "      <th>p3_conf</th>\n",
       "      <th>p3_dog</th>\n",
       "      <th>retweet_count</th>\n",
       "      <th>favorite_count</th>\n",
       "    </tr>\n",
       "  </thead>\n",
       "  <tbody>\n",
       "    <tr>\n",
       "      <th>0</th>\n",
       "      <td>892420643555336193</td>\n",
       "      <td>2017-08-01 16:23:56+00:00</td>\n",
       "      <td>&lt;a href=\"http://twitter.com/download/iphone\" r...</td>\n",
       "      <td>https://twitter.com/dog_rates/status/892420643...</td>\n",
       "      <td>13</td>\n",
       "      <td>10</td>\n",
       "      <td>Phineas</td>\n",
       "      <td>This is Phineas. He's a mystical boy. Only eve...</td>\n",
       "      <td>NaN</td>\n",
       "      <td>https://pbs.twimg.com/media/DGKD1-bXoAAIAUK.jpg</td>\n",
       "      <td>...</td>\n",
       "      <td>0.097049</td>\n",
       "      <td>False</td>\n",
       "      <td>bagel</td>\n",
       "      <td>0.085851</td>\n",
       "      <td>False</td>\n",
       "      <td>banana</td>\n",
       "      <td>0.076110</td>\n",
       "      <td>False</td>\n",
       "      <td>8853</td>\n",
       "      <td>39467</td>\n",
       "    </tr>\n",
       "    <tr>\n",
       "      <th>1</th>\n",
       "      <td>892177421306343426</td>\n",
       "      <td>2017-08-01 00:17:27+00:00</td>\n",
       "      <td>&lt;a href=\"http://twitter.com/download/iphone\" r...</td>\n",
       "      <td>https://twitter.com/dog_rates/status/892177421...</td>\n",
       "      <td>13</td>\n",
       "      <td>10</td>\n",
       "      <td>Tilly</td>\n",
       "      <td>This is Tilly. She's just checking pup on you....</td>\n",
       "      <td>NaN</td>\n",
       "      <td>https://pbs.twimg.com/media/DGGmoV4XsAAUL6n.jpg</td>\n",
       "      <td>...</td>\n",
       "      <td>0.323581</td>\n",
       "      <td>True</td>\n",
       "      <td>pekinese</td>\n",
       "      <td>0.090647</td>\n",
       "      <td>True</td>\n",
       "      <td>papillon</td>\n",
       "      <td>0.068957</td>\n",
       "      <td>True</td>\n",
       "      <td>6514</td>\n",
       "      <td>33819</td>\n",
       "    </tr>\n",
       "    <tr>\n",
       "      <th>2</th>\n",
       "      <td>891815181378084864</td>\n",
       "      <td>2017-07-31 00:18:03+00:00</td>\n",
       "      <td>&lt;a href=\"http://twitter.com/download/iphone\" r...</td>\n",
       "      <td>https://twitter.com/dog_rates/status/891815181...</td>\n",
       "      <td>12</td>\n",
       "      <td>10</td>\n",
       "      <td>Archie</td>\n",
       "      <td>This is Archie. He is a rare Norwegian Pouncin...</td>\n",
       "      <td>NaN</td>\n",
       "      <td>https://pbs.twimg.com/media/DGBdLU1WsAANxJ9.jpg</td>\n",
       "      <td>...</td>\n",
       "      <td>0.716012</td>\n",
       "      <td>True</td>\n",
       "      <td>malamute</td>\n",
       "      <td>0.078253</td>\n",
       "      <td>True</td>\n",
       "      <td>kelpie</td>\n",
       "      <td>0.031379</td>\n",
       "      <td>True</td>\n",
       "      <td>4328</td>\n",
       "      <td>25461</td>\n",
       "    </tr>\n",
       "    <tr>\n",
       "      <th>3</th>\n",
       "      <td>891689557279858688</td>\n",
       "      <td>2017-07-30 15:58:51+00:00</td>\n",
       "      <td>&lt;a href=\"http://twitter.com/download/iphone\" r...</td>\n",
       "      <td>https://twitter.com/dog_rates/status/891689557...</td>\n",
       "      <td>13</td>\n",
       "      <td>10</td>\n",
       "      <td>Darla</td>\n",
       "      <td>This is Darla. She commenced a snooze mid meal.</td>\n",
       "      <td>NaN</td>\n",
       "      <td>https://pbs.twimg.com/media/DF_q7IAWsAEuuN8.jpg</td>\n",
       "      <td>...</td>\n",
       "      <td>0.170278</td>\n",
       "      <td>False</td>\n",
       "      <td>labrador_retriever</td>\n",
       "      <td>0.168086</td>\n",
       "      <td>True</td>\n",
       "      <td>spatula</td>\n",
       "      <td>0.040836</td>\n",
       "      <td>False</td>\n",
       "      <td>8964</td>\n",
       "      <td>42908</td>\n",
       "    </tr>\n",
       "    <tr>\n",
       "      <th>4</th>\n",
       "      <td>891327558926688256</td>\n",
       "      <td>2017-07-29 16:00:24+00:00</td>\n",
       "      <td>&lt;a href=\"http://twitter.com/download/iphone\" r...</td>\n",
       "      <td>https://twitter.com/dog_rates/status/891327558...</td>\n",
       "      <td>12</td>\n",
       "      <td>10</td>\n",
       "      <td>Franklin</td>\n",
       "      <td>This is Franklin. He would like you to stop ca...</td>\n",
       "      <td>NaN</td>\n",
       "      <td>https://pbs.twimg.com/media/DF6hr6BUMAAzZgT.jpg</td>\n",
       "      <td>...</td>\n",
       "      <td>0.555712</td>\n",
       "      <td>True</td>\n",
       "      <td>english_springer</td>\n",
       "      <td>0.225770</td>\n",
       "      <td>True</td>\n",
       "      <td>german_short-haired_pointer</td>\n",
       "      <td>0.175219</td>\n",
       "      <td>True</td>\n",
       "      <td>9774</td>\n",
       "      <td>41048</td>\n",
       "    </tr>\n",
       "    <tr>\n",
       "      <th>...</th>\n",
       "      <td>...</td>\n",
       "      <td>...</td>\n",
       "      <td>...</td>\n",
       "      <td>...</td>\n",
       "      <td>...</td>\n",
       "      <td>...</td>\n",
       "      <td>...</td>\n",
       "      <td>...</td>\n",
       "      <td>...</td>\n",
       "      <td>...</td>\n",
       "      <td>...</td>\n",
       "      <td>...</td>\n",
       "      <td>...</td>\n",
       "      <td>...</td>\n",
       "      <td>...</td>\n",
       "      <td>...</td>\n",
       "      <td>...</td>\n",
       "      <td>...</td>\n",
       "      <td>...</td>\n",
       "      <td>...</td>\n",
       "      <td>...</td>\n",
       "    </tr>\n",
       "    <tr>\n",
       "      <th>1989</th>\n",
       "      <td>666049248165822465</td>\n",
       "      <td>2015-11-16 00:24:50+00:00</td>\n",
       "      <td>&lt;a href=\"http://twitter.com/download/iphone\" r...</td>\n",
       "      <td>https://twitter.com/dog_rates/status/666049248...</td>\n",
       "      <td>5</td>\n",
       "      <td>10</td>\n",
       "      <td>NaN</td>\n",
       "      <td>Here we have a</td>\n",
       "      <td>NaN</td>\n",
       "      <td>https://pbs.twimg.com/media/CT5IQmsXIAAKY4A.jpg</td>\n",
       "      <td>...</td>\n",
       "      <td>0.560311</td>\n",
       "      <td>True</td>\n",
       "      <td>rottweiler</td>\n",
       "      <td>0.243682</td>\n",
       "      <td>True</td>\n",
       "      <td>doberman</td>\n",
       "      <td>0.154629</td>\n",
       "      <td>True</td>\n",
       "      <td>41</td>\n",
       "      <td>111</td>\n",
       "    </tr>\n",
       "    <tr>\n",
       "      <th>1990</th>\n",
       "      <td>666044226329800704</td>\n",
       "      <td>2015-11-16 00:04:52+00:00</td>\n",
       "      <td>&lt;a href=\"http://twitter.com/download/iphone\" r...</td>\n",
       "      <td>https://twitter.com/dog_rates/status/666044226...</td>\n",
       "      <td>6</td>\n",
       "      <td>10</td>\n",
       "      <td>NaN</td>\n",
       "      <td>This is a purebred Piers Morgan. Loves to Netf...</td>\n",
       "      <td>NaN</td>\n",
       "      <td>https://pbs.twimg.com/media/CT5Dr8HUEAA-lEu.jpg</td>\n",
       "      <td>...</td>\n",
       "      <td>0.408143</td>\n",
       "      <td>True</td>\n",
       "      <td>redbone</td>\n",
       "      <td>0.360687</td>\n",
       "      <td>True</td>\n",
       "      <td>miniature_pinscher</td>\n",
       "      <td>0.222752</td>\n",
       "      <td>True</td>\n",
       "      <td>147</td>\n",
       "      <td>311</td>\n",
       "    </tr>\n",
       "    <tr>\n",
       "      <th>1991</th>\n",
       "      <td>666033412701032449</td>\n",
       "      <td>2015-11-15 23:21:54+00:00</td>\n",
       "      <td>&lt;a href=\"http://twitter.com/download/iphone\" r...</td>\n",
       "      <td>https://twitter.com/dog_rates/status/666033412...</td>\n",
       "      <td>9</td>\n",
       "      <td>10</td>\n",
       "      <td>NaN</td>\n",
       "      <td>Here is a very happy pup. Big fan of well-main...</td>\n",
       "      <td>NaN</td>\n",
       "      <td>https://pbs.twimg.com/media/CT4521TWwAEvMyu.jpg</td>\n",
       "      <td>...</td>\n",
       "      <td>0.596461</td>\n",
       "      <td>True</td>\n",
       "      <td>malinois</td>\n",
       "      <td>0.138584</td>\n",
       "      <td>True</td>\n",
       "      <td>bloodhound</td>\n",
       "      <td>0.116197</td>\n",
       "      <td>True</td>\n",
       "      <td>47</td>\n",
       "      <td>128</td>\n",
       "    </tr>\n",
       "    <tr>\n",
       "      <th>1992</th>\n",
       "      <td>666029285002620928</td>\n",
       "      <td>2015-11-15 23:05:30+00:00</td>\n",
       "      <td>&lt;a href=\"http://twitter.com/download/iphone\" r...</td>\n",
       "      <td>https://twitter.com/dog_rates/status/666029285...</td>\n",
       "      <td>7</td>\n",
       "      <td>10</td>\n",
       "      <td>NaN</td>\n",
       "      <td>This is a western brown Mitsubishi terrier. Up...</td>\n",
       "      <td>NaN</td>\n",
       "      <td>https://pbs.twimg.com/media/CT42GRgUYAA5iDo.jpg</td>\n",
       "      <td>...</td>\n",
       "      <td>0.506826</td>\n",
       "      <td>True</td>\n",
       "      <td>miniature_pinscher</td>\n",
       "      <td>0.074192</td>\n",
       "      <td>True</td>\n",
       "      <td>rhodesian_ridgeback</td>\n",
       "      <td>0.072010</td>\n",
       "      <td>True</td>\n",
       "      <td>48</td>\n",
       "      <td>132</td>\n",
       "    </tr>\n",
       "    <tr>\n",
       "      <th>1993</th>\n",
       "      <td>666020888022790149</td>\n",
       "      <td>2015-11-15 22:32:08+00:00</td>\n",
       "      <td>&lt;a href=\"http://twitter.com/download/iphone\" r...</td>\n",
       "      <td>https://twitter.com/dog_rates/status/666020888...</td>\n",
       "      <td>8</td>\n",
       "      <td>10</td>\n",
       "      <td>NaN</td>\n",
       "      <td>Here we have a Japanese Irish Setter. Lost eye...</td>\n",
       "      <td>NaN</td>\n",
       "      <td>https://pbs.twimg.com/media/CT4udn0WwAA0aMy.jpg</td>\n",
       "      <td>...</td>\n",
       "      <td>0.465074</td>\n",
       "      <td>True</td>\n",
       "      <td>collie</td>\n",
       "      <td>0.156665</td>\n",
       "      <td>True</td>\n",
       "      <td>shetland_sheepdog</td>\n",
       "      <td>0.061428</td>\n",
       "      <td>True</td>\n",
       "      <td>532</td>\n",
       "      <td>2535</td>\n",
       "    </tr>\n",
       "  </tbody>\n",
       "</table>\n",
       "<p>1994 rows × 22 columns</p>\n",
       "</div>"
      ],
      "text/plain": [
       "                tweet_id                 timestamp  \\\n",
       "0     892420643555336193 2017-08-01 16:23:56+00:00   \n",
       "1     892177421306343426 2017-08-01 00:17:27+00:00   \n",
       "2     891815181378084864 2017-07-31 00:18:03+00:00   \n",
       "3     891689557279858688 2017-07-30 15:58:51+00:00   \n",
       "4     891327558926688256 2017-07-29 16:00:24+00:00   \n",
       "...                  ...                       ...   \n",
       "1989  666049248165822465 2015-11-16 00:24:50+00:00   \n",
       "1990  666044226329800704 2015-11-16 00:04:52+00:00   \n",
       "1991  666033412701032449 2015-11-15 23:21:54+00:00   \n",
       "1992  666029285002620928 2015-11-15 23:05:30+00:00   \n",
       "1993  666020888022790149 2015-11-15 22:32:08+00:00   \n",
       "\n",
       "                                                 source  \\\n",
       "0     <a href=\"http://twitter.com/download/iphone\" r...   \n",
       "1     <a href=\"http://twitter.com/download/iphone\" r...   \n",
       "2     <a href=\"http://twitter.com/download/iphone\" r...   \n",
       "3     <a href=\"http://twitter.com/download/iphone\" r...   \n",
       "4     <a href=\"http://twitter.com/download/iphone\" r...   \n",
       "...                                                 ...   \n",
       "1989  <a href=\"http://twitter.com/download/iphone\" r...   \n",
       "1990  <a href=\"http://twitter.com/download/iphone\" r...   \n",
       "1991  <a href=\"http://twitter.com/download/iphone\" r...   \n",
       "1992  <a href=\"http://twitter.com/download/iphone\" r...   \n",
       "1993  <a href=\"http://twitter.com/download/iphone\" r...   \n",
       "\n",
       "                                          expanded_urls  rating_numerator  \\\n",
       "0     https://twitter.com/dog_rates/status/892420643...                13   \n",
       "1     https://twitter.com/dog_rates/status/892177421...                13   \n",
       "2     https://twitter.com/dog_rates/status/891815181...                12   \n",
       "3     https://twitter.com/dog_rates/status/891689557...                13   \n",
       "4     https://twitter.com/dog_rates/status/891327558...                12   \n",
       "...                                                 ...               ...   \n",
       "1989  https://twitter.com/dog_rates/status/666049248...                 5   \n",
       "1990  https://twitter.com/dog_rates/status/666044226...                 6   \n",
       "1991  https://twitter.com/dog_rates/status/666033412...                 9   \n",
       "1992  https://twitter.com/dog_rates/status/666029285...                 7   \n",
       "1993  https://twitter.com/dog_rates/status/666020888...                 8   \n",
       "\n",
       "      rating_denominator      name  \\\n",
       "0                     10   Phineas   \n",
       "1                     10     Tilly   \n",
       "2                     10    Archie   \n",
       "3                     10     Darla   \n",
       "4                     10  Franklin   \n",
       "...                  ...       ...   \n",
       "1989                  10       NaN   \n",
       "1990                  10       NaN   \n",
       "1991                  10       NaN   \n",
       "1992                  10       NaN   \n",
       "1993                  10       NaN   \n",
       "\n",
       "                                                comment dog_stage  \\\n",
       "0     This is Phineas. He's a mystical boy. Only eve...       NaN   \n",
       "1     This is Tilly. She's just checking pup on you....       NaN   \n",
       "2     This is Archie. He is a rare Norwegian Pouncin...       NaN   \n",
       "3      This is Darla. She commenced a snooze mid meal.        NaN   \n",
       "4     This is Franklin. He would like you to stop ca...       NaN   \n",
       "...                                                 ...       ...   \n",
       "1989                                    Here we have a        NaN   \n",
       "1990  This is a purebred Piers Morgan. Loves to Netf...       NaN   \n",
       "1991  Here is a very happy pup. Big fan of well-main...       NaN   \n",
       "1992  This is a western brown Mitsubishi terrier. Up...       NaN   \n",
       "1993  Here we have a Japanese Irish Setter. Lost eye...       NaN   \n",
       "\n",
       "                                              jpg_url  ...   p1_conf p1_dog  \\\n",
       "0     https://pbs.twimg.com/media/DGKD1-bXoAAIAUK.jpg  ...  0.097049  False   \n",
       "1     https://pbs.twimg.com/media/DGGmoV4XsAAUL6n.jpg  ...  0.323581   True   \n",
       "2     https://pbs.twimg.com/media/DGBdLU1WsAANxJ9.jpg  ...  0.716012   True   \n",
       "3     https://pbs.twimg.com/media/DF_q7IAWsAEuuN8.jpg  ...  0.170278  False   \n",
       "4     https://pbs.twimg.com/media/DF6hr6BUMAAzZgT.jpg  ...  0.555712   True   \n",
       "...                                               ...  ...       ...    ...   \n",
       "1989  https://pbs.twimg.com/media/CT5IQmsXIAAKY4A.jpg  ...  0.560311   True   \n",
       "1990  https://pbs.twimg.com/media/CT5Dr8HUEAA-lEu.jpg  ...  0.408143   True   \n",
       "1991  https://pbs.twimg.com/media/CT4521TWwAEvMyu.jpg  ...  0.596461   True   \n",
       "1992  https://pbs.twimg.com/media/CT42GRgUYAA5iDo.jpg  ...  0.506826   True   \n",
       "1993  https://pbs.twimg.com/media/CT4udn0WwAA0aMy.jpg  ...  0.465074   True   \n",
       "\n",
       "                      p2   p2_conf p2_dog                           p3  \\\n",
       "0                  bagel  0.085851  False                       banana   \n",
       "1               pekinese  0.090647   True                     papillon   \n",
       "2               malamute  0.078253   True                       kelpie   \n",
       "3     labrador_retriever  0.168086   True                      spatula   \n",
       "4       english_springer  0.225770   True  german_short-haired_pointer   \n",
       "...                  ...       ...    ...                          ...   \n",
       "1989          rottweiler  0.243682   True                     doberman   \n",
       "1990             redbone  0.360687   True           miniature_pinscher   \n",
       "1991            malinois  0.138584   True                   bloodhound   \n",
       "1992  miniature_pinscher  0.074192   True          rhodesian_ridgeback   \n",
       "1993              collie  0.156665   True            shetland_sheepdog   \n",
       "\n",
       "       p3_conf p3_dog  retweet_count  favorite_count  \n",
       "0     0.076110  False           8853           39467  \n",
       "1     0.068957   True           6514           33819  \n",
       "2     0.031379   True           4328           25461  \n",
       "3     0.040836  False           8964           42908  \n",
       "4     0.175219   True           9774           41048  \n",
       "...        ...    ...            ...             ...  \n",
       "1989  0.154629   True             41             111  \n",
       "1990  0.222752   True            147             311  \n",
       "1991  0.116197   True             47             128  \n",
       "1992  0.072010   True             48             132  \n",
       "1993  0.061428   True            532            2535  \n",
       "\n",
       "[1994 rows x 22 columns]"
      ]
     },
     "execution_count": 75,
     "metadata": {},
     "output_type": "execute_result"
    }
   ],
   "source": [
    "# view master dataset\n",
    "twitter_archive_master"
   ]
  },
  {
   "cell_type": "code",
   "execution_count": 76,
   "id": "b1fc07a2",
   "metadata": {
    "scrolled": false
   },
   "outputs": [
    {
     "data": {
      "text/plain": [
       "['tweet_id',\n",
       " 'timestamp',\n",
       " 'source',\n",
       " 'expanded_urls',\n",
       " 'rating_numerator',\n",
       " 'rating_denominator',\n",
       " 'name',\n",
       " 'comment',\n",
       " 'dog_stage',\n",
       " 'jpg_url',\n",
       " 'img_num',\n",
       " 'p1',\n",
       " 'p1_conf',\n",
       " 'p1_dog',\n",
       " 'p2',\n",
       " 'p2_conf',\n",
       " 'p2_dog',\n",
       " 'p3',\n",
       " 'p3_conf',\n",
       " 'p3_dog',\n",
       " 'retweet_count',\n",
       " 'favorite_count']"
      ]
     },
     "execution_count": 76,
     "metadata": {},
     "output_type": "execute_result"
    }
   ],
   "source": [
    "# view a lsit of all columns of the master dataset\n",
    "list(twitter_archive_master.columns)"
   ]
  },
  {
   "cell_type": "code",
   "execution_count": 77,
   "id": "508969cc",
   "metadata": {
    "scrolled": false
   },
   "outputs": [
    {
     "name": "stdout",
     "output_type": "stream",
     "text": [
      "<class 'pandas.core.frame.DataFrame'>\n",
      "Int64Index: 1994 entries, 0 to 1993\n",
      "Data columns (total 22 columns):\n",
      " #   Column              Non-Null Count  Dtype              \n",
      "---  ------              --------------  -----              \n",
      " 0   tweet_id            1994 non-null   object             \n",
      " 1   timestamp           1994 non-null   datetime64[ns, UTC]\n",
      " 2   source              1994 non-null   object             \n",
      " 3   expanded_urls       1994 non-null   object             \n",
      " 4   rating_numerator    1994 non-null   int64              \n",
      " 5   rating_denominator  1994 non-null   int64              \n",
      " 6   name                1350 non-null   object             \n",
      " 7   comment             1994 non-null   object             \n",
      " 8   dog_stage           306 non-null    object             \n",
      " 9   jpg_url             1994 non-null   object             \n",
      " 10  img_num             1994 non-null   int64              \n",
      " 11  p1                  1994 non-null   object             \n",
      " 12  p1_conf             1994 non-null   float64            \n",
      " 13  p1_dog              1994 non-null   bool               \n",
      " 14  p2                  1994 non-null   object             \n",
      " 15  p2_conf             1994 non-null   float64            \n",
      " 16  p2_dog              1994 non-null   bool               \n",
      " 17  p3                  1994 non-null   object             \n",
      " 18  p3_conf             1994 non-null   float64            \n",
      " 19  p3_dog              1994 non-null   bool               \n",
      " 20  retweet_count       1994 non-null   int64              \n",
      " 21  favorite_count      1994 non-null   int64              \n",
      "dtypes: bool(3), datetime64[ns, UTC](1), float64(3), int64(5), object(10)\n",
      "memory usage: 317.4+ KB\n"
     ]
    }
   ],
   "source": [
    "# view general info about the master dataset\n",
    "twitter_archive_master.info()"
   ]
  },
  {
   "cell_type": "markdown",
   "id": "1889b18b",
   "metadata": {},
   "source": [
    "Comment:\n",
    "    \n",
    "    All columns of the three datasets are present in the master dataset which indicates the merge was succesfull\n",
    "    \n",
    "    All columns have no nulls except for name and do_stage which are not are issue as insights coud be drawn from that"
   ]
  },
  {
   "cell_type": "markdown",
   "id": "68c1b089",
   "metadata": {},
   "source": [
    "  "
   ]
  },
  {
   "cell_type": "markdown",
   "id": "698cc45f",
   "metadata": {},
   "source": [
    " "
   ]
  },
  {
   "cell_type": "markdown",
   "id": "41dff6d2",
   "metadata": {},
   "source": [
    "## Storing Data\n",
    "Save the master dataset into a csv file called __twitter_archive_master__"
   ]
  },
  {
   "cell_type": "code",
   "execution_count": 78,
   "id": "e40ffe7a",
   "metadata": {},
   "outputs": [],
   "source": [
    "# save clean dataset as a csv\n",
    "twitter_archive_master.to_csv('twitter_archive_master.csv', index=False)"
   ]
  },
  {
   "cell_type": "markdown",
   "id": "8bf403ee",
   "metadata": {},
   "source": [
    " "
   ]
  },
  {
   "cell_type": "markdown",
   "id": "2b6f3ee5",
   "metadata": {},
   "source": [
    " "
   ]
  },
  {
   "cell_type": "markdown",
   "id": "6861bdf4",
   "metadata": {},
   "source": [
    "### Analyzing and Visualizing Data\n",
    "Generate insights and visualize data"
   ]
  },
  {
   "cell_type": "markdown",
   "id": "9da3c459",
   "metadata": {},
   "source": [
    "#### Questions\n",
    "\n",
    "1. What is the tweet distribution by day of week?\n",
    "2. What is the tweet distribution by year?\n",
    "3. Which dog had the highest rating?\n",
    "4. How many dogs had their names not declared?\n",
    "5. Which days had the highest and lowest retweet count?\n",
    "6. On which day was a tweet liked or loved the most?\n",
    "7. What is the favorite_counts distribution over days?\n",
    "8. What is the most given dog name among the declared names in the dataset?\n",
    "9. What is the percentage of dog stage that were not declared?\n"
   ]
  },
  {
   "cell_type": "markdown",
   "id": "9840c6e6",
   "metadata": {},
   "source": [
    "#### 1. What is the tweet distribution by day of week?"
   ]
  },
  {
   "cell_type": "markdown",
   "id": "d2404cf9",
   "metadata": {},
   "source": [
    "##### Creating a new column which contains the day of the week each tweet was made"
   ]
  },
  {
   "cell_type": "code",
   "execution_count": 79,
   "id": "5b5f09bb",
   "metadata": {},
   "outputs": [],
   "source": [
    "# create new column showing day of week in which a tweet was made\n",
    "twitter_archive_master['day_of_tweet'] = twitter_archive_master['timestamp'].dt.weekday\n",
    "# set mapping variables\n",
    "days = {0:'Monday' , 1:'Tuesday', 2:'Wednesday', 3:'Thursday', 4:'Friday', 5:'Saturday', 6:'Sunday'}\n",
    "# changes day of week from numbers to respective day names\n",
    "twitter_archive_master['day_of_tweet'] = twitter_archive_master['day_of_tweet'].map(days)"
   ]
  },
  {
   "cell_type": "markdown",
   "id": "7065a7c7",
   "metadata": {},
   "source": [
    "##### Creating a function to plot bar charts of preferred variables"
   ]
  },
  {
   "cell_type": "code",
   "execution_count": 80,
   "id": "b38590a1",
   "metadata": {},
   "outputs": [],
   "source": [
    "# define a function to plot bar charts\n",
    "def chart (df, column, x_label, y_label, chart_title):\n",
    "    # choose chart style to use\n",
    "    style.use('seaborn')\n",
    "    # set chart size\n",
    "    plt.figure(figsize=(6,6))\n",
    "    # choose color to use for the bars in the chart\n",
    "    color = sns.color_palette()[0]\n",
    "    # define unique values of choosen column from dataset\n",
    "    df_count = df[column].value_counts().values\n",
    "    # Get index for all unique values of choosen column from dataset\n",
    "    df_index = df[column].value_counts().index\n",
    "    # plot a bar chart using seaborn library\n",
    "    sns.countplot(data = df, x = column, color = color, order = df_index)\n",
    "    # set data labels in chart\n",
    "    for index, data in enumerate(df_count):\n",
    "        plt.text(x=index, y = data+7, s= f'{data}',ha='center', fontsize=10)\n",
    "    # set x_axis label\n",
    "    plt.xlabel(x_label, fontsize=15)\n",
    "    # set y_axis label\n",
    "    plt.ylabel(y_label, fontsize=15)\n",
    "    # set chart title\n",
    "    plt.title(chart_title, fontsize=20)\n",
    "    # set orientation of bars labels\n",
    "    plt.xticks(rotation=75)\n",
    "    # set y_axis labels not to be displayed\n",
    "    plt.yticks([]);"
   ]
  },
  {
   "cell_type": "markdown",
   "id": "980d2095",
   "metadata": {},
   "source": [
    "##### Plot Tweets Count vrs Day of Week"
   ]
  },
  {
   "cell_type": "code",
   "execution_count": 81,
   "id": "ca20359d",
   "metadata": {
    "scrolled": false
   },
   "outputs": [
    {
     "data": {
      "image/png": "[encoded data removed]",
      "text/plain": [
       "<Figure size 432x432 with 1 Axes>"
      ]
     },
     "metadata": {},
     "output_type": "display_data"
    }
   ],
   "source": [
    "# call function to plot chart of tweet counts vrs day of week\n",
    "chart(twitter_archive_master,'day_of_tweet', 'Day of Tweet', 'Count of Tweet',\n",
    "      'Tweets Count vrs Day of Week')"
   ]
  },
  {
   "cell_type": "markdown",
   "id": "f2277a0b",
   "metadata": {},
   "source": [
    "Comment:\n",
    "\n",
    "    Chart shows most tweets were made on Mondays whereas the least tweets were made on Saturdays"
   ]
  },
  {
   "cell_type": "markdown",
   "id": "b496e665",
   "metadata": {},
   "source": [
    " \n",
    " "
   ]
  },
  {
   "cell_type": "markdown",
   "id": "17c1a8f2",
   "metadata": {},
   "source": [
    "#### 2. What is the tweet distribution by year?"
   ]
  },
  {
   "cell_type": "code",
   "execution_count": 82,
   "id": "e76597b3",
   "metadata": {},
   "outputs": [],
   "source": [
    "# create new column of years in which tweet was made\n",
    "twitter_archive_master['year_of_tweet'] = twitter_archive_master['timestamp'].dt.year"
   ]
  },
  {
   "cell_type": "code",
   "execution_count": 83,
   "id": "55264109",
   "metadata": {
    "scrolled": false
   },
   "outputs": [
    {
     "data": {
      "image/png": "[encoded data removed]",
      "text/plain": [
       "<Figure size 432x432 with 1 Axes>"
      ]
     },
     "metadata": {},
     "output_type": "display_data"
    }
   ],
   "source": [
    "# call chart funtion to plot bar charts showing tweet counts for each unique year\n",
    "chart(twitter_archive_master,'year_of_tweet', 'Year of Tweet', 'Count of Tweet',\n",
    "      'Tweets Count vrs Year of Week')"
   ]
  },
  {
   "cell_type": "markdown",
   "id": "f18ab650",
   "metadata": {},
   "source": [
    "Comment:\n",
    "\n",
    "    2016 had the highest number of tweets followed by 2015 and then 2017   "
   ]
  },
  {
   "cell_type": "markdown",
   "id": "33077178",
   "metadata": {},
   "source": [
    "##### Plotting Pie Chart Showing Tweets from Each Year Captured in the Dataset"
   ]
  },
  {
   "cell_type": "code",
   "execution_count": 84,
   "id": "152c0126",
   "metadata": {
    "scrolled": true
   },
   "outputs": [
    {
     "data": {
      "image/png": "[encoded data removed]",
      "text/plain": [
       "<Figure size 576x396 with 1 Axes>"
      ]
     },
     "metadata": {},
     "output_type": "display_data"
    }
   ],
   "source": [
    "# Plot pie chart of tweet counts for each year to display the percentage contribution\n",
    "yearly_tweets = twitter_archive_master['year_of_tweet'].value_counts()\n",
    "plt.pie(yearly_tweets, labels = yearly_tweets.index, autopct='%1.1f%%')\n",
    "plt.title('Yearly Tweets Distribution', fontsize=20);"
   ]
  },
  {
   "cell_type": "markdown",
   "id": "bfb19437",
   "metadata": {},
   "source": [
    "Comment:\n",
    "\n",
    "    Tweets in 2016 accounts for 48.8 percents of the entire dataset where that from 2015 and 2017 accounted for 33.2 % and\n",
    "    17.9 % respectively"
   ]
  },
  {
   "cell_type": "markdown",
   "id": "a0e8c62a",
   "metadata": {},
   "source": [
    " "
   ]
  },
  {
   "cell_type": "markdown",
   "id": "684e6318",
   "metadata": {},
   "source": [
    "#### 3. Which dog had the highest rating?"
   ]
  },
  {
   "cell_type": "code",
   "execution_count": 85,
   "id": "63271249",
   "metadata": {},
   "outputs": [],
   "source": [
    "# creat new column named rating\n",
    "twitter_archive_master['rating'] = twitter_archive_master['rating_numerator'] / twitter_archive_master['rating_denominator']"
   ]
  },
  {
   "cell_type": "code",
   "execution_count": 86,
   "id": "3be561bb",
   "metadata": {},
   "outputs": [
    {
     "data": {
      "text/plain": [
       "177.6"
      ]
     },
     "execution_count": 86,
     "metadata": {},
     "output_type": "execute_result"
    }
   ],
   "source": [
    "# find maximum rating\n",
    "twitter_archive_master['rating'].max()"
   ]
  },
  {
   "cell_type": "code",
   "execution_count": 87,
   "id": "933e27c6",
   "metadata": {},
   "outputs": [
    {
     "data": {
      "text/html": [
       "<div>\n",
       "<style scoped>\n",
       "    .dataframe tbody tr th:only-of-type {\n",
       "        vertical-align: middle;\n",
       "    }\n",
       "\n",
       "    .dataframe tbody tr th {\n",
       "        vertical-align: top;\n",
       "    }\n",
       "\n",
       "    .dataframe thead th {\n",
       "        text-align: right;\n",
       "    }\n",
       "</style>\n",
       "<table border=\"1\" class=\"dataframe\">\n",
       "  <thead>\n",
       "    <tr style=\"text-align: right;\">\n",
       "      <th></th>\n",
       "      <th>tweet_id</th>\n",
       "      <th>timestamp</th>\n",
       "      <th>name</th>\n",
       "      <th>day_of_tweet</th>\n",
       "    </tr>\n",
       "  </thead>\n",
       "  <tbody>\n",
       "    <tr>\n",
       "      <th>726</th>\n",
       "      <td>749981277374128128</td>\n",
       "      <td>2016-07-04 15:00:45+00:00</td>\n",
       "      <td>Atticus</td>\n",
       "      <td>Monday</td>\n",
       "    </tr>\n",
       "  </tbody>\n",
       "</table>\n",
       "</div>"
      ],
      "text/plain": [
       "               tweet_id                 timestamp     name day_of_tweet\n",
       "726  749981277374128128 2016-07-04 15:00:45+00:00  Atticus       Monday"
      ]
     },
     "execution_count": 87,
     "metadata": {},
     "output_type": "execute_result"
    }
   ],
   "source": [
    "# get name of dog with highest rating\n",
    "twitter_archive_master.query(\"rating == 177.6\")[['tweet_id', 'timestamp','name', 'day_of_tweet']]"
   ]
  },
  {
   "cell_type": "markdown",
   "id": "7251ded8",
   "metadata": {},
   "source": [
    "##### Getting url for dog with highest rating to be auto-loaded and displayed in a web browser"
   ]
  },
  {
   "cell_type": "code",
   "execution_count": 88,
   "id": "90699f09",
   "metadata": {},
   "outputs": [
    {
     "data": {
      "text/plain": [
       "True"
      ]
     },
     "execution_count": 88,
     "metadata": {},
     "output_type": "execute_result"
    }
   ],
   "source": [
    "# import webbrowser library\n",
    "import webbrowser as web\n",
    "#open url of dog with highest rating\n",
    "web.open(twitter_archive_master.query('rating == 177.6').expanded_urls.iloc[0])"
   ]
  },
  {
   "cell_type": "markdown",
   "id": "57756528",
   "metadata": {},
   "source": [
    "##### Displaying image of dog with highest rating programmatically from my local machine\n",
    "NB: To do same on your local machine, save the image displayed in the web browser when the code above was ran and change the ```path``` i.e. file path in the code below to that of your saved image"
   ]
  },
  {
   "cell_type": "code",
   "execution_count": 89,
   "id": "d8e82d8a",
   "metadata": {},
   "outputs": [
    {
     "data": {
      "image/png": "[encoded data removed]",
      "text/plain": [
       "<PIL.JpegImagePlugin.JpegImageFile image mode=RGB size=371x479 at 0x20658AB4F10>"
      ]
     },
     "metadata": {},
     "output_type": "display_data"
    }
   ],
   "source": [
    "# import required libraries\n",
    "from IPython.display import display\n",
    "from PIL import Image\n",
    "\n",
    "# display saved image of highest rated dog in notebook\n",
    "path= \"Atticus_Highest_Rated_Dog.jfif\"\n",
    "display(Image.open(path))"
   ]
  },
  {
   "cell_type": "markdown",
   "id": "351a71e0",
   "metadata": {},
   "source": [
    "Comment:\n",
    "\n",
    "    Atticus was the dog with the highest rating. His tweet was on Monday July 4, 2016 with tweet_id 749981277374128128"
   ]
  },
  {
   "cell_type": "markdown",
   "id": "61defc29",
   "metadata": {},
   "source": [
    " "
   ]
  },
  {
   "cell_type": "markdown",
   "id": "21aa8d17",
   "metadata": {},
   "source": [
    "#### 4. How many dogs had their names not declared?"
   ]
  },
  {
   "cell_type": "code",
   "execution_count": 90,
   "id": "ba25ae95",
   "metadata": {},
   "outputs": [
    {
     "data": {
      "text/plain": [
       "644"
      ]
     },
     "execution_count": 90,
     "metadata": {},
     "output_type": "execute_result"
    }
   ],
   "source": [
    "# compute undeclared dog names\n",
    "twitter_archive_master['name'].isnull().sum()"
   ]
  },
  {
   "cell_type": "code",
   "execution_count": 91,
   "id": "73375c6e",
   "metadata": {
    "scrolled": false
   },
   "outputs": [
    {
     "data": {
      "text/plain": [
       "32.3"
      ]
     },
     "execution_count": 91,
     "metadata": {},
     "output_type": "execute_result"
    }
   ],
   "source": [
    "# compute percentage of undeclared dog names rounded to one decimal place\n",
    "round((twitter_archive_master['name'].isnull().sum() / twitter_archive_master['rating_numerator'].count()) * 100, 1)"
   ]
  },
  {
   "cell_type": "markdown",
   "id": "43951b9f",
   "metadata": {},
   "source": [
    "Comment:\n",
    "\n",
    "    644 dogs had their names not declared which corresponds to 32.2 % of the entire dogs"
   ]
  },
  {
   "cell_type": "markdown",
   "id": "f433cc16",
   "metadata": {},
   "source": [
    " "
   ]
  },
  {
   "cell_type": "markdown",
   "id": "1f25821b",
   "metadata": {},
   "source": [
    "#### 5. Which days had the highest and lowest retweet count?"
   ]
  },
  {
   "cell_type": "markdown",
   "id": "69a90088",
   "metadata": {},
   "source": [
    "##### Computing day with highest tweets"
   ]
  },
  {
   "cell_type": "code",
   "execution_count": 92,
   "id": "5824f944",
   "metadata": {},
   "outputs": [
    {
     "data": {
      "text/plain": [
       "79515"
      ]
     },
     "execution_count": 92,
     "metadata": {},
     "output_type": "execute_result"
    }
   ],
   "source": [
    "# compute maximum retweet counts\n",
    "twitter_archive_master['retweet_count'].max()"
   ]
  },
  {
   "cell_type": "code",
   "execution_count": 93,
   "id": "b4c612c7",
   "metadata": {},
   "outputs": [
    {
     "data": {
      "text/html": [
       "<div>\n",
       "<style scoped>\n",
       "    .dataframe tbody tr th:only-of-type {\n",
       "        vertical-align: middle;\n",
       "    }\n",
       "\n",
       "    .dataframe tbody tr th {\n",
       "        vertical-align: top;\n",
       "    }\n",
       "\n",
       "    .dataframe thead th {\n",
       "        text-align: right;\n",
       "    }\n",
       "</style>\n",
       "<table border=\"1\" class=\"dataframe\">\n",
       "  <thead>\n",
       "    <tr style=\"text-align: right;\">\n",
       "      <th></th>\n",
       "      <th>timestamp</th>\n",
       "      <th>day_of_tweet</th>\n",
       "    </tr>\n",
       "  </thead>\n",
       "  <tbody>\n",
       "    <tr>\n",
       "      <th>775</th>\n",
       "      <td>2016-06-18 18:26:18+00:00</td>\n",
       "      <td>Saturday</td>\n",
       "    </tr>\n",
       "  </tbody>\n",
       "</table>\n",
       "</div>"
      ],
      "text/plain": [
       "                    timestamp day_of_tweet\n",
       "775 2016-06-18 18:26:18+00:00     Saturday"
      ]
     },
     "execution_count": 93,
     "metadata": {},
     "output_type": "execute_result"
    }
   ],
   "source": [
    "# query dataset for entry of highest retweet\n",
    "twitter_archive_master.query('retweet_count == 79515')[['timestamp', 'day_of_tweet']]"
   ]
  },
  {
   "cell_type": "markdown",
   "id": "4092617c",
   "metadata": {},
   "source": [
    "Comment:\n",
    "\n",
    "    June 18, 2016 which was a Saturday was the day with the most tweets"
   ]
  },
  {
   "cell_type": "markdown",
   "id": "387d5bc5",
   "metadata": {},
   "source": [
    "##### Computting day with lowest number of tweets"
   ]
  },
  {
   "cell_type": "code",
   "execution_count": 94,
   "id": "cf4d4843",
   "metadata": {},
   "outputs": [
    {
     "data": {
      "text/plain": [
       "16"
      ]
     },
     "execution_count": 94,
     "metadata": {},
     "output_type": "execute_result"
    }
   ],
   "source": [
    "# compute minimum retweet_count\n",
    "twitter_archive_master['retweet_count'].min()"
   ]
  },
  {
   "cell_type": "code",
   "execution_count": 95,
   "id": "8d3cd266",
   "metadata": {
    "scrolled": true
   },
   "outputs": [
    {
     "data": {
      "text/html": [
       "<div>\n",
       "<style scoped>\n",
       "    .dataframe tbody tr th:only-of-type {\n",
       "        vertical-align: middle;\n",
       "    }\n",
       "\n",
       "    .dataframe tbody tr th {\n",
       "        vertical-align: top;\n",
       "    }\n",
       "\n",
       "    .dataframe thead th {\n",
       "        text-align: right;\n",
       "    }\n",
       "</style>\n",
       "<table border=\"1\" class=\"dataframe\">\n",
       "  <thead>\n",
       "    <tr style=\"text-align: right;\">\n",
       "      <th></th>\n",
       "      <th>timestamp</th>\n",
       "      <th>day_of_tweet</th>\n",
       "    </tr>\n",
       "  </thead>\n",
       "  <tbody>\n",
       "    <tr>\n",
       "      <th>1977</th>\n",
       "      <td>2015-11-16 03:55:04+00:00</td>\n",
       "      <td>Monday</td>\n",
       "    </tr>\n",
       "  </tbody>\n",
       "</table>\n",
       "</div>"
      ],
      "text/plain": [
       "                     timestamp day_of_tweet\n",
       "1977 2015-11-16 03:55:04+00:00       Monday"
      ]
     },
     "execution_count": 95,
     "metadata": {},
     "output_type": "execute_result"
    }
   ],
   "source": [
    "# query dataset for entry of lowest retweet\n",
    "twitter_archive_master.query('retweet_count == 16')[['timestamp', 'day_of_tweet']]"
   ]
  },
  {
   "cell_type": "markdown",
   "id": "269ab242",
   "metadata": {},
   "source": [
    "Comment:\n",
    "\n",
    "    November 16, 2015 which was a Monday was the day with the least recorded tweets"
   ]
  },
  {
   "cell_type": "markdown",
   "id": "e1ebbe1a",
   "metadata": {},
   "source": [
    " "
   ]
  },
  {
   "cell_type": "markdown",
   "id": "136f7e18",
   "metadata": {},
   "source": [
    "#### 6. On which day was a tweet liked or loved the most?"
   ]
  },
  {
   "cell_type": "code",
   "execution_count": 96,
   "id": "a498e387",
   "metadata": {},
   "outputs": [
    {
     "data": {
      "text/plain": [
       "132810"
      ]
     },
     "execution_count": 96,
     "metadata": {},
     "output_type": "execute_result"
    }
   ],
   "source": [
    "# copmute highest favorite count\n",
    "twitter_archive_master['favorite_count'].max()"
   ]
  },
  {
   "cell_type": "code",
   "execution_count": 97,
   "id": "95c68d46",
   "metadata": {
    "scrolled": true
   },
   "outputs": [
    {
     "data": {
      "text/html": [
       "<div>\n",
       "<style scoped>\n",
       "    .dataframe tbody tr th:only-of-type {\n",
       "        vertical-align: middle;\n",
       "    }\n",
       "\n",
       "    .dataframe tbody tr th {\n",
       "        vertical-align: top;\n",
       "    }\n",
       "\n",
       "    .dataframe thead th {\n",
       "        text-align: right;\n",
       "    }\n",
       "</style>\n",
       "<table border=\"1\" class=\"dataframe\">\n",
       "  <thead>\n",
       "    <tr style=\"text-align: right;\">\n",
       "      <th></th>\n",
       "      <th>timestamp</th>\n",
       "      <th>day_of_tweet</th>\n",
       "    </tr>\n",
       "  </thead>\n",
       "  <tbody>\n",
       "    <tr>\n",
       "      <th>309</th>\n",
       "      <td>2017-01-21 18:26:02+00:00</td>\n",
       "      <td>Saturday</td>\n",
       "    </tr>\n",
       "  </tbody>\n",
       "</table>\n",
       "</div>"
      ],
      "text/plain": [
       "                    timestamp day_of_tweet\n",
       "309 2017-01-21 18:26:02+00:00     Saturday"
      ]
     },
     "execution_count": 97,
     "metadata": {},
     "output_type": "execute_result"
    }
   ],
   "source": [
    "# find date and day of week in which highest favourite count was recorded\n",
    "twitter_archive_master.query('favorite_count == 132810')[['timestamp', 'day_of_tweet']]"
   ]
  },
  {
   "cell_type": "markdown",
   "id": "bb12c490",
   "metadata": {},
   "source": [
    "Comment:\n",
    "\n",
    "    Saturday, the 21st of January 2017 had the most recorded likes for a tweet"
   ]
  },
  {
   "cell_type": "markdown",
   "id": "60c0af0b",
   "metadata": {},
   "source": [
    " "
   ]
  },
  {
   "cell_type": "markdown",
   "id": "c966b830",
   "metadata": {},
   "source": [
    "#### 7. What is the favorite_counts distribution over days?"
   ]
  },
  {
   "cell_type": "code",
   "execution_count": 98,
   "id": "be2ededc",
   "metadata": {},
   "outputs": [],
   "source": [
    "# group the dataset by dates from the timestamp column and sum their respective count of likes\n",
    "tweets_dates = twitter_archive_master.groupby(twitter_archive_master['timestamp'].dt.date).sum('favorite_count')"
   ]
  },
  {
   "cell_type": "code",
   "execution_count": 99,
   "id": "bca1cf55",
   "metadata": {},
   "outputs": [],
   "source": [
    "# create a dataframe from the grouped dataset above\n",
    "tweets_dates = pd.DataFrame(tweets_dates)"
   ]
  },
  {
   "cell_type": "markdown",
   "id": "43b4a115",
   "metadata": {},
   "source": [
    "##### Plotting line graph of the grouped dataset"
   ]
  },
  {
   "cell_type": "code",
   "execution_count": 100,
   "id": "5fbcaa04",
   "metadata": {},
   "outputs": [
    {
     "data": {
      "image/png": "[encoded data removed]",
      "text/plain": [
       "<Figure size 1368x504 with 1 Axes>"
      ]
     },
     "metadata": {},
     "output_type": "display_data"
    }
   ],
   "source": [
    "# set figure size\n",
    "plt.figure(figsize=(19,7))\n",
    "# plot line chart using seabor n library\n",
    "sns.lineplot(x = tweets_dates.index, y = tweets_dates['favorite_count'])\n",
    "# set chart title\n",
    "plt.title('Favorite Count vrs Date of Tweet', fontsize=22)\n",
    "# set x_axis label\n",
    "plt.xlabel('Date of Tweet', fontsize=15)\n",
    "# set y_axis label\n",
    "plt.ylabel('Favorite Count', fontsize=15);"
   ]
  },
  {
   "cell_type": "markdown",
   "id": "ad45e14f",
   "metadata": {},
   "source": [
    " Comment:\n",
    " \n",
    "     The chart reveals that most of the tweet likes recorded were from September 2016 and beyond"
   ]
  },
  {
   "cell_type": "markdown",
   "id": "793f8963",
   "metadata": {},
   "source": [
    " "
   ]
  },
  {
   "cell_type": "markdown",
   "id": "c256a1cf",
   "metadata": {},
   "source": [
    "#### 8. What is the most given dog name among the declared names in the dataset?"
   ]
  },
  {
   "cell_type": "code",
   "execution_count": 101,
   "id": "b864a653",
   "metadata": {
    "scrolled": false
   },
   "outputs": [
    {
     "data": {
      "text/plain": [
       "Charlie       11\n",
       "Lucy          10\n",
       "Oliver        10\n",
       "Cooper        10\n",
       "Tucker         9\n",
       "              ..\n",
       "Kota           1\n",
       "Leela          1\n",
       "Glenn          1\n",
       "Shelby         1\n",
       "Christoper     1\n",
       "Name: name, Length: 910, dtype: int64"
      ]
     },
     "execution_count": 101,
     "metadata": {},
     "output_type": "execute_result"
    }
   ],
   "source": [
    "# finding most given dog name among the declared names\n",
    "twitter_archive_master['name'].value_counts()"
   ]
  },
  {
   "cell_type": "markdown",
   "id": "ffb88987",
   "metadata": {},
   "source": [
    "Comment:\n",
    "\n",
    "    The most given dog name is Charlie closely followed by Lucy, Oliver and Cooper"
   ]
  },
  {
   "cell_type": "markdown",
   "id": "3a457eac",
   "metadata": {},
   "source": [
    " "
   ]
  },
  {
   "cell_type": "markdown",
   "id": "b5a1c6cb",
   "metadata": {},
   "source": [
    "#### 9. What is the percentage of dog stage that were not declared?"
   ]
  },
  {
   "cell_type": "code",
   "execution_count": 102,
   "id": "495d352c",
   "metadata": {},
   "outputs": [
    {
     "data": {
      "text/plain": [
       "84.65"
      ]
     },
     "execution_count": 102,
     "metadata": {},
     "output_type": "execute_result"
    }
   ],
   "source": [
    "# Finding the percentage of dogs whose stage were not declared rounded to two decimal places\n",
    "round((twitter_archive_master['dog_stage'].isnull().sum() / twitter_archive_master['tweet_id'].count())*100,2)"
   ]
  },
  {
   "cell_type": "markdown",
   "id": "4013a15f",
   "metadata": {},
   "source": [
    "Comment:\n",
    "     \n",
    "     Approxiamtely 84.7 % of all dogs had their stage not declared. This could be that the owners are ignorant of the dog\n",
    "     stages or they just decided not to state. If the later is true, then tweets wuthors could be encoureaged to state the\n",
    "     stage of their dog but if the former is the case, then a strategy could be deployed to educate dog owners / tweet \n",
    "     uthors on the various stages of a dog's life."
   ]
  },
  {
   "cell_type": "code",
   "execution_count": null,
   "id": "09db7440",
   "metadata": {},
   "outputs": [],
   "source": []
  }
 ],
 "metadata": {
  "kernelspec": {
   "display_name": "Python 3 (ipykernel)",
   "language": "python",
   "name": "python3"
  },
  "language_info": {
   "codemirror_mode": {
    "name": "ipython",
    "version": 3
   },
   "file_extension": ".py",
   "mimetype": "text/x-python",
   "name": "python",
   "nbconvert_exporter": "python",
   "pygments_lexer": "ipython3",
   "version": "3.9.12"
  }
 },
 "nbformat": 4,
 "nbformat_minor": 5
}
